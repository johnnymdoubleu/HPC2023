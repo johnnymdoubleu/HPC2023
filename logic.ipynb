{
  "cells": [
    {
      "cell_type": "markdown",
      "metadata": {},
      "source": [
        "# Tutorial 1: Logic and numbers"
      ]
    },
    {
      "cell_type": "markdown",
      "metadata": {
        "id": "vy3HzEP_a-Dh"
      },
      "source": [
        "## The decimal system"
      ]
    },
    {
      "cell_type": "markdown",
      "metadata": {
        "id": "A6OU2yGNa-Di"
      },
      "source": [
        "$$\n",
        "\\large \n",
        "x = \\lim_{D\\to \\infty}\\ \\sum_{i=-D}^{D} d_i 10^{i},\n",
        "$$\n",
        "\n",
        "with \n",
        "\n",
        "$$\n",
        "\\large d_{i} \\in \\{0,1,2,3,4,5,6,7,8,9\\}.\n",
        "$$"
      ]
    },
    {
      "cell_type": "markdown",
      "metadata": {
        "id": "Y8ODRCLra-Di"
      },
      "source": [
        "Notice that I took the limit as the range of terms $[-D,+D]$ goes to $\\infty$. \n",
        "This is becuase we can't really ever get everything in one place. \n",
        "\n",
        "The Decimal system is just one more way of looking at sequences of rational numbers. \n",
        "And we know there are some drawbacks to this.  \n",
        "Numbers like $1/3$ have decimal representations that go on repeating forever. \n",
        "If you want to represent $1/3$ exactly you need to use a base-3 system. \n",
        "\n",
        "But we still need to calculate with numbers like $\\pi$ and $1/3$.\n",
        "But we cannot fit them in our finite computers. \n",
        "This leads to one of the two main sources of error in computations. \n"
      ]
    },
    {
      "cell_type": "markdown",
      "metadata": {
        "id": "vn2ERlq0a-Dj"
      },
      "source": [
        "## The binary system \n",
        "Virtually every computer uses binary to store numbers. \n",
        "A binary number system uses only two values, canonically 0 and 1, in each digit, \n",
        "as opposed to the ten we use in decimal. \n",
        "Very briefly, here is a short table showing the conversion of the first ten integers from decimal to binary:\n",
        "\n",
        "|Decimal|Binary|\n",
        "|-------|------|\n",
        "|00|0000|\n",
        "|01|0001|\n",
        "|02|0010|\n",
        "|03|0011|\n",
        "|04|0100|\n",
        "|05|0101|\n",
        "|06|0110|\n",
        "|07|0111|\n",
        "|08|1000|\n",
        "|09|1001|\n",
        "|10|1010|\n",
        "\n",
        "Each digit of the binary number is called a \"bit\" (\"binary digit\"). \n",
        "Thus, the bit is the smallest unit of computer memory. One \"byte\" is 8 bits. \n",
        "\n",
        "Just as an arbitrary number can be written in decimal, an arbitrary number can be written in binary as \n",
        "\n",
        "$$\\large x = \\lim_{B\\to\\infty}\\  \\sum_{i=-B}^{B} b_i 2^{i},$$\n",
        "\n",
        "Where now\n",
        "\n",
        "$$\\large b_{i} \\in \\{0,1\\}.$$\n"
      ]
    },
    {
      "cell_type": "markdown",
      "metadata": {
        "id": "NEbCX9YSa-Dj"
      },
      "source": [
        "Decimal and binary system (and all other integer-base systems) have the nice property that they are (almost) \"unique\". \n",
        "That is if any two numbers have the same binary or decimal expansions, then they are the same number.\n",
        "\n",
        "There is one important exception to this. In decimal, the number \n",
        "\n",
        "$$\\large u =  0.9999999999999999999\\ (\\mathrm{repeating})$$\n",
        "\n",
        "is not it's own number. This number is equal to $u=1$. In binary the same is true for\n",
        "\n",
        "$$\\large u = 0.11111111111111111 \\ (\\mathrm{repeating}).$$\n",
        "\n",
        "There are a lot of clever ways to prove these. "
      ]
    },
    {
      "cell_type": "markdown",
      "metadata": {
        "id": "zK8cGhURa-Dj"
      },
      "source": [
        "<br>"
      ]
    },
    {
      "cell_type": "markdown",
      "metadata": {
        "id": "V-_yMDGRa-Dk"
      },
      "source": [
        "## Experimenting with Booleans and binary:"
      ]
    },
    {
      "cell_type": "markdown",
      "metadata": {
        "id": "-oNL8H7Ta-Dk"
      },
      "source": [
        "### Boolean variables."
      ]
    },
    {
      "cell_type": "code",
      "execution_count": null,
      "metadata": {
        "id": "pKZkaTr1a-Dk"
      },
      "outputs": [],
      "source": [
        "T,F = True, False\n",
        "x,y = 1, 0"
      ]
    },
    {
      "cell_type": "markdown",
      "metadata": {
        "id": "bovGohyEa-Dk"
      },
      "source": [
        "### Not"
      ]
    },
    {
      "cell_type": "code",
      "execution_count": null,
      "metadata": {
        "colab": {
          "base_uri": "https://localhost:8080/"
        },
        "id": "rsI_zQQba-Dl",
        "outputId": "4228ed92-2a67-4f28-bac9-e90ec8ca8ef9"
      },
      "outputs": [
        {
          "name": "stdout",
          "output_type": "stream",
          "text": [
            "False\n",
            "True\n"
          ]
        }
      ],
      "source": [
        "print(not T)\n",
        "print(not F)"
      ]
    },
    {
      "cell_type": "code",
      "execution_count": null,
      "metadata": {
        "colab": {
          "base_uri": "https://localhost:8080/"
        },
        "id": "cFbvDGCMa-Dl",
        "outputId": "37b37f82-0d62-45f8-84d3-cd8f183cbab9"
      },
      "outputs": [
        {
          "name": "stdout",
          "output_type": "stream",
          "text": [
            "0\n",
            "1\n"
          ]
        }
      ],
      "source": [
        "print(1-x)\n",
        "print(1-y)"
      ]
    },
    {
      "cell_type": "markdown",
      "metadata": {
        "id": "0oIyQzLRa-Dl"
      },
      "source": [
        "### And"
      ]
    },
    {
      "cell_type": "code",
      "execution_count": null,
      "metadata": {
        "colab": {
          "base_uri": "https://localhost:8080/"
        },
        "id": "8Ke6-Bm5a-Dl",
        "outputId": "dcd7abc2-671a-4451-d989-83717d9a3a3b"
      },
      "outputs": [
        {
          "name": "stdout",
          "output_type": "stream",
          "text": [
            "True\n",
            "False\n",
            "False\n"
          ]
        }
      ],
      "source": [
        "print(T and T)\n",
        "print(T and F)\n",
        "print(F and F)"
      ]
    },
    {
      "cell_type": "code",
      "execution_count": null,
      "metadata": {
        "colab": {
          "base_uri": "https://localhost:8080/"
        },
        "id": "5SWFjU8Ga-Dm",
        "outputId": "5ec4f1d4-82d9-41aa-c4e0-1d0812d03d10"
      },
      "outputs": [
        {
          "name": "stdout",
          "output_type": "stream",
          "text": [
            "1\n",
            "0\n",
            "0\n"
          ]
        }
      ],
      "source": [
        "print(min(x,x))\n",
        "print(min(x,y))\n",
        "print(min(y,y))"
      ]
    },
    {
      "cell_type": "code",
      "execution_count": null,
      "metadata": {
        "colab": {
          "base_uri": "https://localhost:8080/"
        },
        "id": "0TR-eo1Ea-Dm",
        "outputId": "8a58f789-3615-4719-e9d6-476c069b1054"
      },
      "outputs": [
        {
          "name": "stdout",
          "output_type": "stream",
          "text": [
            "1\n",
            "0\n",
            "0\n"
          ]
        }
      ],
      "source": [
        "print(x * x)\n",
        "print(x * y)\n",
        "print(y * y)"
      ]
    },
    {
      "cell_type": "markdown",
      "metadata": {
        "id": "5-3Zo8Qca-Dm"
      },
      "source": [
        "### Or"
      ]
    },
    {
      "cell_type": "code",
      "execution_count": null,
      "metadata": {
        "colab": {
          "base_uri": "https://localhost:8080/"
        },
        "id": "iPzMhba_a-Dm",
        "outputId": "8920e881-b4f9-45ce-8d25-d398ce8f0886"
      },
      "outputs": [
        {
          "name": "stdout",
          "output_type": "stream",
          "text": [
            "True\n",
            "True\n",
            "False\n"
          ]
        }
      ],
      "source": [
        "print(T or T)\n",
        "print(T or F)\n",
        "print(F or F)"
      ]
    },
    {
      "cell_type": "code",
      "execution_count": null,
      "metadata": {
        "colab": {
          "base_uri": "https://localhost:8080/"
        },
        "id": "CIlkhD-2a-Dn",
        "outputId": "7fa2c174-90d1-42b3-a22d-b6a4311e1d43"
      },
      "outputs": [
        {
          "name": "stdout",
          "output_type": "stream",
          "text": [
            "1\n",
            "1\n",
            "0\n"
          ]
        }
      ],
      "source": [
        "print(max(x,x))\n",
        "print(max(x,y))\n",
        "print(max(y,y))"
      ]
    },
    {
      "cell_type": "code",
      "execution_count": null,
      "metadata": {
        "colab": {
          "base_uri": "https://localhost:8080/"
        },
        "id": "DDtL7Q1Ja-Dn",
        "outputId": "3bc935d5-573d-4c48-9988-d95709b69988"
      },
      "outputs": [
        {
          "name": "stdout",
          "output_type": "stream",
          "text": [
            "1\n",
            "1\n",
            "0\n"
          ]
        }
      ],
      "source": [
        "print(x + x  -  x * x)\n",
        "print(x + y  -  x * y)\n",
        "print(y + y  -  y * y)"
      ]
    },
    {
      "cell_type": "markdown",
      "metadata": {
        "id": "mXYvgymja-Dn"
      },
      "source": [
        "### Xor \"One or the other, but not both.\""
      ]
    },
    {
      "cell_type": "code",
      "execution_count": null,
      "metadata": {
        "id": "4B8NU0C2a-Dn"
      },
      "outputs": [],
      "source": [
        "def xor(a,b):\n",
        "    return (a or b) and ((not a) or (not b))"
      ]
    },
    {
      "cell_type": "code",
      "execution_count": null,
      "metadata": {
        "colab": {
          "base_uri": "https://localhost:8080/"
        },
        "id": "ia3UlLWBa-Dn",
        "outputId": "305d7ac2-8397-4bce-de06-1f1044496707"
      },
      "outputs": [
        {
          "name": "stdout",
          "output_type": "stream",
          "text": [
            "False\n",
            "True\n",
            "False\n"
          ]
        }
      ],
      "source": [
        "print(xor(T,T))\n",
        "print(xor(T,F))\n",
        "print(xor(F,F))"
      ]
    },
    {
      "cell_type": "markdown",
      "metadata": {
        "id": "iw3y4zeTa-Do"
      },
      "source": [
        "### mod = %"
      ]
    },
    {
      "cell_type": "code",
      "execution_count": null,
      "metadata": {
        "colab": {
          "base_uri": "https://localhost:8080/"
        },
        "id": "oJZWceQ_a-Do",
        "outputId": "c13930a5-03b1-4ed4-b521-dcc9e7ae3cf1"
      },
      "outputs": [
        {
          "name": "stdout",
          "output_type": "stream",
          "text": [
            "0 0\n",
            "1 1\n",
            "2 0\n",
            "3 1\n",
            "4 0\n",
            "5 1\n"
          ]
        }
      ],
      "source": [
        "p=2\n",
        "for n in range(6):\n",
        "    print(n,n % p)"
      ]
    },
    {
      "cell_type": "code",
      "execution_count": null,
      "metadata": {
        "colab": {
          "base_uri": "https://localhost:8080/"
        },
        "id": "M0spIBGla-Do",
        "outputId": "38f5a5ee-6283-4969-aeae-5489be043c80"
      },
      "outputs": [
        {
          "name": "stdout",
          "output_type": "stream",
          "text": [
            "0\n",
            "1\n",
            "0\n"
          ]
        }
      ],
      "source": [
        "print((x + x) % 2)\n",
        "print((x + y) % 2)\n",
        "print((y + y) % 2)"
      ]
    },
    {
      "cell_type": "markdown",
      "metadata": {
        "id": "Ej8CaEuza-Do"
      },
      "source": [
        "### Is anything missing?"
      ]
    },
    {
      "cell_type": "code",
      "execution_count": null,
      "metadata": {
        "colab": {
          "base_uri": "https://localhost:8080/"
        },
        "id": "spSGW6TRa-Do",
        "outputId": "30385b95-af28-4807-b1ea-41abe1443fe1"
      },
      "outputs": [
        {
          "name": "stdout",
          "output_type": "stream",
          "text": [
            "True\n",
            "False\n",
            "True\n"
          ]
        }
      ],
      "source": [
        "print(T==T)\n",
        "print(T==F)\n",
        "print(F==F)"
      ]
    },
    {
      "cell_type": "code",
      "execution_count": null,
      "metadata": {
        "id": "njokg6Es7e87"
      },
      "outputs": [],
      "source": [
        "def eq(a,b):\n",
        "    return not xor(a,b)"
      ]
    },
    {
      "cell_type": "code",
      "execution_count": null,
      "metadata": {
        "colab": {
          "base_uri": "https://localhost:8080/"
        },
        "id": "o687jeGb7jTE",
        "outputId": "c62bf743-a322-4c96-c969-6db5fbbb2e43"
      },
      "outputs": [
        {
          "name": "stdout",
          "output_type": "stream",
          "text": [
            "True\n",
            "False\n",
            "True\n"
          ]
        }
      ],
      "source": [
        "print(eq(T,T))\n",
        "print(eq(T,F))\n",
        "print(eq(F,F))"
      ]
    },
    {
      "cell_type": "markdown",
      "metadata": {
        "id": "7Kyv6SjKa-Do"
      },
      "source": [
        "## Binary\n",
        "\n",
        "`numpy` provides a function (`np.binary_repr()`) to convert *integers* into their binary representations. \n",
        "Let's practice a bit by using it. \n",
        "Try changing $n$ below. \n",
        "Try a bunch of numbers to get a feel for how binary works. "
      ]
    },
    {
      "cell_type": "code",
      "execution_count": null,
      "metadata": {
        "id": "IadfV6nsa-Dp"
      },
      "outputs": [],
      "source": [
        "import numpy as np\n",
        "\n",
        "bits   = 16\n",
        "binary = lambda n: np.binary_repr(n,width=bits)"
      ]
    },
    {
      "cell_type": "markdown",
      "metadata": {
        "id": "5wKUhKCza-Dp"
      },
      "source": [
        "A simple helper function to make it easier to `print` binary numbers:"
      ]
    },
    {
      "cell_type": "code",
      "execution_count": null,
      "metadata": {
        "id": "YYE7vPoUa-Dp"
      },
      "outputs": [],
      "source": [
        "def show(*args,line=2):\n",
        "    for i,a in enumerate(args):\n",
        "        if i == line:\n",
        "            print(bits*'-')\n",
        "        print(binary(a))"
      ]
    },
    {
      "cell_type": "code",
      "execution_count": null,
      "metadata": {
        "colab": {
          "base_uri": "https://localhost:8080/"
        },
        "id": "mi6OREpsa-Dp",
        "outputId": "4ed52b05-bd65-4eb2-d4ac-9f1fa1561e82"
      },
      "outputs": [
        {
          "name": "stdout",
          "output_type": "stream",
          "text": [
            "0000010011010010\n",
            "0000000001110101\n",
            "----------------\n",
            "0000010101000111\n"
          ]
        }
      ],
      "source": [
        "a,b = 1234,117\n",
        "show(a,b,a+b)"
      ]
    },
    {
      "cell_type": "markdown",
      "metadata": {
        "id": "kdH2dGi0a-Dp"
      },
      "source": [
        "### Bitwise: Not ( ~ ), And ( & ), Or ( | ), Xor ( ^ )"
      ]
    },
    {
      "cell_type": "code",
      "execution_count": null,
      "metadata": {
        "colab": {
          "base_uri": "https://localhost:8080/",
          "height": 54
        },
        "id": "hVZDLOH3a-Dp",
        "outputId": "1aec3477-07d8-432f-b241-480a93162018"
      },
      "outputs": [
        {
          "name": "stdout",
          "output_type": "stream",
          "text": [
            "1234 -1235\n"
          ]
        },
        {
          "data": {
            "application/vnd.google.colaboratory.intrinsic+json": {
              "type": "string"
            },
            "text/plain": [
              "'-10011010011'"
            ]
          },
          "execution_count": 32,
          "metadata": {},
          "output_type": "execute_result"
        }
      ],
      "source": [
        "print(a,~a)\n",
        "np.binary_repr(~a)"
      ]
    },
    {
      "cell_type": "code",
      "execution_count": null,
      "metadata": {
        "colab": {
          "base_uri": "https://localhost:8080/"
        },
        "id": "6FEOv9rYa-Dp",
        "outputId": "452463b8-5c4a-48f2-db6b-0cdd02000881"
      },
      "outputs": [
        {
          "name": "stdout",
          "output_type": "stream",
          "text": [
            "0000010011010010\n",
            "1111101100101101\n"
          ]
        }
      ],
      "source": [
        "show(a,~a)"
      ]
    },
    {
      "cell_type": "code",
      "execution_count": null,
      "metadata": {
        "colab": {
          "base_uri": "https://localhost:8080/"
        },
        "id": "qX72qItoa-Dp",
        "outputId": "e8f7d636-510a-4fc2-ab47-7f75ec2ac1c9"
      },
      "outputs": [
        {
          "name": "stdout",
          "output_type": "stream",
          "text": [
            "80\n",
            "0000010011010010\n",
            "0000000001110101\n",
            "----------------\n",
            "0000000001010000\n"
          ]
        }
      ],
      "source": [
        "print(a&b)\n",
        "show( a, b, a & b )"
      ]
    },
    {
      "cell_type": "code",
      "execution_count": null,
      "metadata": {
        "colab": {
          "base_uri": "https://localhost:8080/"
        },
        "id": "a3V4YsnHa-Dp",
        "outputId": "0760a40b-c1c6-42fa-aa1a-14a66c5c74e4"
      },
      "outputs": [
        {
          "name": "stdout",
          "output_type": "stream",
          "text": [
            "1271\n",
            "0000010011010010\n",
            "0000000001110101\n",
            "----------------\n",
            "0000010011110111\n"
          ]
        }
      ],
      "source": [
        "print(a|b)\n",
        "show( a, b, a | b )"
      ]
    },
    {
      "cell_type": "code",
      "execution_count": null,
      "metadata": {
        "colab": {
          "base_uri": "https://localhost:8080/"
        },
        "id": "Wf_Zmyd_a-Dp",
        "outputId": "1028b40c-af19-4bb5-80ef-5b0254c4bb53"
      },
      "outputs": [
        {
          "name": "stdout",
          "output_type": "stream",
          "text": [
            "1191\n",
            "0000010011010010\n",
            "0000000001110101\n",
            "----------------\n",
            "0000010010100111\n"
          ]
        }
      ],
      "source": [
        "print(a^b)\n",
        "show( a, b, a ^ b )"
      ]
    },
    {
      "cell_type": "markdown",
      "metadata": {
        "id": "IQXYwawra-Dp"
      },
      "source": [
        "### Shift ( << ) , ( >> )"
      ]
    },
    {
      "cell_type": "code",
      "execution_count": null,
      "metadata": {
        "colab": {
          "base_uri": "https://localhost:8080/"
        },
        "id": "5NjLecCwa-Dq",
        "outputId": "0de7c237-fc3d-4615-b672-cf39b2fdeb4d"
      },
      "outputs": [
        {
          "name": "stdout",
          "output_type": "stream",
          "text": [
            "12 24 6\n",
            "0000000000001100\n",
            "----------------\n",
            "0000000000011000\n",
            "0000000000000110\n"
          ]
        }
      ],
      "source": [
        "n,shift = 12, 1\n",
        "print(n,n<<shift,n>>shift)\n",
        "show(n,n<<shift,n>>shift,line=1)"
      ]
    },
    {
      "cell_type": "markdown",
      "metadata": {
        "id": "EjpTmyQ2a-Dq"
      },
      "source": [
        "### Add"
      ]
    },
    {
      "cell_type": "code",
      "execution_count": null,
      "metadata": {
        "id": "n8FQOHYva-Dq"
      },
      "outputs": [],
      "source": [
        "def add(a,b):\n",
        "    if b == 0:\n",
        "        return a\n",
        "    return add(a^b , (a & b) << 1)"
      ]
    },
    {
      "cell_type": "code",
      "execution_count": null,
      "metadata": {
        "colab": {
          "base_uri": "https://localhost:8080/"
        },
        "id": "RM9GswRNa-Dq",
        "outputId": "43e77ec3-f26b-408d-94fc-39c15047bfa1"
      },
      "outputs": [
        {
          "name": "stdout",
          "output_type": "stream",
          "text": [
            "1351 1351\n",
            "0000010011010010\n",
            "0000000001110101\n",
            "----------------\n",
            "0000010101000111\n"
          ]
        }
      ],
      "source": [
        "print(a+b,add(a,b))\n",
        "show(a,b,add(a,b))"
      ]
    },
    {
      "cell_type": "code",
      "execution_count": null,
      "metadata": {
        "colab": {
          "base_uri": "https://localhost:8080/"
        },
        "id": "1S1f5IzAa-Dq",
        "outputId": "5fe29fbc-cbb5-4876-a1de-968135940658"
      },
      "outputs": [
        {
          "name": "stdout",
          "output_type": "stream",
          "text": [
            "14.5 ns ± 0.157 ns per loop (mean ± std. dev. of 7 runs, 100000000 loops each)\n"
          ]
        }
      ],
      "source": [
        "%timeit 1+2"
      ]
    },
    {
      "cell_type": "code",
      "execution_count": null,
      "metadata": {
        "colab": {
          "base_uri": "https://localhost:8080/"
        },
        "id": "qfEkQ7DYa-Dq",
        "outputId": "5d5d6c16-89ab-4581-cbc4-d84aaf01cb08"
      },
      "outputs": [
        {
          "name": "stdout",
          "output_type": "stream",
          "text": [
            "75.3 ns ± 3.02 ns per loop (mean ± std. dev. of 7 runs, 10000000 loops each)\n"
          ]
        }
      ],
      "source": [
        "%timeit a+b"
      ]
    },
    {
      "cell_type": "code",
      "execution_count": null,
      "metadata": {
        "colab": {
          "base_uri": "https://localhost:8080/"
        },
        "id": "PR4mr09Oa-Dq",
        "outputId": "5808c931-3b1a-4296-ff54-b4e8b7f856bc"
      },
      "outputs": [
        {
          "name": "stdout",
          "output_type": "stream",
          "text": [
            "337 ns ± 8.08 ns per loop (mean ± std. dev. of 7 runs, 1000000 loops each)\n"
          ]
        }
      ],
      "source": [
        "%timeit add(1,2)"
      ]
    },
    {
      "cell_type": "code",
      "execution_count": null,
      "metadata": {
        "colab": {
          "base_uri": "https://localhost:8080/"
        },
        "id": "SDO4qlcVa-Dq",
        "outputId": "5b324a26-779e-41ad-fc55-63722cd29a00"
      },
      "outputs": [
        {
          "name": "stdout",
          "output_type": "stream",
          "text": [
            "844 ns ± 9.27 ns per loop (mean ± std. dev. of 7 runs, 1000000 loops each)\n"
          ]
        }
      ],
      "source": [
        "%timeit add(a,b)"
      ]
    },
    {
      "cell_type": "markdown",
      "metadata": {
        "id": "h3qnoVyoa-Dq"
      },
      "source": [
        "<br>"
      ]
    },
    {
      "cell_type": "markdown",
      "metadata": {
        "id": "0D9KhpK8a-Dq"
      },
      "source": [
        "## Floating Point Numbers\n",
        "\n",
        "In genearl, we need to work with computer representations of real numbers: \n",
        "adding, subtracting, dividing, and multiplying. \n",
        "\n",
        "For example, the observable physical universe covers a huge range of scales. One of the smallest measured quantities is the size of a proton.\n",
        "\n",
        "$$\n",
        "\\large L_{\\text{proton}} \\approx 10^{-15}\\ \\mathrm{m}\n",
        "$$\n",
        "\n",
        "In the other direction the size of the whole universe\n",
        "\n",
        "$$\n",
        "\\large L_{\\text{universe}} \\approx 10^{27}\\ \\mathrm{m}\n",
        "$$\n",
        "\n",
        "The ratio of these scales is \n",
        "\n",
        "$$\n",
        "\\large \\frac{L_{\\text{universe}}}{L_{\\text{proton}}} \\ \\approx \\ 10^{42} \\ = \\ 1\\,000\\,000\\,000\\,000\\,000\\,000\\,000\\,000\\,000\\,000\\,000\\,000\\,000\\,000\n",
        "$$\n",
        "\n",
        "This number is impossible to comprehend. But computers can cope with numbers of this size quite easily. In fact, *we* can compute numbers of this size quite easily ***provided we don't care 100% about accuracy***.\n",
        "\n",
        "### Scientific notation.\n",
        "\n",
        "A computer could keep track of all of the above 43 digits. But this would be (A) slow and (B) unnecessary. We've already used the solution. It's that we keep track of the \n",
        "\n",
        "In order to cover quantities over a large ***dynamic range***, we typically use scientific notation in our paper-and-pencil work, and computers do very much the same thing. The only tricky part is that the number, which we like to represent in decimal form, is stored in binary. \n",
        "\n",
        "Let's analyze scientific notation. \n",
        "Take an interesting small number. \n",
        "\n",
        "\n",
        "For example, the charge of a single electron is (*exactly*) \n",
        "\n",
        "$$\n",
        "\\large q \\ \\equiv \\  - 1.602176634 \\times 10^{-19}\\,  \\text{Coulomb}\n",
        "$$\n",
        "\n",
        "This is *exact* because a group of serious people got together and *defined* the charge of the electron this way. It really defines the Coulomb unit. As an interesting historical fact, the charge is negative because Benjamin Franklin defined the convection based on a guess. A lot in physics would be easier if he'd done it the other way.\n",
        "\n",
        "We can write this schematically as \n",
        "\n",
        "$$\n",
        "\\large \n",
        "\\frac{q}{\\text{Coulomb}}\\  = \\  (-1)^S\\ M\\ \\times 10^E,\n",
        "$$\n",
        "\n",
        "where \n",
        "$$\n",
        "\\large S \\ = \\ 1 \\   = \\  \\textit{sign}\n",
        "$$\n",
        "\n",
        "and\n",
        "\n",
        "$$\n",
        "\\large M  \\ = \\ 1.602176634 \\   = \\  \\textit{mantissa} \\quad \\text{a.k.a.} \\quad \\textit{significand} \n",
        "$$\n",
        "\n",
        "<br>\n",
        "\n",
        "$$\n",
        "\\large E  \\ = \\ -19 \\   = \\  \\textit{exponent} \n",
        "$$\n",
        " \n",
        "\n",
        "\n",
        "Of course, the computer stores the number $q$ in binary, and it doesn't keep track of the units (that's your job). \n",
        "\n",
        "So this number must be converted to something the computer can understand. \n",
        "\n",
        "\n",
        "We'll use the notation $N_{10}$ to mean a number $N$ in base 10, and $N_{2}$ to mean a number in base 2. \n",
        "For example \n",
        "\n",
        "$$\n",
        "\\large 10_{10} = 1010_{2}\n",
        "$$"
      ]
    },
    {
      "cell_type": "markdown",
      "metadata": {
        "id": "69z8I10Na-Dq"
      },
      "source": [
        "## IEEE 754\n",
        "\n",
        "https://en.wikipedia.org/wiki/IEEE_floating_point\n",
        "\n",
        "There are many ways of storing floating point numbers on a computer; \n",
        "we will only describe one: IEEE 754. \n",
        "This is the most widely used standard for representing these numbers. \n",
        "An IEEE 754 number is represented in the following way:\n",
        "\n",
        "$$\n",
        "\\large x = (-1)^S\\ 1.F\\ \\times 2^{E-B},\n",
        "$$\n",
        "\n",
        "where $s$ is the sign, $F$ is the ***fractional part*** of the mantissa (note that there is 1 in front), $E$ is the exponent of the number you want to represent, and $B$ is called the **bias**.\n",
        "\n",
        "### 64-bit numbers. \n",
        "\n",
        "IEEE 754 is a *standard* that allows storing numbers the same way on different computers. On most modern computer chips the CPU has what are called 64-bit registers. This is 64 (very fast) slots that can store either a $0$ or a $1$; something like the following \n",
        "\n",
        "    |1|1|0|0|0|0|1|0|0|0|1|0|0|0|0|1|1|1|1|0|1|0|1|0|1|0|0|1|0|1|0|1\n",
        "    |0|0|1|0|0|1|0|1|0|1|1|1|1|0|0|1|1|1|1|1|1|0|1|1|1|1|1|0|0|1|0|0|\n",
        "    \n",
        "    \n",
        "Of course, the 0s and 1s are actually little \"on\" or \"off\" transistors, but it doesn't matter what they are. They could be happy or sad garden gnomes. We could still compute with them. \n",
        "\n",
        "If we have 64 bits to store a number, then how should we break things up? Some of the details vary from chip to chip. But the basic idea is \n",
        "\n",
        "    Sign:         1 bit\n",
        "    \n",
        "    Significand: 53 bits\n",
        "    \n",
        "    Exponent:    10 bits\n",
        "    \n",
        "    \n",
        "    \n",
        "    \n",
        "Note that the total exponent stored in memory $E$  has no sign bit and is thus **always positive**. \n",
        "This explains the need for the bias: if we want to represent actual negative exponents \n",
        "\n",
        "$$\n",
        "\\large E - B < 0  \\quad \\implies \\quad    B>0\n",
        "$$. \n",
        "\n",
        "A floating-point number standard that can't hold the charge of an electron is not very useful. "
      ]
    },
    {
      "cell_type": "markdown",
      "metadata": {
        "id": "rSk6SKVZa-Dr"
      },
      "source": [
        "## 32- vs 64-bit. \n",
        "\n",
        "\n",
        "More than about 15 years ago, 32-bit registers were the default for CPUs. In the old system, when people said `float` they always meant 32-bit `float`. And when they meant 64-bit, they said `double`. That is because these numbers took two registers. \n",
        "\n",
        "Now almost all modern hardware has 64-bit registers. Some computing languages still use the old naming. \n",
        "\n",
        "* **`float` in Python means means 64-bit**\n",
        "\n",
        "\n",
        "\n",
        "* **`float32` is Python is the old \"single\"**\n",
        "\n",
        "\n",
        "\n",
        "* **`float128` is now requires two registers, and could be called \"double\".**\n",
        "\n",
        "\n",
        "Some numerical routines allow `float128` and some don't. But using it is slower, and almost always not needed. "
      ]
    },
    {
      "cell_type": "markdown",
      "metadata": {
        "id": "PB3rEPjXa-Dr"
      },
      "source": [
        "## Experimenting with binary numbers\n",
        "\n",
        "Convert a binary digit written as a string (that is, in quotes) prefaced with '0b' to decimal integers\n",
        "\n",
        "Play around with these expression and try to figure out what's happening"
      ]
    },
    {
      "cell_type": "code",
      "execution_count": null,
      "metadata": {
        "id": "zLf_dlnfa-Dr"
      },
      "outputs": [],
      "source": [
        "int('0b11111111',base=2) "
      ]
    },
    {
      "cell_type": "code",
      "execution_count": null,
      "metadata": {
        "id": "YJnE5jhZa-Dr"
      },
      "outputs": [],
      "source": [
        "int('0b00000000',base=2)"
      ]
    },
    {
      "cell_type": "code",
      "execution_count": null,
      "metadata": {
        "id": "vrkvKXTVa-Dr"
      },
      "outputs": [],
      "source": [
        "int('0b11111111111111111111111111111111111111111111111111111',base=2)*2**(-53)"
      ]
    },
    {
      "cell_type": "markdown",
      "metadata": {
        "id": "P9GEnJ6ba-Dr"
      },
      "source": [
        "**TASK 1:** Using the above information about the number of bits for each part of a 64-bit floating-point number, in the *decimal representation*, (A) calculate the range of largest (positive & negative); (B) the smallest non-zero (positive & negative) numbers you can represent; and (C) calculate the number of decimal digits of accuracy you can expect. "
      ]
    },
    {
      "cell_type": "code",
      "execution_count": null,
      "metadata": {
        "id": "Rn4TYdoUa-Dr"
      },
      "outputs": [],
      "source": []
    },
    {
      "cell_type": "markdown",
      "metadata": {
        "id": "2utrS5LEa-Dr"
      },
      "source": [
        "## Floating-point errors.\n",
        "\n",
        "There is a lot to say about this topic. Whole books have been written about it. \n",
        "\n",
        "Suppose you are solving something like the quadratic equation\n",
        "\n",
        "$$\n",
        "\\large a\\, x^{2} + b\\, x + c \\ = \\ 0 \\quad \\quad \\implies \\quad \\quad x \\ = \\ \\frac{-b \\pm \\sqrt{b^{2} - 4 a c }}{2 a}\n",
        "$$\n",
        "\n",
        "But if $a \\approx 0$, then we can neglect the leading-order coefficient and look as \n",
        "\n",
        "$$\n",
        "\\large b\\, x + c \\ \\approx \\ 0 \\quad \\quad \\implies \\quad \\quad x \\ \\approx \\ -\\frac{c}{b} \\quad \\quad \\text{(this is regular-sized})\n",
        "$$\n",
        "\n",
        "The other solutions (for small $a$) is \n",
        "\n",
        "$$\n",
        "\\large x \\ \\approx \\ -\\frac{b}{a} \\quad \\quad \\text{(this is} \\textit{ large}).\n",
        "$$\n",
        "\n"
      ]
    },
    {
      "cell_type": "markdown",
      "metadata": {
        "id": "dR8syHKha-Dr"
      },
      "source": [
        "**TASK 2**: Write a function that takes $a,b,c$ as arguments and gives back the answer *using the standard quadratic formula*.  Assume $a \\ne 0$. "
      ]
    },
    {
      "cell_type": "code",
      "execution_count": null,
      "metadata": {
        "id": "TZ6N_nCXa-Dr"
      },
      "outputs": [],
      "source": [
        "def quadratic_formula(a,b,c): \n",
        "    \n",
        "    # Your code here\n",
        "    \n",
        "    return x_plus, x_minus"
      ]
    },
    {
      "cell_type": "markdown",
      "metadata": {
        "id": "dTAarzUma-Ds"
      },
      "source": [
        "***Test this with values you know work to make sure it's giving the right answers.***"
      ]
    },
    {
      "cell_type": "code",
      "execution_count": null,
      "metadata": {
        "id": "iKB7jN3Sa-Ds"
      },
      "outputs": [],
      "source": []
    },
    {
      "cell_type": "markdown",
      "metadata": {
        "id": "QL1of8lua-Ds"
      },
      "source": [
        "**TASK 3**: Using parameters, $b=1$ and $c=-1$. Look at the solutions of the quadratic formula for \n",
        "\n",
        "$$\n",
        "\\large a \\ = \\ 2^{-n} \\quad \\text{where} \\quad n \\ge 1.\n",
        "$$\n",
        "\n",
        "Is there a big problem for one of the roots for some sufficiently large value of $n$? If so, why?\n"
      ]
    },
    {
      "cell_type": "markdown",
      "metadata": {
        "id": "9CZsFdl6a-Ds"
      },
      "source": [
        "<br>"
      ]
    }
  ],
  "metadata": {
    "colab": {
      "provenance": []
    },
    "kernelspec": {
      "display_name": "py39win64",
      "language": "python",
      "name": "python3"
    },
    "language_info": {
      "codemirror_mode": {
        "name": "ipython",
        "version": 3
      },
      "file_extension": ".py",
      "mimetype": "text/x-python",
      "name": "python",
      "nbconvert_exporter": "python",
      "pygments_lexer": "ipython3",
      "version": "3.9.13 (main, Aug 25 2022, 23:51:50) [MSC v.1916 64 bit (AMD64)]"
    },
    "vscode": {
      "interpreter": {
        "hash": "08ab014b106e404f4ff0a914feb7f5254ccf3596668d356204f942996a830d93"
      }
    }
  },
  "nbformat": 4,
  "nbformat_minor": 0
}
