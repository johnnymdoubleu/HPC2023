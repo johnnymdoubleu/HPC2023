{
  "cells": [
    {
      "attachments": {},
      "cell_type": "markdown",
      "id": "50f1feda",
      "metadata": {
        "id": "50f1feda"
      },
      "source": [
        "# Block matrices and emulated parallelism\n",
        "\n",
        "</br>\n",
        "</br>\n",
        "\n",
        "\n",
        "\n",
        "You all should know how to multiply matrices. In terms of indices, \n",
        "\n",
        "$$\n",
        "\\large\n",
        "\\left[ \\, \\mathbf{A}\\, \\mathbf{B}\\, \\right]_{\\,i,\\,k} \\ = \\ \\sum_{j} [\\, \\mathbf{A} \\, ]_{\\,i,\\,j}\\, [\\,\\mathbf{B} \\,]_{\\,j,\\,k}.\n",
        "$$\n",
        "\n",
        "The notation here is that $[\\,\\mathbf{A} \\,]_{i,j}$ is the $(i,j)$ the element of the matrix $\\mathbf{A}$. Of course, the number of columns of $\\mathbf{A}$ must match the number of rows of $\\mathbf{B}$.\n",
        "\n",
        "\n",
        "</br>\n",
        "</br>\n",
        "\n",
        "A powerful fact about matrices is that matrix multiplication also works in *block* form. For example, \n",
        "\n",
        "$$\n",
        "\\large\n",
        "\\left(\n",
        "\\begin{array}{cc}\n",
        " \\mathbf{A} & \\mathbf{B} \\\\\n",
        " \\mathbf{C} & \\mathbf{D} \\\\\n",
        "\\end{array}\n",
        "\\right)\\left(\n",
        "\\begin{array}{cc}\n",
        " \\mathbf{E} & \\mathbf{F} \\\\\n",
        " \\mathbf{G} & \\mathbf{H} \\\\\n",
        "\\end{array}\n",
        "\\right) \\ = \\ \\left(\n",
        "\\begin{array}{cc}\n",
        " \\mathbf{A\\, E + B\\, G} & \\mathbf{A\\, F + B\\, H} \\\\\n",
        " \\mathbf{C\\, E + D\\, G} & \\mathbf{C\\, F + D\\, H} \\\\\n",
        "\\end{array}\n",
        "\\right)\n",
        "$$\n",
        "\n",
        "Each entry in each matrix can represent an entire matrix, and each multiplication is a matrix multiplication (where we take care to respect commutativity). \n",
        "\n",
        "The block matrix multiplication works straight away if each block is a square matrix of the same size. However, there are many more possibilities."
      ]
    },
    {
      "cell_type": "markdown",
      "id": "05db58e6",
      "metadata": {
        "id": "05db58e6"
      },
      "source": [
        "**Question 0:** What are the *most general* possible size conditions that each matrix, $\\mathbf{A}, \\ldots , \\mathbf{H}$ can take? What are the respective sizes of each output block? What is the total size of each composite matrix on the left- and right-hand sides?"
      ]
    },
    {
      "attachments": {},
      "cell_type": "markdown",
      "id": "cf6b29f3",
      "metadata": {
        "id": "cf6b29f3"
      },
      "source": [
        "**Answer 0: (click on cell to put your answer in Markdown here)**\n",
        "<br>\n",
        "\n",
        "Since we are performing block matrix multiplication,  we need it to be same as the input block and a square matrix. \n"
      ]
    },
    {
      "cell_type": "markdown",
      "id": "9afe2c4e",
      "metadata": {
        "id": "9afe2c4e"
      },
      "source": [
        "**Question 1:** The above block matrices are based on $2\\times 2$ row/column partitions in each case. Now suppose \n",
        "\n",
        "$$\\large\n",
        "\\mathbf{A}\\, \\mathbf{B} \\ = \\ \\mathbf{C},\n",
        "$$\n",
        "\n",
        "where $\\mathbf{A},\\, \\mathbf{B}, \\, \\mathbf{C}$ are three compatible matrices. What is the *most general* partitioning of all three matrices into block structures?"
      ]
    },
    {
      "attachments": {},
      "cell_type": "markdown",
      "id": "0b527301",
      "metadata": {
        "id": "0b527301"
      },
      "source": [
        "**Answer 1: (click on cell to put your answer in Markdown here)**\n",
        "\n",
        "The most general way of partitioning of all three matrices is to divide the matrices equally so that each core can handle it at the same time\n",
        "\n",
        "<br>"
      ]
    },
    {
      "cell_type": "markdown",
      "id": "8d487450",
      "metadata": {
        "id": "8d487450"
      },
      "source": [
        "<br>"
      ]
    },
    {
      "cell_type": "markdown",
      "id": "e845e823",
      "metadata": {
        "id": "e845e823"
      },
      "source": [
        "## Block matrix data structures\n",
        "\n",
        "\n",
        "Python, in general, and `numpy` in particular, have built-in data structures for handling matrix multiplication, in particular `np.bmat`. \n",
        "\n",
        "If you were interested in working with block matrices in serial, then you would definitely want to use one of the optimised built-in Python tools. However, we are interested in learning how to work *in parallel*. \n",
        "\n",
        "It is a good idea to put different matrix blocks on different processor cores.  \n",
        "\n",
        "### Faux-`Cores` and faux-`Local` arrays \n",
        "\n",
        "In this set of exercises, you'll construct block matrices on fake local processor cores. "
      ]
    },
    {
      "cell_type": "code",
      "execution_count": 196,
      "id": "c08e2de9",
      "metadata": {
        "id": "c08e2de9"
      },
      "outputs": [],
      "source": [
        "import numpy as np\n",
        "#from eMPI import Local, Core"
      ]
    },
    {
      "cell_type": "code",
      "execution_count": 197,
      "id": "9fOt1Lpvn5Fa",
      "metadata": {
        "id": "9fOt1Lpvn5Fa"
      },
      "outputs": [],
      "source": [
        "class NotLocalData(Exception):\n",
        "    pass\n",
        "\n",
        "class Local(np.ndarray):\n",
        "\n",
        "    def __new__(cls, input_array, proc):\n",
        "        obj = np.asarray(input_array).view(cls)\n",
        "        obj.proc = proc\n",
        "        return obj\n",
        "        \n",
        "    def __array_finalize__(self, obj):\n",
        "        if obj is None: return\n",
        "        self.your_new_attr = getattr(obj, 'your_new_attr', None)\n",
        "    \n",
        "    def __str__(self):\n",
        "        return (np.ndarray.__str__(self))\n",
        "        if s[0] not in ('[','(','{'):\n",
        "            return f'Local({s}, proc={self.proc})'\n",
        "        return f\"{s}, proc={self.proc}]\"\n",
        "        \n",
        "    def __repr__(self):\n",
        "        s = (np.ndarray.__repr__(self))[:-1]\n",
        "        return f\"{s}, proc={self.proc})\"\n",
        "    \n",
        "    def __getitem__(self,args):\n",
        "        args = self.check(args)\n",
        "        return Local(np.ndarray.__getitem__(self, args), self.proc)\n",
        "    \n",
        "    def __setitem__(self,args,value):\n",
        "        args  = self.check(args)\n",
        "        value = self.check(value)\n",
        "        return Local(np.ndarray.__setitem__(self, args,value), self.proc)\n",
        "    \n",
        "    @property\n",
        "    def T(self):\n",
        "        return Local(np.ndarray.transpose(self),self.proc)\n",
        "    \n",
        "    def transpose(self):\n",
        "        return self.T\n",
        "    \n",
        "    def trace(self):\n",
        "        return Local(np.ndarray.trace(self),self.proc)\n",
        "    \n",
        "    def __neg__(self):\n",
        "        return Local(np.ndarray.__neg__(self),self.proc)\n",
        "    \n",
        "    def __pos__(self):\n",
        "        return Local(np.ndarray.__pos__(self),self.proc)\n",
        "    \n",
        "    def __abs__(self):\n",
        "        return Local(np.ndarray.__abs__(self),self.proc)\n",
        "    \n",
        "    def __add__(self,other):\n",
        "        other = self.check(other)\n",
        "        return Local(np.ndarray.__add__(self,other),self.proc)\n",
        "    \n",
        "    def __sub__(self,other):\n",
        "        other = self.check(other)\n",
        "        return Local(np.ndarray.__sub__(self,other),self.proc)\n",
        "    \n",
        "    def __mul__(self,other):\n",
        "        other = self.check(other)\n",
        "        return Local(np.ndarray.__mul__(self,other),self.proc)\n",
        "    \n",
        "    def __truediv__(self,other):\n",
        "        other = self.check(other)\n",
        "        return Local(np.ndarray.__truediv__(self,other),self.proc)\n",
        "    \n",
        "    def __floordiv__(self,other):\n",
        "        other = self.check(other)\n",
        "        return Local(np.ndarray.__floordiv__(self,other),self.proc)\n",
        "    \n",
        "    def __mod__(self,other):\n",
        "        other = self.check(other)\n",
        "        return Local(np.ndarray.__mod__(self,other),self.proc)\n",
        "    \n",
        "    def __pow__(self,other):\n",
        "        other = self.check(other)\n",
        "        return Local(np.ndarray.__pow__(self,other),self.proc)\n",
        "    \n",
        "    def __matmul__(self,other):\n",
        "        other = self.check(other)\n",
        "        return Local(np.ndarray.__matmul__(self,other),self.proc)\n",
        "    \n",
        "    def __eq__(self,other):\n",
        "        other = self.check(other)\n",
        "        return Local(np.ndarray.__eq__(self,other),self.proc)\n",
        "    \n",
        "    def __ge__(self,other):\n",
        "        other = self.check(other)\n",
        "        return Local(np.ndarray.__ge__(self,other),self.proc)\n",
        "    \n",
        "    def __le__(self,other):\n",
        "        other = self.check(other)\n",
        "        return Local(np.ndarray.__le__(self,other),self.proc)\n",
        "    \n",
        "    def __gt__(self,other):\n",
        "        other = self.check(other)\n",
        "        return Local(np.ndarray.__gt__(self,other),self.proc)\n",
        "    \n",
        "    def __lt__(self,other):\n",
        "        other = self.check(other)\n",
        "        return Local(np.ndarray.__lt__(self,other),self.proc)\n",
        "    \n",
        "    def __radd__(self,other):\n",
        "        other = self.check(other)\n",
        "        return Local(np.ndarray.__radd__(self,other),self.proc)\n",
        "    \n",
        "    def __rsub__(self,other):\n",
        "        other = self.check(other)\n",
        "        return Local(np.ndarray.__rsub__(self,other),self.proc)\n",
        "    \n",
        "    def __rmul__(self,other):\n",
        "        other = self.check(other)\n",
        "        return Local(np.ndarray.__rmul__(self,other),self.proc)\n",
        "    \n",
        "    def __rtruediv__(self,other):\n",
        "        other = self.check(other)\n",
        "        return Local(np.ndarray.__rtruediv__(self,other),self.proc)\n",
        "    \n",
        "    def __rfloordiv__(self,other):\n",
        "        other = self.check(other)\n",
        "        return Local(np.ndarray.__rfloordiv__(self,other),self.proc)\n",
        "    \n",
        "    def __rmod__(self,other):\n",
        "        other = self.check(other)\n",
        "        return Local(np.ndarray.__rmod__(self,other),self.proc)\n",
        "    \n",
        "    def __rpow__(self,other):\n",
        "        other = self.check(other)\n",
        "        return Local(np.ndarray.__rpow__(self,other),self.proc)\n",
        "    \n",
        "    def __req__(self,other):\n",
        "        other = self.check(other)\n",
        "        return Local(np.ndarray.__req__(self,other),self.proc)\n",
        "    \n",
        "    def __ge__(self,other):\n",
        "        other = self.check(other)\n",
        "        return Local(np.ndarray.__rge__(self,other),self.proc)\n",
        "    \n",
        "    def __rle__(self,other):\n",
        "        other = self.check(other)\n",
        "        return Local(np.ndarray.__rle__(self,other),self.proc)\n",
        "    \n",
        "    def __rgt__(self,other):\n",
        "        other = self.check(other)\n",
        "        return Local(np.ndarray.__rgt__(self,other),self.proc)\n",
        "    \n",
        "    def __rlt__(self,other):\n",
        "        other = self.check(other)\n",
        "        return Local(np.ndarray.__rlt__(self,other),self.proc)\n",
        "    \n",
        "    def check(self,other):\n",
        "        if other is None:\n",
        "            return other\n",
        "        \n",
        "        if isinstance(other,(int, float, complex)):\n",
        "            return Local(other,self.proc)\n",
        "        \n",
        "        if isinstance(other, slice):\n",
        "            for e in [other.start, other.stop, other.step]:\n",
        "                self.check(e)\n",
        "            return other\n",
        "        \n",
        "        if isinstance(other, (list, tuple)):\n",
        "            return type(other)([self.check(e) for e in other])\n",
        "        \n",
        "        if not isinstance(other, Local):\n",
        "            raise NotLocalData('Data is not local to any core.')\n",
        "        \n",
        "        if self.proc != other.proc:\n",
        "            raise NotLocalData('The data is not local.')\n",
        "        \n",
        "        return other\n",
        "\n",
        "\n",
        "class Core():\n",
        "    \n",
        "    def __init__(self,proc):\n",
        "        self.proc = proc \n",
        "        self.memory = {}\n",
        "        self.buffer = {}\n",
        "    \n",
        "    def __str__(self):\n",
        "        return \"Core(\"+str(self.proc)+')'\n",
        "    \n",
        "    def __repr__(self):\n",
        "        return str(self)\n",
        "    \n",
        "    def __getitem__(self,item):\n",
        "        return self.memory[item]\n",
        "    \n",
        "    def __setitem__(self,item,value):\n",
        "        self.memory[item] = Local(value,self.proc)\n",
        "        \n",
        "    def send(self,other,data):\n",
        "        other.buffer[self.proc,data] = Local(self[data],other.proc)\n",
        "        \n",
        "    def receive(self,other,data,out=None):\n",
        "        if out == None: out = data\n",
        "        self[out] = self.buffer[other.proc,data]\n",
        "        del self.buffer[other.proc,data]\n"
      ]
    },
    {
      "cell_type": "markdown",
      "id": "ece81890",
      "metadata": {
        "id": "ece81890"
      },
      "source": [
        "<br>"
      ]
    },
    {
      "attachments": {},
      "cell_type": "markdown",
      "id": "adfa5565",
      "metadata": {
        "id": "adfa5565"
      },
      "source": [
        "**TASK 0.a:**\n",
        "\n",
        "Consider a block matrix with row paritions $[m_{0}, \\ldots, m_{r-1}]$ and column paritions $[n_{0}, \\ldots, n_{c-1}]$. \n",
        "\n",
        "Make a Python function that creates a distributed block matrix across $r \\times c$ faux-`Core` objects (as we saw in lecture).\n",
        "\n",
        "The result should be a `dictionary` of `Core` objects. Each `Core` should have an $m_{i} \\times n_{j}$ array filled with zeros.  "
      ]
    },
    {
      "cell_type": "code",
      "execution_count": 184,
      "id": "ec50b99b",
      "metadata": {},
      "outputs": [],
      "source": [
        "# total_rows = 3\n",
        "# total_cols = 4\n",
        "rPart = [2,2]\n",
        "cPart = [2,2]\n",
        "machine = {(i, j): Core(i * len(cPart) + j) for i in range(len(rPart)) for j in range(len(cPart))}"
      ]
    },
    {
      "cell_type": "code",
      "execution_count": 185,
      "id": "6c38d201",
      "metadata": {
        "id": "6c38d201"
      },
      "outputs": [],
      "source": [
        "def distributed_block_matrix(name, row_partitions, column_partitions):\n",
        "    # machine = {(i, j): Core(i * total_cols + j) for i in range(len(row_partitions)) for j in range(len(column_partitions))}\n",
        "    for i, row in enumerate(row_partitions):\n",
        "        for j, col in enumerate(column_partitions):\n",
        "            # for `k in range(row_partitions[i]):\n",
        "                machine[(i,j)][name] = np.zeros((row, col))"
      ]
    },
    {
      "cell_type": "code",
      "execution_count": 186,
      "id": "3ff8b370",
      "metadata": {},
      "outputs": [
        {
          "name": "stdout",
          "output_type": "stream",
          "text": [
            "{'A': Local([[0.],\n",
            "       [0.]], proc=0)}\n",
            "{'A': Local([[0., 0.],\n",
            "       [0., 0.]], proc=1)}\n",
            "{'A': Local([[0., 0., 0.],\n",
            "       [0., 0., 0.]], proc=2)}\n",
            "{'A': Local([[0., 0., 0., 0.],\n",
            "       [0., 0., 0., 0.]], proc=3)}\n",
            "{'A': Local([[0.],\n",
            "       [0.],\n",
            "       [0.]], proc=4)}\n",
            "{'A': Local([[0., 0.],\n",
            "       [0., 0.],\n",
            "       [0., 0.]], proc=5)}\n",
            "{'A': Local([[0., 0., 0.],\n",
            "       [0., 0., 0.],\n",
            "       [0., 0., 0.]], proc=6)}\n",
            "{'A': Local([[0., 0., 0., 0.],\n",
            "       [0., 0., 0., 0.],\n",
            "       [0., 0., 0., 0.]], proc=7)}\n"
          ]
        }
      ],
      "source": [
        "# Test with Toy Example\n",
        "\n",
        "# machine = {(i, j): Core(i * total_cols + j) for i in range(len(rPart)) for j in range(len(cPart))}\n",
        "\n",
        "distributed_block_matrix('A', rPart, cPart)\n",
        "for key in machine:\n",
        "    print(machine[key].memory)\n",
        "# machine"
      ]
    },
    {
      "cell_type": "markdown",
      "id": "508cceea",
      "metadata": {
        "id": "508cceea"
      },
      "source": [
        "<br>"
      ]
    },
    {
      "cell_type": "markdown",
      "id": "03dc6462",
      "metadata": {
        "id": "03dc6462"
      },
      "source": [
        "**TASK 0.b:**\n",
        "\n",
        "Write a Python function that fills your `distributed_block_matrix` with some number. You can do this any way you like. You can put random numbers in, or some interesting structure you might like."
      ]
    },
    {
      "cell_type": "code",
      "execution_count": 187,
      "id": "e51ac49d",
      "metadata": {
        "id": "e51ac49d"
      },
      "outputs": [],
      "source": [
        "def fill_block_matrix(A):\n",
        "    j = 0\n",
        "    for key in machine:\n",
        "        for i in range(len(machine[key][A])):\n",
        "            machine[key][A][i] = Local(np.random.randint(0,9,len(machine[key][A][i])), proc=j)\n",
        "        j += 1"
      ]
    },
    {
      "attachments": {},
      "cell_type": "markdown",
      "id": "3a973844",
      "metadata": {},
      "source": [
        "I wrote a function that replace zeros from a randomly generated value between $0$ and $9$"
      ]
    },
    {
      "cell_type": "code",
      "execution_count": 188,
      "id": "451596aa",
      "metadata": {},
      "outputs": [
        {
          "name": "stdout",
          "output_type": "stream",
          "text": [
            "{'A': Local([[1.],\n",
            "       [0.]], proc=0)}\n",
            "{'A': Local([[6., 3.],\n",
            "       [3., 1.]], proc=1)}\n",
            "{'A': Local([[0., 7., 6.],\n",
            "       [3., 1., 8.]], proc=2)}\n",
            "{'A': Local([[8., 4., 7., 6.],\n",
            "       [6., 4., 6., 3.]], proc=3)}\n",
            "{'A': Local([[7.],\n",
            "       [3.],\n",
            "       [5.]], proc=4)}\n",
            "{'A': Local([[0., 8.],\n",
            "       [8., 3.],\n",
            "       [6., 5.]], proc=5)}\n",
            "{'A': Local([[8., 8., 0.],\n",
            "       [6., 2., 2.],\n",
            "       [0., 2., 4.]], proc=6)}\n",
            "{'A': Local([[0., 0., 6., 0.],\n",
            "       [3., 0., 7., 2.],\n",
            "       [3., 5., 5., 8.]], proc=7)}\n"
          ]
        }
      ],
      "source": [
        "# Test with Toy Example\n",
        "fill_block_matrix('A')\n",
        "machine\n",
        "for key in machine:\n",
        "    print(machine[key].memory)"
      ]
    },
    {
      "cell_type": "markdown",
      "id": "a2909e2a",
      "metadata": {
        "id": "a2909e2a"
      },
      "source": [
        "<br>"
      ]
    },
    {
      "cell_type": "markdown",
      "id": "e7c4b214",
      "metadata": {
        "id": "e7c4b214"
      },
      "source": [
        "**TASK 1:**\n",
        "\n",
        "Create a function that element-wise adds two `distributed_block_matrix` objects.\n",
        "\n",
        "In TASK 1, make your function assume the blocks of the two matrices are the same shape. "
      ]
    },
    {
      "cell_type": "code",
      "execution_count": 189,
      "id": "d632b0a0",
      "metadata": {
        "id": "d632b0a0"
      },
      "outputs": [],
      "source": [
        "def add_block_matrix(A,B):\n",
        "    # C = {(i, j): Core(i * total_cols + j) for i in range(len(rPart)) for j in range(len(cPart))}\n",
        "    for key in machine:\n",
        "        machine[key]['A+B'] = machine[key][A] + machine[key][B]"
      ]
    },
    {
      "cell_type": "code",
      "execution_count": 190,
      "id": "457525bc",
      "metadata": {},
      "outputs": [
        {
          "name": "stdout",
          "output_type": "stream",
          "text": [
            "{'A': Local([[1.],\n",
            "       [0.]], proc=0), 'B': Local([[6.],\n",
            "       [1.]], proc=0), 'A+B': Local([[7.],\n",
            "       [1.]], proc=0)}\n",
            "{'A': Local([[6., 3.],\n",
            "       [3., 1.]], proc=1), 'B': Local([[6., 6.],\n",
            "       [0., 1.]], proc=1), 'A+B': Local([[12.,  9.],\n",
            "       [ 3.,  2.]], proc=1)}\n",
            "{'A': Local([[0., 7., 6.],\n",
            "       [3., 1., 8.]], proc=2), 'B': Local([[4., 7., 0.],\n",
            "       [3., 5., 6.]], proc=2), 'A+B': Local([[ 4., 14.,  6.],\n",
            "       [ 6.,  6., 14.]], proc=2)}\n",
            "{'A': Local([[8., 4., 7., 6.],\n",
            "       [6., 4., 6., 3.]], proc=3), 'B': Local([[8., 0., 8., 2.],\n",
            "       [4., 7., 1., 0.]], proc=3), 'A+B': Local([[16.,  4., 15.,  8.],\n",
            "       [10., 11.,  7.,  3.]], proc=3)}\n",
            "{'A': Local([[7.],\n",
            "       [3.],\n",
            "       [5.]], proc=4), 'B': Local([[8.],\n",
            "       [4.],\n",
            "       [1.]], proc=4), 'A+B': Local([[15.],\n",
            "       [ 7.],\n",
            "       [ 6.]], proc=4)}\n",
            "{'A': Local([[0., 8.],\n",
            "       [8., 3.],\n",
            "       [6., 5.]], proc=5), 'B': Local([[1., 3.],\n",
            "       [5., 4.],\n",
            "       [2., 1.]], proc=5), 'A+B': Local([[ 1., 11.],\n",
            "       [13.,  7.],\n",
            "       [ 8.,  6.]], proc=5)}\n",
            "{'A': Local([[8., 8., 0.],\n",
            "       [6., 2., 2.],\n",
            "       [0., 2., 4.]], proc=6), 'B': Local([[3., 6., 1.],\n",
            "       [1., 3., 3.],\n",
            "       [5., 2., 5.]], proc=6), 'A+B': Local([[11., 14.,  1.],\n",
            "       [ 7.,  5.,  5.],\n",
            "       [ 5.,  4.,  9.]], proc=6)}\n",
            "{'A': Local([[0., 0., 6., 0.],\n",
            "       [3., 0., 7., 2.],\n",
            "       [3., 5., 5., 8.]], proc=7), 'B': Local([[0., 6., 3., 1.],\n",
            "       [0., 7., 7., 2.],\n",
            "       [4., 1., 2., 0.]], proc=7), 'A+B': Local([[ 0.,  6.,  9.,  1.],\n",
            "       [ 3.,  7., 14.,  4.],\n",
            "       [ 7.,  6.,  7.,  8.]], proc=7)}\n"
          ]
        }
      ],
      "source": [
        "distributed_block_matrix('B', rPart, cPart)\n",
        "fill_block_matrix('B')\n",
        "distributed_block_matrix('A+B', rPart, cPart)\n",
        "add_block_matrix('A','B')\n",
        "for key in machine:\n",
        "    print(machine[key].memory)"
      ]
    },
    {
      "cell_type": "markdown",
      "id": "764e45c4",
      "metadata": {
        "id": "764e45c4"
      },
      "source": [
        "<br>"
      ]
    },
    {
      "cell_type": "markdown",
      "id": "54067583",
      "metadata": {
        "id": "54067583"
      },
      "source": [
        "**TASK 2:**\n",
        "\n",
        "Make a Python `class` that contains `distributed_block_matrix` objects and computes `__add__` using your implementation from TASK 1. "
      ]
    },
    {
      "cell_type": "code",
      "execution_count": 191,
      "id": "3ac5664a",
      "metadata": {},
      "outputs": [
        {
          "data": {
            "text/plain": [
              "{(0,\n",
              "  0): Local([[0.],\n",
              "        [7.]], proc=0),\n",
              " (0,\n",
              "  1): Local([[6., 5.],\n",
              "        [2., 5.]], proc=1),\n",
              " (0,\n",
              "  2): Local([[0., 7., 7.],\n",
              "        [4., 8., 8.]], proc=2),\n",
              " (0,\n",
              "  3): Local([[2., 4., 4., 8.],\n",
              "        [2., 2., 6., 4.]], proc=3),\n",
              " (1,\n",
              "  0): Local([[8.],\n",
              "        [5.]], proc=4),\n",
              " (1,\n",
              "  1): Local([[8., 4.],\n",
              "        [4., 3.]], proc=5),\n",
              " (1,\n",
              "  2): Local([[4., 5., 8.],\n",
              "        [6., 6., 3.]], proc=6),\n",
              " (1,\n",
              "  3): Local([[8., 6., 3., 4.],\n",
              "        [7., 5., 3., 1.]], proc=7),\n",
              " (2,\n",
              "  0): Local([[5.],\n",
              "        [2.]], proc=8),\n",
              " (2,\n",
              "  1): Local([[3., 6.],\n",
              "        [3., 6.]], proc=9),\n",
              " (2,\n",
              "  2): Local([[0., 5., 3.],\n",
              "        [4., 7., 7.]], proc=10),\n",
              " (2,\n",
              "  3): Local([[6., 6., 5., 3.],\n",
              "        [2., 3., 7., 8.]], proc=11),\n",
              " (3,\n",
              "  0): Local([[3.],\n",
              "        [0.],\n",
              "        [6.]], proc=12),\n",
              " (3,\n",
              "  1): Local([[3., 3.],\n",
              "        [5., 8.],\n",
              "        [3., 4.]], proc=13),\n",
              " (3,\n",
              "  2): Local([[6., 1., 6.],\n",
              "        [0., 5., 8.],\n",
              "        [2., 5., 5.]], proc=14),\n",
              " (3,\n",
              "  3): Local([[4., 6., 5., 6.],\n",
              "        [0., 4., 7., 0.],\n",
              "        [6., 5., 8., 3.]], proc=15)}"
            ]
          },
          "execution_count": 191,
          "metadata": {},
          "output_type": "execute_result"
        }
      ],
      "source": [
        "A._machine"
      ]
    },
    {
      "cell_type": "code",
      "execution_count": 194,
      "id": "f812d3ff",
      "metadata": {},
      "outputs": [
        {
          "name": "stderr",
          "output_type": "stream",
          "text": [
            "<>:1: SyntaxWarning: 'set' object is not subscriptable; perhaps you missed a comma?\n",
            "<>:1: SyntaxWarning: 'set' object is not subscriptable; perhaps you missed a comma?\n",
            "C:\\Users\\Johnny Lee\\AppData\\Local\\Temp\\ipykernel_17676\\2872470996.py:1: SyntaxWarning: 'set' object is not subscriptable; perhaps you missed a comma?\n",
            "  {core for core in machine.values()}[Core(1)]\n",
            "C:\\Users\\Johnny Lee\\AppData\\Local\\Temp\\ipykernel_17676\\2872470996.py:1: SyntaxWarning: 'set' object is not subscriptable; perhaps you missed a comma?\n",
            "  {core for core in machine.values()}[Core(1)]\n",
            "C:\\Users\\Johnny Lee\\AppData\\Local\\Temp\\ipykernel_17676\\2872470996.py:1: SyntaxWarning: 'set' object is not subscriptable; perhaps you missed a comma?\n",
            "  {core for core in machine.values()}[Core(1)]\n"
          ]
        },
        {
          "ename": "TypeError",
          "evalue": "'set' object is not subscriptable",
          "output_type": "error",
          "traceback": [
            "\u001b[1;31m---------------------------------------------------------------------------\u001b[0m",
            "\u001b[1;31mTypeError\u001b[0m                                 Traceback (most recent call last)",
            "Cell \u001b[1;32mIn[194], line 1\u001b[0m\n\u001b[1;32m----> 1\u001b[0m {core \u001b[39mfor\u001b[39;49;00m core \u001b[39min\u001b[39;49;00m machine\u001b[39m.\u001b[39;49mvalues()}[Core(\u001b[39m1\u001b[39;49m)]\n",
            "\u001b[1;31mTypeError\u001b[0m: 'set' object is not subscriptable"
          ]
        }
      ],
      "source": [
        "{core for core in machine.values()}"
      ]
    },
    {
      "cell_type": "code",
      "execution_count": 141,
      "id": "9a87f9e4",
      "metadata": {
        "id": "9a87f9e4"
      },
      "outputs": [],
      "source": [
        "class BlockMatrix():\n",
        "    def __init__(self, x):\n",
        "        self.x = x\n",
        "        self._machine = {key: core[x] for key, core in machine.items()}\n",
        "        # self._machine = {key: core[x] for key, core in machine.items()}\n",
        "    \n",
        "    def __getcore__(self, core):\n",
        "        return self\n",
        "    \n",
        "    def __add__(self, other):\n",
        "        new_key = self.x + '+' + other.x\n",
        "        for key in machine:\n",
        "            machine[key][new_key] = machine[key][self.x] + machine[key][other.x]\n",
        "        return BlockMatrix(new_key)\n",
        "    \n",
        "    def __neg__(self):\n",
        "        new_key = '-(' + self.x + ')'\n",
        "        for key in machine:\n",
        "            machine[key][new_key] = machine[key][self.x] * -1\n",
        "        return BlockMatrix(new_key)\n",
        "\n",
        "    def __sub__(self, other):\n",
        "        new_key = self.x + '-' + other.x\n",
        "        for key in machine:\n",
        "            machine[key][new_key] = machine[key][self.x] - machine[key][other.x]\n",
        "        return BlockMatrix(new_key)\n",
        "\n",
        "    def __mul__(self, other):\n",
        "        new_key = self.x + other.x\n",
        "        for key in machine:\n",
        "            machine[key][new_key] = machine[key][self.x] * machine[key][other.x]\n",
        "        return BlockMatrix(new_key)\n"
      ]
    },
    {
      "cell_type": "code",
      "execution_count": 13,
      "id": "a3554190",
      "metadata": {},
      "outputs": [
        {
          "data": {
            "text/plain": [
              "[{'A': Local([[0.],\n",
              "         [7.]], proc=0),\n",
              "  'B': Local([[1.],\n",
              "         [1.]], proc=0),\n",
              "  'A+B': Local([[1.],\n",
              "         [8.]], proc=0),\n",
              "  'A+B+B': Local([[2.],\n",
              "         [9.]], proc=0)},\n",
              " {'A': Local([[6., 5.],\n",
              "         [2., 5.]], proc=1),\n",
              "  'B': Local([[7., 8.],\n",
              "         [4., 8.]], proc=1),\n",
              "  'A+B': Local([[13., 13.],\n",
              "         [ 6., 13.]], proc=1),\n",
              "  'A+B+B': Local([[20., 21.],\n",
              "         [10., 21.]], proc=1)},\n",
              " {'A': Local([[0., 7., 7.],\n",
              "         [4., 8., 8.]], proc=2),\n",
              "  'B': Local([[8., 8., 0.],\n",
              "         [3., 6., 2.]], proc=2),\n",
              "  'A+B': Local([[ 8., 15.,  7.],\n",
              "         [ 7., 14., 10.]], proc=2),\n",
              "  'A+B+B': Local([[16., 23.,  7.],\n",
              "         [10., 20., 12.]], proc=2)},\n",
              " {'A': Local([[2., 4., 4., 8.],\n",
              "         [2., 2., 6., 4.]], proc=3),\n",
              "  'B': Local([[3., 5., 3., 2.],\n",
              "         [5., 0., 2., 2.]], proc=3),\n",
              "  'A+B': Local([[ 5.,  9.,  7., 10.],\n",
              "         [ 7.,  2.,  8.,  6.]], proc=3),\n",
              "  'A+B+B': Local([[ 8., 14., 10., 12.],\n",
              "         [12.,  2., 10.,  8.]], proc=3)},\n",
              " {'A': Local([[8.],\n",
              "         [5.]], proc=4),\n",
              "  'B': Local([[7.],\n",
              "         [8.]], proc=4),\n",
              "  'A+B': Local([[15.],\n",
              "         [13.]], proc=4),\n",
              "  'A+B+B': Local([[22.],\n",
              "         [21.]], proc=4)},\n",
              " {'A': Local([[8., 4.],\n",
              "         [4., 3.]], proc=5),\n",
              "  'B': Local([[1., 7.],\n",
              "         [3., 0.]], proc=5),\n",
              "  'A+B': Local([[ 9., 11.],\n",
              "         [ 7.,  3.]], proc=5),\n",
              "  'A+B+B': Local([[10., 18.],\n",
              "         [10.,  3.]], proc=5)},\n",
              " {'A': Local([[4., 5., 8.],\n",
              "         [6., 6., 3.]], proc=6),\n",
              "  'B': Local([[4., 3., 2.],\n",
              "         [8., 2., 2.]], proc=6),\n",
              "  'A+B': Local([[ 8.,  8., 10.],\n",
              "         [14.,  8.,  5.]], proc=6),\n",
              "  'A+B+B': Local([[12., 11., 12.],\n",
              "         [22., 10.,  7.]], proc=6)},\n",
              " {'A': Local([[8., 6., 3., 4.],\n",
              "         [7., 5., 3., 1.]], proc=7),\n",
              "  'B': Local([[0., 1., 5., 8.],\n",
              "         [1., 0., 4., 4.]], proc=7),\n",
              "  'A+B': Local([[ 8.,  7.,  8., 12.],\n",
              "         [ 8.,  5.,  7.,  5.]], proc=7),\n",
              "  'A+B+B': Local([[ 8.,  8., 13., 20.],\n",
              "         [ 9.,  5., 11.,  9.]], proc=7)},\n",
              " {'A': Local([[5.],\n",
              "         [2.]], proc=8),\n",
              "  'B': Local([[4.],\n",
              "         [8.]], proc=8),\n",
              "  'A+B': Local([[ 9.],\n",
              "         [10.]], proc=8),\n",
              "  'A+B+B': Local([[13.],\n",
              "         [18.]], proc=8)},\n",
              " {'A': Local([[3., 6.],\n",
              "         [3., 6.]], proc=9),\n",
              "  'B': Local([[7., 7.],\n",
              "         [7., 5.]], proc=9),\n",
              "  'A+B': Local([[10., 13.],\n",
              "         [10., 11.]], proc=9),\n",
              "  'A+B+B': Local([[17., 20.],\n",
              "         [17., 16.]], proc=9)},\n",
              " {'A': Local([[0., 5., 3.],\n",
              "         [4., 7., 7.]], proc=10),\n",
              "  'B': Local([[7., 4., 3.],\n",
              "         [8., 4., 4.]], proc=10),\n",
              "  'A+B': Local([[ 7.,  9.,  6.],\n",
              "         [12., 11., 11.]], proc=10),\n",
              "  'A+B+B': Local([[14., 13.,  9.],\n",
              "         [20., 15., 15.]], proc=10)},\n",
              " {'A': Local([[6., 6., 5., 3.],\n",
              "         [2., 3., 7., 8.]], proc=11),\n",
              "  'B': Local([[3., 7., 0., 3.],\n",
              "         [3., 0., 7., 3.]], proc=11),\n",
              "  'A+B': Local([[ 9., 13.,  5.,  6.],\n",
              "         [ 5.,  3., 14., 11.]], proc=11),\n",
              "  'A+B+B': Local([[12., 20.,  5.,  9.],\n",
              "         [ 8.,  3., 21., 14.]], proc=11)},\n",
              " {'A': Local([[3.],\n",
              "         [0.],\n",
              "         [6.]], proc=12),\n",
              "  'B': Local([[6.],\n",
              "         [6.],\n",
              "         [7.]], proc=12),\n",
              "  'A+B': Local([[ 9.],\n",
              "         [ 6.],\n",
              "         [13.]], proc=12),\n",
              "  'A+B+B': Local([[15.],\n",
              "         [12.],\n",
              "         [20.]], proc=12)},\n",
              " {'A': Local([[3., 3.],\n",
              "         [5., 8.],\n",
              "         [3., 4.]], proc=13),\n",
              "  'B': Local([[0., 1.],\n",
              "         [0., 8.],\n",
              "         [3., 4.]], proc=13),\n",
              "  'A+B': Local([[ 3.,  4.],\n",
              "         [ 5., 16.],\n",
              "         [ 6.,  8.]], proc=13),\n",
              "  'A+B+B': Local([[ 3.,  5.],\n",
              "         [ 5., 24.],\n",
              "         [ 9., 12.]], proc=13)},\n",
              " {'A': Local([[6., 1., 6.],\n",
              "         [0., 5., 8.],\n",
              "         [2., 5., 5.]], proc=14),\n",
              "  'B': Local([[1., 5., 6.],\n",
              "         [6., 8., 3.],\n",
              "         [0., 2., 4.]], proc=14),\n",
              "  'A+B': Local([[ 7.,  6., 12.],\n",
              "         [ 6., 13., 11.],\n",
              "         [ 2.,  7.,  9.]], proc=14),\n",
              "  'A+B+B': Local([[ 8., 11., 18.],\n",
              "         [12., 21., 14.],\n",
              "         [ 2.,  9., 13.]], proc=14)},\n",
              " {'A': Local([[4., 6., 5., 6.],\n",
              "         [0., 4., 7., 0.],\n",
              "         [6., 5., 8., 3.]], proc=15),\n",
              "  'B': Local([[5., 2., 1., 1.],\n",
              "         [7., 4., 8., 7.],\n",
              "         [1., 0., 6., 2.]], proc=15),\n",
              "  'A+B': Local([[ 9.,  8.,  6.,  7.],\n",
              "         [ 7.,  8., 15.,  7.],\n",
              "         [ 7.,  5., 14.,  5.]], proc=15),\n",
              "  'A+B+B': Local([[14., 10.,  7.,  8.],\n",
              "         [14., 12., 23., 14.],\n",
              "         [ 8.,  5., 20.,  7.]], proc=15)}]"
            ]
          },
          "execution_count": 13,
          "metadata": {},
          "output_type": "execute_result"
        }
      ],
      "source": [
        "A = BlockMatrix('A')  # In MACHINE \n",
        "B = BlockMatrix('B')\n",
        "\n",
        "C = A + B\n",
        "D = C + B\n",
        "[core.memory for core in machine.values()]"
      ]
    },
    {
      "cell_type": "markdown",
      "id": "f26411ac",
      "metadata": {
        "id": "f26411ac"
      },
      "source": [
        "<br>"
      ]
    },
    {
      "cell_type": "markdown",
      "id": "b1072336",
      "metadata": {
        "id": "b1072336"
      },
      "source": [
        "**TASK 3:**\n",
        "\n",
        "Include all other element-wise matrix operations you can think of, e.g., \n",
        "\n",
        "* `__neg__`, i.e., `-A`\n",
        "\n",
        "\n",
        "* `__sub__` i.e., `A - B`\n",
        "\n",
        "\n",
        "* `__mul__` i.e., `A * B`\n",
        "\n",
        "\n",
        "* etc\n",
        "\n",
        "Note, `__mul__` is *not* matrix multiplication. It is element-wise multiplication. "
      ]
    },
    {
      "cell_type": "code",
      "execution_count": 14,
      "id": "648f00cd",
      "metadata": {},
      "outputs": [
        {
          "data": {
            "text/plain": [
              "[{'A': Local([[0.],\n",
              "         [7.]], proc=0),\n",
              "  'B': Local([[1.],\n",
              "         [1.]], proc=0),\n",
              "  'A+B': Local([[1.],\n",
              "         [8.]], proc=0),\n",
              "  'A+B+B': Local([[2.],\n",
              "         [9.]], proc=0),\n",
              "  '-(A)': Local([[-0.],\n",
              "         [-7.]], proc=0),\n",
              "  'A-B': Local([[-1.],\n",
              "         [ 6.]], proc=0),\n",
              "  'AB': Local([[0.],\n",
              "         [7.]], proc=0)},\n",
              " {'A': Local([[6., 5.],\n",
              "         [2., 5.]], proc=1),\n",
              "  'B': Local([[7., 8.],\n",
              "         [4., 8.]], proc=1),\n",
              "  'A+B': Local([[13., 13.],\n",
              "         [ 6., 13.]], proc=1),\n",
              "  'A+B+B': Local([[20., 21.],\n",
              "         [10., 21.]], proc=1),\n",
              "  '-(A)': Local([[-6., -5.],\n",
              "         [-2., -5.]], proc=1),\n",
              "  'A-B': Local([[-1., -3.],\n",
              "         [-2., -3.]], proc=1),\n",
              "  'AB': Local([[42., 40.],\n",
              "         [ 8., 40.]], proc=1)},\n",
              " {'A': Local([[0., 7., 7.],\n",
              "         [4., 8., 8.]], proc=2),\n",
              "  'B': Local([[8., 8., 0.],\n",
              "         [3., 6., 2.]], proc=2),\n",
              "  'A+B': Local([[ 8., 15.,  7.],\n",
              "         [ 7., 14., 10.]], proc=2),\n",
              "  'A+B+B': Local([[16., 23.,  7.],\n",
              "         [10., 20., 12.]], proc=2),\n",
              "  '-(A)': Local([[-0., -7., -7.],\n",
              "         [-4., -8., -8.]], proc=2),\n",
              "  'A-B': Local([[-8., -1.,  7.],\n",
              "         [ 1.,  2.,  6.]], proc=2),\n",
              "  'AB': Local([[ 0., 56.,  0.],\n",
              "         [12., 48., 16.]], proc=2)},\n",
              " {'A': Local([[2., 4., 4., 8.],\n",
              "         [2., 2., 6., 4.]], proc=3),\n",
              "  'B': Local([[3., 5., 3., 2.],\n",
              "         [5., 0., 2., 2.]], proc=3),\n",
              "  'A+B': Local([[ 5.,  9.,  7., 10.],\n",
              "         [ 7.,  2.,  8.,  6.]], proc=3),\n",
              "  'A+B+B': Local([[ 8., 14., 10., 12.],\n",
              "         [12.,  2., 10.,  8.]], proc=3),\n",
              "  '-(A)': Local([[-2., -4., -4., -8.],\n",
              "         [-2., -2., -6., -4.]], proc=3),\n",
              "  'A-B': Local([[-1., -1.,  1.,  6.],\n",
              "         [-3.,  2.,  4.,  2.]], proc=3),\n",
              "  'AB': Local([[ 6., 20., 12., 16.],\n",
              "         [10.,  0., 12.,  8.]], proc=3)},\n",
              " {'A': Local([[8.],\n",
              "         [5.]], proc=4),\n",
              "  'B': Local([[7.],\n",
              "         [8.]], proc=4),\n",
              "  'A+B': Local([[15.],\n",
              "         [13.]], proc=4),\n",
              "  'A+B+B': Local([[22.],\n",
              "         [21.]], proc=4),\n",
              "  '-(A)': Local([[-8.],\n",
              "         [-5.]], proc=4),\n",
              "  'A-B': Local([[ 1.],\n",
              "         [-3.]], proc=4),\n",
              "  'AB': Local([[56.],\n",
              "         [40.]], proc=4)},\n",
              " {'A': Local([[8., 4.],\n",
              "         [4., 3.]], proc=5),\n",
              "  'B': Local([[1., 7.],\n",
              "         [3., 0.]], proc=5),\n",
              "  'A+B': Local([[ 9., 11.],\n",
              "         [ 7.,  3.]], proc=5),\n",
              "  'A+B+B': Local([[10., 18.],\n",
              "         [10.,  3.]], proc=5),\n",
              "  '-(A)': Local([[-8., -4.],\n",
              "         [-4., -3.]], proc=5),\n",
              "  'A-B': Local([[ 7., -3.],\n",
              "         [ 1.,  3.]], proc=5),\n",
              "  'AB': Local([[ 8., 28.],\n",
              "         [12.,  0.]], proc=5)},\n",
              " {'A': Local([[4., 5., 8.],\n",
              "         [6., 6., 3.]], proc=6),\n",
              "  'B': Local([[4., 3., 2.],\n",
              "         [8., 2., 2.]], proc=6),\n",
              "  'A+B': Local([[ 8.,  8., 10.],\n",
              "         [14.,  8.,  5.]], proc=6),\n",
              "  'A+B+B': Local([[12., 11., 12.],\n",
              "         [22., 10.,  7.]], proc=6),\n",
              "  '-(A)': Local([[-4., -5., -8.],\n",
              "         [-6., -6., -3.]], proc=6),\n",
              "  'A-B': Local([[ 0.,  2.,  6.],\n",
              "         [-2.,  4.,  1.]], proc=6),\n",
              "  'AB': Local([[16., 15., 16.],\n",
              "         [48., 12.,  6.]], proc=6)},\n",
              " {'A': Local([[8., 6., 3., 4.],\n",
              "         [7., 5., 3., 1.]], proc=7),\n",
              "  'B': Local([[0., 1., 5., 8.],\n",
              "         [1., 0., 4., 4.]], proc=7),\n",
              "  'A+B': Local([[ 8.,  7.,  8., 12.],\n",
              "         [ 8.,  5.,  7.,  5.]], proc=7),\n",
              "  'A+B+B': Local([[ 8.,  8., 13., 20.],\n",
              "         [ 9.,  5., 11.,  9.]], proc=7),\n",
              "  '-(A)': Local([[-8., -6., -3., -4.],\n",
              "         [-7., -5., -3., -1.]], proc=7),\n",
              "  'A-B': Local([[ 8.,  5., -2., -4.],\n",
              "         [ 6.,  5., -1., -3.]], proc=7),\n",
              "  'AB': Local([[ 0.,  6., 15., 32.],\n",
              "         [ 7.,  0., 12.,  4.]], proc=7)},\n",
              " {'A': Local([[5.],\n",
              "         [2.]], proc=8),\n",
              "  'B': Local([[4.],\n",
              "         [8.]], proc=8),\n",
              "  'A+B': Local([[ 9.],\n",
              "         [10.]], proc=8),\n",
              "  'A+B+B': Local([[13.],\n",
              "         [18.]], proc=8),\n",
              "  '-(A)': Local([[-5.],\n",
              "         [-2.]], proc=8),\n",
              "  'A-B': Local([[ 1.],\n",
              "         [-6.]], proc=8),\n",
              "  'AB': Local([[20.],\n",
              "         [16.]], proc=8)},\n",
              " {'A': Local([[3., 6.],\n",
              "         [3., 6.]], proc=9),\n",
              "  'B': Local([[7., 7.],\n",
              "         [7., 5.]], proc=9),\n",
              "  'A+B': Local([[10., 13.],\n",
              "         [10., 11.]], proc=9),\n",
              "  'A+B+B': Local([[17., 20.],\n",
              "         [17., 16.]], proc=9),\n",
              "  '-(A)': Local([[-3., -6.],\n",
              "         [-3., -6.]], proc=9),\n",
              "  'A-B': Local([[-4., -1.],\n",
              "         [-4.,  1.]], proc=9),\n",
              "  'AB': Local([[21., 42.],\n",
              "         [21., 30.]], proc=9)},\n",
              " {'A': Local([[0., 5., 3.],\n",
              "         [4., 7., 7.]], proc=10),\n",
              "  'B': Local([[7., 4., 3.],\n",
              "         [8., 4., 4.]], proc=10),\n",
              "  'A+B': Local([[ 7.,  9.,  6.],\n",
              "         [12., 11., 11.]], proc=10),\n",
              "  'A+B+B': Local([[14., 13.,  9.],\n",
              "         [20., 15., 15.]], proc=10),\n",
              "  '-(A)': Local([[-0., -5., -3.],\n",
              "         [-4., -7., -7.]], proc=10),\n",
              "  'A-B': Local([[-7.,  1.,  0.],\n",
              "         [-4.,  3.,  3.]], proc=10),\n",
              "  'AB': Local([[ 0., 20.,  9.],\n",
              "         [32., 28., 28.]], proc=10)},\n",
              " {'A': Local([[6., 6., 5., 3.],\n",
              "         [2., 3., 7., 8.]], proc=11),\n",
              "  'B': Local([[3., 7., 0., 3.],\n",
              "         [3., 0., 7., 3.]], proc=11),\n",
              "  'A+B': Local([[ 9., 13.,  5.,  6.],\n",
              "         [ 5.,  3., 14., 11.]], proc=11),\n",
              "  'A+B+B': Local([[12., 20.,  5.,  9.],\n",
              "         [ 8.,  3., 21., 14.]], proc=11),\n",
              "  '-(A)': Local([[-6., -6., -5., -3.],\n",
              "         [-2., -3., -7., -8.]], proc=11),\n",
              "  'A-B': Local([[ 3., -1.,  5.,  0.],\n",
              "         [-1.,  3.,  0.,  5.]], proc=11),\n",
              "  'AB': Local([[18., 42.,  0.,  9.],\n",
              "         [ 6.,  0., 49., 24.]], proc=11)},\n",
              " {'A': Local([[3.],\n",
              "         [0.],\n",
              "         [6.]], proc=12),\n",
              "  'B': Local([[6.],\n",
              "         [6.],\n",
              "         [7.]], proc=12),\n",
              "  'A+B': Local([[ 9.],\n",
              "         [ 6.],\n",
              "         [13.]], proc=12),\n",
              "  'A+B+B': Local([[15.],\n",
              "         [12.],\n",
              "         [20.]], proc=12),\n",
              "  '-(A)': Local([[-3.],\n",
              "         [-0.],\n",
              "         [-6.]], proc=12),\n",
              "  'A-B': Local([[-3.],\n",
              "         [-6.],\n",
              "         [-1.]], proc=12),\n",
              "  'AB': Local([[18.],\n",
              "         [ 0.],\n",
              "         [42.]], proc=12)},\n",
              " {'A': Local([[3., 3.],\n",
              "         [5., 8.],\n",
              "         [3., 4.]], proc=13),\n",
              "  'B': Local([[0., 1.],\n",
              "         [0., 8.],\n",
              "         [3., 4.]], proc=13),\n",
              "  'A+B': Local([[ 3.,  4.],\n",
              "         [ 5., 16.],\n",
              "         [ 6.,  8.]], proc=13),\n",
              "  'A+B+B': Local([[ 3.,  5.],\n",
              "         [ 5., 24.],\n",
              "         [ 9., 12.]], proc=13),\n",
              "  '-(A)': Local([[-3., -3.],\n",
              "         [-5., -8.],\n",
              "         [-3., -4.]], proc=13),\n",
              "  'A-B': Local([[3., 2.],\n",
              "         [5., 0.],\n",
              "         [0., 0.]], proc=13),\n",
              "  'AB': Local([[ 0.,  3.],\n",
              "         [ 0., 64.],\n",
              "         [ 9., 16.]], proc=13)},\n",
              " {'A': Local([[6., 1., 6.],\n",
              "         [0., 5., 8.],\n",
              "         [2., 5., 5.]], proc=14),\n",
              "  'B': Local([[1., 5., 6.],\n",
              "         [6., 8., 3.],\n",
              "         [0., 2., 4.]], proc=14),\n",
              "  'A+B': Local([[ 7.,  6., 12.],\n",
              "         [ 6., 13., 11.],\n",
              "         [ 2.,  7.,  9.]], proc=14),\n",
              "  'A+B+B': Local([[ 8., 11., 18.],\n",
              "         [12., 21., 14.],\n",
              "         [ 2.,  9., 13.]], proc=14),\n",
              "  '-(A)': Local([[-6., -1., -6.],\n",
              "         [-0., -5., -8.],\n",
              "         [-2., -5., -5.]], proc=14),\n",
              "  'A-B': Local([[ 5., -4.,  0.],\n",
              "         [-6., -3.,  5.],\n",
              "         [ 2.,  3.,  1.]], proc=14),\n",
              "  'AB': Local([[ 6.,  5., 36.],\n",
              "         [ 0., 40., 24.],\n",
              "         [ 0., 10., 20.]], proc=14)},\n",
              " {'A': Local([[4., 6., 5., 6.],\n",
              "         [0., 4., 7., 0.],\n",
              "         [6., 5., 8., 3.]], proc=15),\n",
              "  'B': Local([[5., 2., 1., 1.],\n",
              "         [7., 4., 8., 7.],\n",
              "         [1., 0., 6., 2.]], proc=15),\n",
              "  'A+B': Local([[ 9.,  8.,  6.,  7.],\n",
              "         [ 7.,  8., 15.,  7.],\n",
              "         [ 7.,  5., 14.,  5.]], proc=15),\n",
              "  'A+B+B': Local([[14., 10.,  7.,  8.],\n",
              "         [14., 12., 23., 14.],\n",
              "         [ 8.,  5., 20.,  7.]], proc=15),\n",
              "  '-(A)': Local([[-4., -6., -5., -6.],\n",
              "         [-0., -4., -7., -0.],\n",
              "         [-6., -5., -8., -3.]], proc=15),\n",
              "  'A-B': Local([[-1.,  4.,  4.,  5.],\n",
              "         [-7.,  0., -1., -7.],\n",
              "         [ 5.,  5.,  2.,  1.]], proc=15),\n",
              "  'AB': Local([[20., 12.,  5.,  6.],\n",
              "         [ 0., 16., 56.,  0.],\n",
              "         [ 6.,  0., 48.,  6.]], proc=15)}]"
            ]
          },
          "execution_count": 14,
          "metadata": {},
          "output_type": "execute_result"
        }
      ],
      "source": [
        "E = -A\n",
        "# F = A.__sub__(B)\n",
        "F = A - B\n",
        "G = A * B\n",
        "[core.memory for core in machine.values()]"
      ]
    },
    {
      "cell_type": "markdown",
      "id": "ea804043",
      "metadata": {
        "id": "ea804043"
      },
      "source": [
        "<br>"
      ]
    },
    {
      "cell_type": "markdown",
      "id": "b9ed5d3e",
      "metadata": {
        "id": "b9ed5d3e"
      },
      "source": [
        "**TASK 4:**\n",
        "\n",
        "Write a Python function that implements block *matrix multiplication* on a `distributed_block_matrix` object.\n",
        "\n",
        "\n",
        "This will require `send` and `receive`."
      ]
    },
    {
      "cell_type": "code",
      "execution_count": 17,
      "id": "0907800d",
      "metadata": {
        "id": "0907800d"
      },
      "outputs": [],
      "source": [
        "def matrix_multiply_block_matrix(A,B):\n",
        "    if A.proc != B.proc:\n",
        "        cores = [k for k, v in machine.items()]\n",
        "        machine[cores[B.proc]].send(machine[cores[A.proc]], A.x)\n",
        "    \n",
        "    \n"
      ]
    },
    {
      "cell_type": "code",
      "execution_count": 117,
      "id": "4fea2826",
      "metadata": {},
      "outputs": [],
      "source": [
        "A = BlockMatrix('A')  # In MACHINE \n",
        "B = BlockMatrix('B')\n",
        "# matrix_multiply_block_matrix(A, B)"
      ]
    },
    {
      "cell_type": "code",
      "execution_count": 150,
      "id": "9d322b9d",
      "metadata": {},
      "outputs": [
        {
          "data": {
            "text/plain": [
              "Local([[4., 5., 8.],\n",
              "       [6., 6., 3.]], proc=6)"
            ]
          },
          "execution_count": 150,
          "metadata": {},
          "output_type": "execute_result"
        }
      ],
      "source": [
        "A._machine[(1,2)]"
      ]
    },
    {
      "cell_type": "code",
      "execution_count": null,
      "id": "0fe028f7",
      "metadata": {},
      "outputs": [],
      "source": [
        "    # def __matmul__(self, multiplier):\n",
        "    #     if self.order[1] != multiplier.order[0]:\n",
        "    #         raise ValueError(\"The multiplier was non-conformable under multiplication.\")\n",
        "    #     return [[sum(a*b for a,b in zip(srow,mcol)) for mcol in zip(*multiplier.mat)] for srow in self.mat]\n",
        "\n",
        "    # def __imatmul__(self, multiplier):\n",
        "    #     self.mat = self @ multiplier\n",
        "    #     return self.mat\n",
        "\n",
        "    # def __rmatmul__(self, multiplicand):\n",
        "    #     if multiplicand.order[1] != self.order[0]:\n",
        "    #         raise ValueError(\"The multiplier was non-conformable under multiplication.\")\n",
        "    #     return [[sum(a*b for a,b in zip(mrow,scol)) for scol in zip(*self.mat)] for mrow in multiplicand.mat]"
      ]
    },
    {
      "cell_type": "code",
      "execution_count": 105,
      "id": "815cc687",
      "metadata": {},
      "outputs": [
        {
          "data": {
            "text/plain": [
              "{'A': Local([[4., 5., 8.],\n",
              "        [6., 6., 3.]], proc=6),\n",
              " 'B': Local([[4., 3., 2.],\n",
              "        [8., 2., 2.]], proc=6),\n",
              " 'A+B': Local([[ 8.,  8., 10.],\n",
              "        [14.,  8.,  5.]], proc=6),\n",
              " 'A+B+B': Local([[12., 11., 12.],\n",
              "        [22., 10.,  7.]], proc=6),\n",
              " '-(A)': Local([[-4., -5., -8.],\n",
              "        [-6., -6., -3.]], proc=6),\n",
              " 'A-B': Local([[ 0.,  2.,  6.],\n",
              "        [-2.,  4.,  1.]], proc=6),\n",
              " 'AB': Local([[16., 15., 16.],\n",
              "        [48., 12.,  6.]], proc=6)}"
            ]
          },
          "execution_count": 105,
          "metadata": {},
          "output_type": "execute_result"
        }
      ],
      "source": [
        "# machine[(1,2)].memory\n",
        "# machine[(3,1)]['A']\n",
        "# machine[(3,1)].send(machine[(1,2)],'A')\n",
        "# machine[(1,2)].buffer\n",
        "# machine[(1,2)].receive(machine[(3,1)], 'A', out='tmp')\n",
        "machine[(1,2)].memory\n",
        "# del machine[(1,2)].memory['tmp']\n",
        "# machine.keys()[[machine.index(machine[(1,2)]['A'].proc)]\n",
        "# print([k for k,v in machine.items() if v == (\"Core(\"+str(machine[(1,2)]['A'].proc)+\")\")])\n",
        "# [k for k,v in machine.items() if v == Core(1)]\n",
        "# machine.values()\n",
        "# [k for k, v in machine.items()][machine[(1,2)]['A'].proc]\n",
        "# # machine.keys()[list(machine.values()).index(machine[(1,2)['A'].proc])]"
      ]
    },
    {
      "cell_type": "code",
      "execution_count": 111,
      "id": "ee5c5148",
      "metadata": {},
      "outputs": [
        {
          "data": {
            "text/plain": [
              "[[Local(47., proc=6), Local(58., proc=6)],\n",
              " [Local(48., proc=6), Local(66., proc=6)]]"
            ]
          },
          "execution_count": 111,
          "metadata": {},
          "output_type": "execute_result"
        }
      ],
      "source": [
        "# machine[(1,2)]['A']\n",
        "# machine[(1,2)]['B'].T\n",
        "matmul(machine[(1,2)]['A'], machine[(1,2)]['B'].T)"
      ]
    },
    {
      "cell_type": "code",
      "execution_count": 113,
      "id": "5e00e17e",
      "metadata": {},
      "outputs": [
        {
          "ename": "ValueError",
          "evalue": "matmul: Input operand 1 has a mismatch in its core dimension 0, with gufunc signature (n?,k),(k,m?)->(n?,m?) (size 2 is different from 3)",
          "output_type": "error",
          "traceback": [
            "\u001b[1;31m---------------------------------------------------------------------------\u001b[0m",
            "\u001b[1;31mValueError\u001b[0m                                Traceback (most recent call last)",
            "Cell \u001b[1;32mIn[113], line 1\u001b[0m\n\u001b[1;32m----> 1\u001b[0m machine[(\u001b[39m1\u001b[39;49m,\u001b[39m2\u001b[39;49m)][\u001b[39m'\u001b[39;49m\u001b[39mA\u001b[39;49m\u001b[39m'\u001b[39;49m] \u001b[39m@\u001b[39;49m machine[(\u001b[39m1\u001b[39;49m,\u001b[39m2\u001b[39;49m)][\u001b[39m'\u001b[39;49m\u001b[39mB\u001b[39;49m\u001b[39m'\u001b[39;49m]\n",
            "Cell \u001b[1;32mIn[3], line 83\u001b[0m, in \u001b[0;36mLocal.__matmul__\u001b[1;34m(self, other)\u001b[0m\n\u001b[0;32m     81\u001b[0m \u001b[39mdef\u001b[39;00m \u001b[39m__matmul__\u001b[39m(\u001b[39mself\u001b[39m,other):\n\u001b[0;32m     82\u001b[0m     other \u001b[39m=\u001b[39m \u001b[39mself\u001b[39m\u001b[39m.\u001b[39mcheck(other)\n\u001b[1;32m---> 83\u001b[0m     \u001b[39mreturn\u001b[39;00m Local(np\u001b[39m.\u001b[39;49mndarray\u001b[39m.\u001b[39;49m\u001b[39m__matmul__\u001b[39;49m(\u001b[39mself\u001b[39;49m,other),\u001b[39mself\u001b[39m\u001b[39m.\u001b[39mproc)\n",
            "\u001b[1;31mValueError\u001b[0m: matmul: Input operand 1 has a mismatch in its core dimension 0, with gufunc signature (n?,k),(k,m?)->(n?,m?) (size 2 is different from 3)"
          ]
        }
      ],
      "source": [
        "machine[(1,2)]['A'] @ machine[(1,2)]['B']"
      ]
    },
    {
      "cell_type": "code",
      "execution_count": 74,
      "id": "2f557b01",
      "metadata": {},
      "outputs": [
        {
          "data": {
            "text/plain": [
              "[Local(5, proc=6), Local(6, proc=6)]"
            ]
          },
          "execution_count": 74,
          "metadata": {},
          "output_type": "execute_result"
        }
      ],
      "source": [
        "# list(zip(*zip(*machine[1,2]['B'])))\n",
        "# list(zip(*machine[1,2]['B'].T))\n",
        "[Local(5,proc=6),Local(6, proc=6)]"
      ]
    },
    {
      "cell_type": "code",
      "execution_count": 17,
      "id": "39327972",
      "metadata": {},
      "outputs": [
        {
          "name": "stdout",
          "output_type": "stream",
          "text": [
            "[Local(133., proc=6), Local(98., proc=6)]\n",
            "[Local(128., proc=6), Local(100., proc=6)]\n"
          ]
        }
      ],
      "source": [
        "for row_a in machine[(1,2)]['A']:\n",
        "    # print(row_a)\n",
        "    rowprod = []\n",
        "    for col_b in list(zip(*machine[1,2]['B'].T)):\n",
        "        # print(col_b)\n",
        "        crossprod = 0\n",
        "        for ele_a, ele_b in zip(row_a, col_b):\n",
        "            # print(ele_a, ele_b)\n",
        "            crossprod += ele_a * ele_b\n",
        "        rowprod.append(crossprod)\n",
        "    print(rowprod)\n",
        "# rowprod"
      ]
    },
    {
      "cell_type": "code",
      "execution_count": 19,
      "id": "d3aa083e",
      "metadata": {},
      "outputs": [],
      "source": [
        "def matmul(a,b):\n",
        "    zip_b = zip(*b)\n",
        "    # uncomment next line if python 3 : \n",
        "    zip_b = list(zip_b)\n",
        "    return [[sum(ele_a*ele_b for ele_a, ele_b in zip(row_a, col_b)) \n",
        "            for col_b in zip_b] for row_a in a]"
      ]
    },
    {
      "cell_type": "code",
      "execution_count": 30,
      "id": "d6fe1078",
      "metadata": {},
      "outputs": [
        {
          "name": "stdout",
          "output_type": "stream",
          "text": [
            "[(1, 1, 3), (2, 2, 4)]\n"
          ]
        },
        {
          "data": {
            "text/plain": [
              "[[12, 18], [27, 42], [42, 66], [57, 90]]"
            ]
          },
          "execution_count": 30,
          "metadata": {},
          "output_type": "execute_result"
        }
      ],
      "source": [
        "x = [[1,2,3],[4,5,6],[7,8,9],[10,11,12]]\n",
        "y = [[1,2],[1,2],[3,4]]\n",
        "print(list(zip(*y)))\n",
        "mx = np.matrix(x)\n",
        "my = np.matrix(y)\n",
        "matmult(x,y)"
      ]
    },
    {
      "cell_type": "markdown",
      "id": "d1aa6dfc",
      "metadata": {
        "id": "d1aa6dfc"
      },
      "source": [
        "<br>"
      ]
    },
    {
      "cell_type": "markdown",
      "id": "48dee9b8",
      "metadata": {
        "id": "48dee9b8"
      },
      "source": [
        "**TASK 5:**\n",
        "\n",
        "Write a Python function that implements global block matrix *transpose* on a `distributed_block_matrix` object.\n",
        "\n",
        "\n",
        "This will require `send` and `receive`. "
      ]
    },
    {
      "cell_type": "code",
      "execution_count": null,
      "id": "31c7d670",
      "metadata": {
        "id": "31c7d670"
      },
      "outputs": [],
      "source": [
        "def transpose_block_matrix(A,B):\n",
        "    \n",
        "    pass"
      ]
    },
    {
      "cell_type": "markdown",
      "id": "71d8107c",
      "metadata": {
        "id": "71d8107c"
      },
      "source": [
        "<br>"
      ]
    },
    {
      "cell_type": "markdown",
      "id": "e1b5cd41",
      "metadata": {
        "id": "e1b5cd41"
      },
      "source": [
        "**TASK 6:**\n",
        "\n",
        "Write a Python function that implements global block matrix *trace* on a `distributed_block_matrix` object.\n",
        "\n",
        "\n",
        "This will require `send` and `receive`."
      ]
    },
    {
      "cell_type": "code",
      "execution_count": null,
      "id": "9d8a6cd2",
      "metadata": {},
      "outputs": [],
      "source": [
        "def trace_block_matrix(A,B):\n",
        "\n",
        "    pass"
      ]
    },
    {
      "cell_type": "markdown",
      "id": "5729a37d",
      "metadata": {
        "id": "5729a37d"
      },
      "source": [
        "<br>"
      ]
    },
    {
      "cell_type": "markdown",
      "id": "878013f6",
      "metadata": {
        "id": "878013f6"
      },
      "source": [
        "**TASK 7:**\n",
        "\n",
        "Include transpose and trace in your `BlockMatrix` class using the same syntax as `numpy`. I.e., `A.T` for transpose and `A.trace()` for trace."
      ]
    },
    {
      "cell_type": "code",
      "execution_count": null,
      "id": "c4a6ad8f",
      "metadata": {},
      "outputs": [],
      "source": []
    },
    {
      "cell_type": "markdown",
      "id": "c1d99e04",
      "metadata": {
        "id": "c1d99e04"
      },
      "source": [
        "<br>"
      ]
    },
    {
      "cell_type": "markdown",
      "id": "12948752",
      "metadata": {
        "id": "12948752"
      },
      "source": [
        "**TASK 8++:**\n",
        "\n",
        "Include anything else useful you might think of regarding matrices in your `BlockMatrix` class. Create some tests and have some fun seeing what you can do. "
      ]
    },
    {
      "cell_type": "code",
      "execution_count": null,
      "id": "411313e0",
      "metadata": {
        "id": "411313e0"
      },
      "outputs": [],
      "source": []
    },
    {
      "cell_type": "markdown",
      "id": "1a63c1c3",
      "metadata": {
        "id": "1a63c1c3"
      },
      "source": [
        "# End Notebook"
      ]
    }
  ],
  "metadata": {
    "colab": {
      "provenance": []
    },
    "kernelspec": {
      "display_name": "hpcpy39",
      "language": "python",
      "name": "python3"
    },
    "language_info": {
      "codemirror_mode": {
        "name": "ipython",
        "version": 3
      },
      "file_extension": ".py",
      "mimetype": "text/x-python",
      "name": "python",
      "nbconvert_exporter": "python",
      "pygments_lexer": "ipython3",
      "version": "3.9.16"
    },
    "vscode": {
      "interpreter": {
        "hash": "ef67bc5c28494f52e18def38d1a12dda353be597dd24bb476cc25516f5de0e84"
      }
    }
  },
  "nbformat": 4,
  "nbformat_minor": 5
}
