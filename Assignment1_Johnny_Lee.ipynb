{
  "cells": [
    {
      "cell_type": "markdown",
      "id": "50f1feda",
      "metadata": {
        "id": "50f1feda"
      },
      "source": [
        "# Block matrices and emulated parallelism\n",
        "\n",
        "</br>\n",
        "</br>\n",
        "\n",
        "\n",
        "\n",
        "You all should know how to multiply matrices. In terms of indices, \n",
        "\n",
        "$$\n",
        "\\large\n",
        "\\left[ \\, \\mathbf{A}\\, \\mathbf{B}\\, \\right]_{\\,i,\\,k} \\ = \\ \\sum_{j} [\\, \\mathbf{A} \\, ]_{\\,i,\\,j}\\, [\\,\\mathbf{B} \\,]_{\\,j,\\,k}.\n",
        "$$\n",
        "\n",
        "The notation here is that $[\\,\\mathbf{A} \\,]_{i,j}$ is the $(i,j)$th element of the matrix $\\mathbf{A}$. Of course, the number of columns of $\\mathbf{A}$ must match the number of rows of $\\mathbf{B}$.\n",
        "\n",
        "\n",
        "</br>\n",
        "</br>\n",
        "\n",
        "A powerful fact about matrices is that matrix multiplication also works in *block* form. For example, \n",
        "\n",
        "$$\n",
        "\\large\n",
        "\\left(\n",
        "\\begin{array}{cc}\n",
        " \\mathbf{A} & \\mathbf{B} \\\\\n",
        " \\mathbf{C} & \\mathbf{D} \\\\\n",
        "\\end{array}\n",
        "\\right)\\left(\n",
        "\\begin{array}{cc}\n",
        " \\mathbf{E} & \\mathbf{F} \\\\\n",
        " \\mathbf{G} & \\mathbf{H} \\\\\n",
        "\\end{array}\n",
        "\\right) \\ = \\ \\left(\n",
        "\\begin{array}{cc}\n",
        " \\mathbf{A\\, E + B\\, G} & \\mathbf{A\\, F + B\\, H} \\\\\n",
        " \\mathbf{C\\, E + D\\, G} & \\mathbf{C\\, F + D\\, H} \\\\\n",
        "\\end{array}\n",
        "\\right)\n",
        "$$\n",
        "\n",
        "Each entry in each matrix can represent an entire matrix, and each multiplication is a matrix multiplication (where we take care to respect commutativity). \n",
        "\n",
        "The block matrix multiplication works straight away if each block is a square matrix of the same size. However, there are many more possibilities."
      ]
    },
    {
      "cell_type": "markdown",
      "id": "05db58e6",
      "metadata": {
        "id": "05db58e6"
      },
      "source": [
        "**Question 0:** What are the *most general* possible size conditions that each matrix, $\\mathbf{A}, \\ldots , \\mathbf{H}$ can take? What are the respective sizes of each output block? What is the total size of each composite matrix on the left- and right-hand sides?"
      ]
    },
    {
      "cell_type": "markdown",
      "id": "cf6b29f3",
      "metadata": {
        "id": "cf6b29f3"
      },
      "source": [
        "**Answer 0: (click on cell to put your answer in Markdown here)**\n",
        "\n",
        "<br>\n"
      ]
    },
    {
      "cell_type": "markdown",
      "id": "9afe2c4e",
      "metadata": {
        "id": "9afe2c4e"
      },
      "source": [
        "**Question 1:** The above block matrices are based on $2\\times 2$ row/column partitions in each case. Now suppose \n",
        "\n",
        "$$\\large\n",
        "\\mathbf{A}\\, \\mathbf{B} \\ = \\ \\mathbf{C},\n",
        "$$\n",
        "\n",
        "where $\\mathbf{A},\\, \\mathbf{B}, \\, \\mathbf{C}$ are three compatible matrices. What is the *most general* partitioning of all three matrices into block structures?"
      ]
    },
    {
      "cell_type": "markdown",
      "id": "0b527301",
      "metadata": {
        "id": "0b527301"
      },
      "source": [
        "**Answer 1: (click on cell to put your answer in Markdown here)**\n",
        "\n",
        "<br>"
      ]
    },
    {
      "cell_type": "markdown",
      "id": "8d487450",
      "metadata": {
        "id": "8d487450"
      },
      "source": [
        "<br>"
      ]
    },
    {
      "cell_type": "markdown",
      "id": "e845e823",
      "metadata": {
        "id": "e845e823"
      },
      "source": [
        "## Block matrix data structures\n",
        "\n",
        "\n",
        "Python, in general, and `numpy` in particular, have built-in data structures for handling matrix multiplication, in particular `np.bmat`. \n",
        "\n",
        "If you were interested in working with block matrices in serial, then you would definitely want to use one of the optimised built-in Python tools. However, we are interested in learning how to work *in parallel*. \n",
        "\n",
        "It is a good idea to put different matrix blocks on different processor cores.  \n",
        "\n",
        "### Faux-`Cores` and faux-`Local` arrays \n",
        "\n",
        "In this set of exercises, you'll construct block matrices on fake local processor cores. "
      ]
    },
    {
      "cell_type": "code",
      "execution_count": 1,
      "id": "c08e2de9",
      "metadata": {
        "id": "c08e2de9"
      },
      "outputs": [],
      "source": [
        "import numpy as np\n",
        "\n",
        "#from eMPI import Local, Core"
      ]
    },
    {
      "cell_type": "code",
      "execution_count": 2,
      "id": "9fOt1Lpvn5Fa",
      "metadata": {
        "id": "9fOt1Lpvn5Fa"
      },
      "outputs": [],
      "source": [
        "class NotLocalData(Exception):\n",
        "    pass\n",
        "\n",
        "class Local(np.ndarray):\n",
        "\n",
        "    def __new__(cls, input_array, proc):\n",
        "        obj = np.asarray(input_array).view(cls)\n",
        "        obj.proc = proc\n",
        "        return obj\n",
        "        \n",
        "    def __array_finalize__(self, obj):\n",
        "        if obj is None: return\n",
        "        self.your_new_attr = getattr(obj, 'your_new_attr', None)\n",
        "    \n",
        "    def __str__(self):\n",
        "        return (np.ndarray.__str__(self))\n",
        "        if s[0] not in ('[','(','{'):\n",
        "            return f'Local({s}, proc={self.proc})'\n",
        "        return f\"{s}, proc={self.proc}]\"\n",
        "        \n",
        "    def __repr__(self):\n",
        "        s = (np.ndarray.__repr__(self))[:-1]\n",
        "        return f\"{s}, proc={self.proc})\"\n",
        "    \n",
        "    def __getitem__(self,args):\n",
        "        args = self.check(args)\n",
        "        return Local(np.ndarray.__getitem__(self, args), self.proc)\n",
        "    \n",
        "    def __setitem__(self,args,value):\n",
        "        args  = self.check(args)\n",
        "        value = self.check(value)\n",
        "        return Local(np.ndarray.__setitem__(self, args,value), self.proc)\n",
        "    \n",
        "    @property\n",
        "    def T(self):\n",
        "        return Local(np.ndarray.transpose(self),self.proc)\n",
        "    \n",
        "    def transpose(self):\n",
        "        return self.T\n",
        "    \n",
        "    def trace(self):\n",
        "        return Local(np.ndarray.trace(self),self.proc)\n",
        "    \n",
        "    def __neg__(self):\n",
        "        return Local(np.ndarray.__neg__(self),self.proc)\n",
        "    \n",
        "    def __pos__(self):\n",
        "        return Local(np.ndarray.__pos__(self),self.proc)\n",
        "    \n",
        "    def __abs__(self):\n",
        "        return Local(np.ndarray.__abs__(self),self.proc)\n",
        "    \n",
        "    def __add__(self,other):\n",
        "        other = self.check(other)\n",
        "        return Local(np.ndarray.__add__(self,other),self.proc)\n",
        "    \n",
        "    def __sub__(self,other):\n",
        "        other = self.check(other)\n",
        "        return Local(np.ndarray.__sub__(self,other),self.proc)\n",
        "    \n",
        "    def __mul__(self,other):\n",
        "        other = self.check(other)\n",
        "        return Local(np.ndarray.__mul__(self,other),self.proc)\n",
        "    \n",
        "    def __truediv__(self,other):\n",
        "        other = self.check(other)\n",
        "        return Local(np.ndarray.__truediv__(self,other),self.proc)\n",
        "    \n",
        "    def __floordiv__(self,other):\n",
        "        other = self.check(other)\n",
        "        return Local(np.ndarray.__floordiv__(self,other),self.proc)\n",
        "    \n",
        "    def __mod__(self,other):\n",
        "        other = self.check(other)\n",
        "        return Local(np.ndarray.__mod__(self,other),self.proc)\n",
        "    \n",
        "    def __pow__(self,other):\n",
        "        other = self.check(other)\n",
        "        return Local(np.ndarray.__pow__(self,other),self.proc)\n",
        "    \n",
        "    def __matmul__(self,other):\n",
        "        other = self.check(other)\n",
        "        return Local(np.ndarray.__matmul__(self,other),self.proc)\n",
        "    \n",
        "    def __eq__(self,other):\n",
        "        other = self.check(other)\n",
        "        return Local(np.ndarray.__eq__(self,other),self.proc)\n",
        "    \n",
        "    def __ge__(self,other):\n",
        "        other = self.check(other)\n",
        "        return Local(np.ndarray.__ge__(self,other),self.proc)\n",
        "    \n",
        "    def __le__(self,other):\n",
        "        other = self.check(other)\n",
        "        return Local(np.ndarray.__le__(self,other),self.proc)\n",
        "    \n",
        "    def __gt__(self,other):\n",
        "        other = self.check(other)\n",
        "        return Local(np.ndarray.__gt__(self,other),self.proc)\n",
        "    \n",
        "    def __lt__(self,other):\n",
        "        other = self.check(other)\n",
        "        return Local(np.ndarray.__lt__(self,other),self.proc)\n",
        "    \n",
        "    def __radd__(self,other):\n",
        "        other = self.check(other)\n",
        "        return Local(np.ndarray.__radd__(self,other),self.proc)\n",
        "    \n",
        "    def __rsub__(self,other):\n",
        "        other = self.check(other)\n",
        "        return Local(np.ndarray.__rsub__(self,other),self.proc)\n",
        "    \n",
        "    def __rmul__(self,other):\n",
        "        other = self.check(other)\n",
        "        return Local(np.ndarray.__rmul__(self,other),self.proc)\n",
        "    \n",
        "    def __rtruediv__(self,other):\n",
        "        other = self.check(other)\n",
        "        return Local(np.ndarray.__rtruediv__(self,other),self.proc)\n",
        "    \n",
        "    def __rfloordiv__(self,other):\n",
        "        other = self.check(other)\n",
        "        return Local(np.ndarray.__rfloordiv__(self,other),self.proc)\n",
        "    \n",
        "    def __rmod__(self,other):\n",
        "        other = self.check(other)\n",
        "        return Local(np.ndarray.__rmod__(self,other),self.proc)\n",
        "    \n",
        "    def __rpow__(self,other):\n",
        "        other = self.check(other)\n",
        "        return Local(np.ndarray.__rpow__(self,other),self.proc)\n",
        "    \n",
        "    def __req__(self,other):\n",
        "        other = self.check(other)\n",
        "        return Local(np.ndarray.__req__(self,other),self.proc)\n",
        "    \n",
        "    def __ge__(self,other):\n",
        "        other = self.check(other)\n",
        "        return Local(np.ndarray.__rge__(self,other),self.proc)\n",
        "    \n",
        "    def __rle__(self,other):\n",
        "        other = self.check(other)\n",
        "        return Local(np.ndarray.__rle__(self,other),self.proc)\n",
        "    \n",
        "    def __rgt__(self,other):\n",
        "        other = self.check(other)\n",
        "        return Local(np.ndarray.__rgt__(self,other),self.proc)\n",
        "    \n",
        "    def __rlt__(self,other):\n",
        "        other = self.check(other)\n",
        "        return Local(np.ndarray.__rlt__(self,other),self.proc)\n",
        "    \n",
        "    def check(self,other):\n",
        "        if other is None:\n",
        "            return other\n",
        "        \n",
        "        if isinstance(other,(int, float, complex)):\n",
        "            return Local(other,self.proc)\n",
        "        \n",
        "        if isinstance(other, slice):\n",
        "            for e in [other.start, other.stop, other.step]:\n",
        "                self.check(e)\n",
        "            return other\n",
        "        \n",
        "        if isinstance(other, (list, tuple)):\n",
        "            return type(other)([self.check(e) for e in other])\n",
        "        \n",
        "        if not isinstance(other, Local):\n",
        "            raise NotLocalData('Data is not local to any core.')\n",
        "        \n",
        "        if self.proc != other.proc:\n",
        "            raise NotLocalData('The data is not local.')\n",
        "        \n",
        "        return other\n",
        "\n",
        "\n",
        "class Core():\n",
        "    \n",
        "    def __init__(self,proc):\n",
        "        self.proc = proc \n",
        "        self.memory = {}\n",
        "        self.buffer = {}\n",
        "    \n",
        "    def __str__(self):\n",
        "        return \"Core(\"+str(self.proc)+')'\n",
        "    \n",
        "    def __repr__(self):\n",
        "        return str(self)\n",
        "    \n",
        "    def __getitem__(self,item):\n",
        "        return self.memory[item]\n",
        "    \n",
        "    def __setitem__(self,item,value):\n",
        "        self.memory[item] = Local(value,self.proc)\n",
        "        \n",
        "    def send(self,other,data):\n",
        "        other.buffer[self.proc,data] = Local(self[data],other.proc)\n",
        "        \n",
        "    def receive(self,other,data,out=None):\n",
        "        if out == None: out = data\n",
        "        self[out] = self.buffer[other.proc,data]\n",
        "        del self.buffer[other.proc,data]\n"
      ]
    },
    {
      "cell_type": "markdown",
      "id": "ece81890",
      "metadata": {
        "id": "ece81890"
      },
      "source": [
        "<br>"
      ]
    },
    {
      "attachments": {},
      "cell_type": "markdown",
      "id": "adfa5565",
      "metadata": {
        "id": "adfa5565"
      },
      "source": [
        "**TASK 0.a:**\n",
        "\n",
        "Consider a block matrix with row paritions $[m_{0}, \\ldots, m_{r-1}]$ and column paritions $[n_{0}, \\ldots, n_{c-1}]$. \n",
        "\n",
        "Make a Python function that creates a distributed block matrix across $r \\times c$ faux-`Core` objects (as we saw in lecture).\n",
        "\n",
        "The result should be a `dictionary` of `Core` objects. Each `Core` should have an $m_{i} \\times n_{j}$ array filled with zeros.  "
      ]
    },
    {
      "cell_type": "code",
      "execution_count": 61,
      "id": "ec50b99b",
      "metadata": {},
      "outputs": [],
      "source": [
        "total_rows = 4\n",
        "total_cols = 3\n",
        "\n",
        "MACHINE = {(i, j): Core(i * total_cols + j) for i in range(total_rows) for j in range(total_cols)}"
      ]
    },
    {
      "cell_type": "code",
      "execution_count": 108,
      "id": "6c38d201",
      "metadata": {
        "id": "6c38d201"
      },
      "outputs": [],
      "source": [
        "def distributed_block_matrix(row_partitions, column_partitions):\n",
        "    machine = {(i, j): Core(i * total_cols + j) for i in range(len(row_partitions)) for j in range(len(column_partitions))}\n",
        "    for i in range(len(row_partitions)):\n",
        "        for j in range(len(column_partitions)):\n",
        "            for k in range(row_partitions[i]):\n",
        "                machine[(i,j)][k] = np.zeros(column_partitions[j])\n",
        "    return machine"
      ]
    },
    {
      "cell_type": "code",
      "execution_count": null,
      "id": "c9a7f012",
      "metadata": {},
      "outputs": [],
      "source": [
        "for key in bMachine:\n",
        "    print(len(bMachine[key][0]))"
      ]
    },
    {
      "cell_type": "code",
      "execution_count": 109,
      "id": "3ff8b370",
      "metadata": {},
      "outputs": [
        {
          "name": "stdout",
          "output_type": "stream",
          "text": [
            "{0: Local([0.], proc=0), 1: Local([0.], proc=0)}\n",
            "{0: Local([0., 0.], proc=1), 1: Local([0., 0.], proc=1)}\n",
            "{0: Local([0., 0., 0.], proc=2), 1: Local([0., 0., 0.], proc=2)}\n",
            "{0: Local([0., 0., 0., 0.], proc=3), 1: Local([0., 0., 0., 0.], proc=3)}\n",
            "{0: Local([0.], proc=3), 1: Local([0.], proc=3)}\n",
            "{0: Local([0., 0.], proc=4), 1: Local([0., 0.], proc=4)}\n",
            "{0: Local([0., 0., 0.], proc=5), 1: Local([0., 0., 0.], proc=5)}\n",
            "{0: Local([0., 0., 0., 0.], proc=6), 1: Local([0., 0., 0., 0.], proc=6)}\n",
            "{0: Local([0.], proc=6), 1: Local([0.], proc=6)}\n",
            "{0: Local([0., 0.], proc=7), 1: Local([0., 0.], proc=7)}\n",
            "{0: Local([0., 0., 0.], proc=8), 1: Local([0., 0., 0.], proc=8)}\n",
            "{0: Local([0., 0., 0., 0.], proc=9), 1: Local([0., 0., 0., 0.], proc=9)}\n"
          ]
        }
      ],
      "source": [
        "# Test with Toy Example\n",
        "bMachine = distributed_block_matrix([2,2,2], [1,2,3,4])\n",
        "for key in bMachine:\n",
        "    print(bMachine[key].memory)\n",
        "# bMachine[(2,2)].memory"
      ]
    },
    {
      "cell_type": "markdown",
      "id": "508cceea",
      "metadata": {
        "id": "508cceea"
      },
      "source": [
        "<br>"
      ]
    },
    {
      "cell_type": "markdown",
      "id": "03dc6462",
      "metadata": {
        "id": "03dc6462"
      },
      "source": [
        "**TASK 0.b:**\n",
        "\n",
        "Write a Python function that fills your `distributed_block_matrix` with some number. You can do this any way you like. You can put random numbers in, or some interesting structure you might like."
      ]
    },
    {
      "cell_type": "code",
      "execution_count": 106,
      "id": "e51ac49d",
      "metadata": {
        "id": "e51ac49d"
      },
      "outputs": [],
      "source": [
        "def fill_block_matrix(A):\n",
        "    for key in A:\n",
        "        for i in range(len(A[key].memory)):\n",
        "            A[key][i] = np.random.randint(0,9,len(A[key][i]))\n",
        "            # for j in range(len(A[key][i]))\n",
        "    return A"
      ]
    },
    {
      "attachments": {},
      "cell_type": "markdown",
      "id": "3a973844",
      "metadata": {},
      "source": [
        "I wrote a function that replace zeros from a randomly generated value between $0$ and $9$"
      ]
    },
    {
      "cell_type": "code",
      "execution_count": 111,
      "id": "451596aa",
      "metadata": {},
      "outputs": [
        {
          "name": "stdout",
          "output_type": "stream",
          "text": [
            "{0: Local([5], proc=0), 1: Local([4], proc=0)}\n",
            "{0: Local([6, 7], proc=1), 1: Local([4, 2], proc=1)}\n",
            "{0: Local([3, 5, 7], proc=2), 1: Local([2, 6, 4], proc=2)}\n",
            "{0: Local([5, 2, 4, 1], proc=3), 1: Local([4, 5, 0, 3], proc=3)}\n",
            "{0: Local([7], proc=3), 1: Local([8], proc=3)}\n",
            "{0: Local([3, 5], proc=4), 1: Local([8, 1], proc=4)}\n",
            "{0: Local([1, 3, 2], proc=5), 1: Local([0, 1, 1], proc=5)}\n",
            "{0: Local([3, 6, 8, 1], proc=6), 1: Local([8, 4, 8, 0], proc=6)}\n",
            "{0: Local([2], proc=6), 1: Local([3], proc=6)}\n",
            "{0: Local([0, 5], proc=7), 1: Local([7, 1], proc=7)}\n",
            "{0: Local([4, 1, 0], proc=8), 1: Local([1, 2, 1], proc=8)}\n",
            "{0: Local([0, 6, 4, 8], proc=9), 1: Local([8, 2, 0, 3], proc=9)}\n"
          ]
        }
      ],
      "source": [
        "# Test with Toy Example\n",
        "fbMachine = fill_block_matrix(bMachine)\n",
        "for key in fbMachine:\n",
        "    print(fbMachine[key].memory)"
      ]
    },
    {
      "cell_type": "markdown",
      "id": "a2909e2a",
      "metadata": {
        "id": "a2909e2a"
      },
      "source": [
        "<br>"
      ]
    },
    {
      "cell_type": "markdown",
      "id": "e7c4b214",
      "metadata": {
        "id": "e7c4b214"
      },
      "source": [
        "**TASK 1:**\n",
        "\n",
        "Create a function that element-wise adds two `distributed_block_matrix` objects.\n",
        "\n",
        "In TASK 1, make your function assume the blocks of the two matrices are the same shape. "
      ]
    },
    {
      "cell_type": "code",
      "execution_count": null,
      "id": "d632b0a0",
      "metadata": {
        "id": "d632b0a0"
      },
      "outputs": [],
      "source": [
        "def add_block_matrix(A,B):\n",
        "    \n",
        "    pass"
      ]
    },
    {
      "cell_type": "markdown",
      "id": "764e45c4",
      "metadata": {
        "id": "764e45c4"
      },
      "source": [
        "<br>"
      ]
    },
    {
      "cell_type": "markdown",
      "id": "54067583",
      "metadata": {
        "id": "54067583"
      },
      "source": [
        "**TASK 2:**\n",
        "\n",
        "Make a Python `class` that contains `distributed_block_matrix` objects and computes `__add__` using your implementation from TASK 1. "
      ]
    },
    {
      "cell_type": "code",
      "execution_count": null,
      "id": "9a87f9e4",
      "metadata": {
        "id": "9a87f9e4"
      },
      "outputs": [],
      "source": [
        "class BlockMatrix():\n",
        "    \n",
        "    pass"
      ]
    },
    {
      "cell_type": "markdown",
      "id": "f26411ac",
      "metadata": {
        "id": "f26411ac"
      },
      "source": [
        "<br>"
      ]
    },
    {
      "cell_type": "markdown",
      "id": "b1072336",
      "metadata": {
        "id": "b1072336"
      },
      "source": [
        "**TASK 3:**\n",
        "\n",
        "Include all other element-wise matrix operations you can think of, e.g., \n",
        "\n",
        "* `__neg__`, i.e., `-A`\n",
        "\n",
        "\n",
        "* `__sub__` i.e., `A - B`\n",
        "\n",
        "\n",
        "* `__mul__` i.e., `A * B`\n",
        "\n",
        "\n",
        "* etc\n",
        "\n",
        "Note, `__mul__` is *not* matrix multiplication. It is element-wise multiplication. "
      ]
    },
    {
      "cell_type": "markdown",
      "id": "ea804043",
      "metadata": {
        "id": "ea804043"
      },
      "source": [
        "<br>"
      ]
    },
    {
      "cell_type": "markdown",
      "id": "b9ed5d3e",
      "metadata": {
        "id": "b9ed5d3e"
      },
      "source": [
        "**TASK 4:**\n",
        "\n",
        "Write a Python function that implements block *matrix multiplication* on a `distributed_block_matrix` object.\n",
        "\n",
        "\n",
        "This will require `send` and `receive`."
      ]
    },
    {
      "cell_type": "code",
      "execution_count": null,
      "id": "0907800d",
      "metadata": {
        "id": "0907800d"
      },
      "outputs": [],
      "source": [
        "def matrix_multiply_block_matrix(A,B):\n",
        "    \n",
        "    pass"
      ]
    },
    {
      "cell_type": "markdown",
      "id": "d1aa6dfc",
      "metadata": {
        "id": "d1aa6dfc"
      },
      "source": [
        "<br>"
      ]
    },
    {
      "cell_type": "markdown",
      "id": "48dee9b8",
      "metadata": {
        "id": "48dee9b8"
      },
      "source": [
        "**TASK 5:**\n",
        "\n",
        "Write a Python function that implements global block matrix *transpose* on a `distributed_block_matrix` object.\n",
        "\n",
        "\n",
        "This will require `send` and `receive`. "
      ]
    },
    {
      "cell_type": "code",
      "execution_count": null,
      "id": "31c7d670",
      "metadata": {
        "id": "31c7d670"
      },
      "outputs": [],
      "source": [
        "def transpose_block_matrix(A,B):\n",
        "    \n",
        "    pass"
      ]
    },
    {
      "cell_type": "markdown",
      "id": "71d8107c",
      "metadata": {
        "id": "71d8107c"
      },
      "source": [
        "<br>"
      ]
    },
    {
      "cell_type": "markdown",
      "id": "e1b5cd41",
      "metadata": {
        "id": "e1b5cd41"
      },
      "source": [
        "**TASK 6:**\n",
        "\n",
        "Write a Python function that implements global block matrix *trace* on a `distributed_block_matrix` object.\n",
        "\n",
        "\n",
        "This will require `send` and `receive`."
      ]
    },
    {
      "cell_type": "markdown",
      "id": "5729a37d",
      "metadata": {
        "id": "5729a37d"
      },
      "source": [
        "<br>"
      ]
    },
    {
      "cell_type": "markdown",
      "id": "878013f6",
      "metadata": {
        "id": "878013f6"
      },
      "source": [
        "**TASK 7:**\n",
        "\n",
        "Include transpose and trace in your `BlockMatrix` class using the same syntax as `numpy`. I.e., `A.T` for transpose and `A.trace()` for trace."
      ]
    },
    {
      "cell_type": "markdown",
      "id": "c1d99e04",
      "metadata": {
        "id": "c1d99e04"
      },
      "source": [
        "<br>"
      ]
    },
    {
      "cell_type": "markdown",
      "id": "12948752",
      "metadata": {
        "id": "12948752"
      },
      "source": [
        "**TASK 8++:**\n",
        "\n",
        "Include anything else useful you might think of regarding matrices in your `BlockMatrix` class. Create some tests and have some fun seeing what you can do. "
      ]
    },
    {
      "cell_type": "code",
      "execution_count": null,
      "id": "ee3a2c30",
      "metadata": {
        "id": "ee3a2c30"
      },
      "outputs": [],
      "source": []
    },
    {
      "cell_type": "markdown",
      "id": "774a3ed2",
      "metadata": {
        "id": "774a3ed2"
      },
      "source": [
        "<br>"
      ]
    },
    {
      "cell_type": "code",
      "execution_count": null,
      "id": "411313e0",
      "metadata": {
        "id": "411313e0"
      },
      "outputs": [],
      "source": []
    },
    {
      "cell_type": "markdown",
      "id": "1a63c1c3",
      "metadata": {
        "id": "1a63c1c3"
      },
      "source": [
        "# End Notebook"
      ]
    }
  ],
  "metadata": {
    "colab": {
      "provenance": []
    },
    "kernelspec": {
      "display_name": "hpcpy39",
      "language": "python",
      "name": "python3"
    },
    "language_info": {
      "codemirror_mode": {
        "name": "ipython",
        "version": 3
      },
      "file_extension": ".py",
      "mimetype": "text/x-python",
      "name": "python",
      "nbconvert_exporter": "python",
      "pygments_lexer": "ipython3",
      "version": "3.9.16"
    },
    "vscode": {
      "interpreter": {
        "hash": "ef67bc5c28494f52e18def38d1a12dda353be597dd24bb476cc25516f5de0e84"
      }
    }
  },
  "nbformat": 4,
  "nbformat_minor": 5
}
