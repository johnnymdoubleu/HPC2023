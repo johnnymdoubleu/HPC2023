{
  "cells": [
    {
      "cell_type": "markdown",
      "id": "50f1feda",
      "metadata": {
        "id": "50f1feda"
      },
      "source": [
        "# Block matrices and emulated parallelism\n",
        "\n",
        "</br>\n",
        "</br>\n",
        "\n",
        "\n",
        "\n",
        "You all should know how to multiply matrices. In terms of indices, \n",
        "\n",
        "$$\n",
        "\\large\n",
        "\\left[ \\, \\mathbf{A}\\, \\mathbf{B}\\, \\right]_{\\,i,\\,k} \\ = \\ \\sum_{j} [\\, \\mathbf{A} \\, ]_{\\,i,\\,j}\\, [\\,\\mathbf{B} \\,]_{\\,j,\\,k}.\n",
        "$$\n",
        "\n",
        "The notation here is that $[\\,\\mathbf{A} \\,]_{i,j}$ is the $(i,j)$th element of the matrix $\\mathbf{A}$. Of course, the number of columns of $\\mathbf{A}$ must match the number of rows of $\\mathbf{B}$.\n",
        "\n",
        "\n",
        "</br>\n",
        "</br>\n",
        "\n",
        "A powerful fact about matrices is that matrix multiplication also works in *block* form. For example, \n",
        "\n",
        "$$\n",
        "\\large\n",
        "\\left(\n",
        "\\begin{array}{cc}\n",
        " \\mathbf{A} & \\mathbf{B} \\\\\n",
        " \\mathbf{C} & \\mathbf{D} \\\\\n",
        "\\end{array}\n",
        "\\right)\\left(\n",
        "\\begin{array}{cc}\n",
        " \\mathbf{E} & \\mathbf{F} \\\\\n",
        " \\mathbf{G} & \\mathbf{H} \\\\\n",
        "\\end{array}\n",
        "\\right) \\ = \\ \\left(\n",
        "\\begin{array}{cc}\n",
        " \\mathbf{A\\, E + B\\, G} & \\mathbf{A\\, F + B\\, H} \\\\\n",
        " \\mathbf{C\\, E + D\\, G} & \\mathbf{C\\, F + D\\, H} \\\\\n",
        "\\end{array}\n",
        "\\right)\n",
        "$$\n",
        "\n",
        "Each entry in each matrix can represent an entire matrix, and each multiplication is a matrix multiplication (where we take care to respect commutativity). \n",
        "\n",
        "The block matrix multiplication works straight away if each block is a square matrix of the same size. However, there are many more possibilities."
      ]
    },
    {
      "cell_type": "markdown",
      "id": "05db58e6",
      "metadata": {
        "id": "05db58e6"
      },
      "source": [
        "**Question 0:** What are the *most general* possible size conditions that each matrix, $\\mathbf{A}, \\ldots , \\mathbf{H}$ can take? What are the respective sizes of each output block? What is the total size of each composite matrix on the left- and right-hand sides?"
      ]
    },
    {
      "cell_type": "markdown",
      "id": "cf6b29f3",
      "metadata": {
        "id": "cf6b29f3"
      },
      "source": [
        "**Answer 0: (click on cell to put your answer in Markdown here)**\n",
        "\n",
        "<br>\n"
      ]
    },
    {
      "cell_type": "markdown",
      "id": "9afe2c4e",
      "metadata": {
        "id": "9afe2c4e"
      },
      "source": [
        "**Question 1:** The above block matrices are based on $2\\times 2$ row/column partitions in each case. Now suppose \n",
        "\n",
        "$$\\large\n",
        "\\mathbf{A}\\, \\mathbf{B} \\ = \\ \\mathbf{C},\n",
        "$$\n",
        "\n",
        "where $\\mathbf{A},\\, \\mathbf{B}, \\, \\mathbf{C}$ are three compatible matrices. What is the *most general* partitioning of all three matrices into block structures?"
      ]
    },
    {
      "cell_type": "markdown",
      "id": "0b527301",
      "metadata": {
        "id": "0b527301"
      },
      "source": [
        "**Answer 1: (click on cell to put your answer in Markdown here)**\n",
        "\n",
        "<br>"
      ]
    },
    {
      "cell_type": "markdown",
      "id": "8d487450",
      "metadata": {
        "id": "8d487450"
      },
      "source": [
        "<br>"
      ]
    },
    {
      "cell_type": "markdown",
      "id": "e845e823",
      "metadata": {
        "id": "e845e823"
      },
      "source": [
        "## Block matrix data structures\n",
        "\n",
        "\n",
        "Python, in general, and `numpy` in particular, have built-in data structures for handling matrix multiplication, in particular `np.bmat`. \n",
        "\n",
        "If you were interested in working with block matrices in serial, then you would definitely want to use one of the optimised built-in Python tools. However, we are interested in learning how to work *in parallel*. \n",
        "\n",
        "It is a good idea to put different matrix blocks on different processor cores.  \n",
        "\n",
        "### Faux-`Cores` and faux-`Local` arrays \n",
        "\n",
        "In this set of exercises, you'll construct block matrices on fake local processor cores. "
      ]
    },
    {
      "cell_type": "code",
      "execution_count": 2,
      "id": "c08e2de9",
      "metadata": {
        "id": "c08e2de9"
      },
      "outputs": [],
      "source": [
        "import numpy as np\n",
        "#from eMPI import Local, Core"
      ]
    },
    {
      "cell_type": "code",
      "execution_count": 3,
      "id": "9fOt1Lpvn5Fa",
      "metadata": {
        "id": "9fOt1Lpvn5Fa"
      },
      "outputs": [],
      "source": [
        "class NotLocalData(Exception):\n",
        "    pass\n",
        "\n",
        "class Local(np.ndarray):\n",
        "\n",
        "    def __new__(cls, input_array, proc):\n",
        "        obj = np.asarray(input_array).view(cls)\n",
        "        obj.proc = proc\n",
        "        return obj\n",
        "        \n",
        "    def __array_finalize__(self, obj):\n",
        "        if obj is None: return\n",
        "        self.your_new_attr = getattr(obj, 'your_new_attr', None)\n",
        "    \n",
        "    def __str__(self):\n",
        "        return (np.ndarray.__str__(self))\n",
        "        if s[0] not in ('[','(','{'):\n",
        "            return f'Local({s}, proc={self.proc})'\n",
        "        return f\"{s}, proc={self.proc}]\"\n",
        "        \n",
        "    def __repr__(self):\n",
        "        s = (np.ndarray.__repr__(self))[:-1]\n",
        "        return f\"{s}, proc={self.proc})\"\n",
        "    \n",
        "    def __getitem__(self,args):\n",
        "        args = self.check(args)\n",
        "        return Local(np.ndarray.__getitem__(self, args), self.proc)\n",
        "    \n",
        "    def __setitem__(self,args,value):\n",
        "        args  = self.check(args)\n",
        "        value = self.check(value)\n",
        "        return Local(np.ndarray.__setitem__(self, args,value), self.proc)\n",
        "    \n",
        "    @property\n",
        "    def T(self):\n",
        "        return Local(np.ndarray.transpose(self),self.proc)\n",
        "    \n",
        "    def transpose(self):\n",
        "        return self.T\n",
        "    \n",
        "    def trace(self):\n",
        "        return Local(np.ndarray.trace(self),self.proc)\n",
        "    \n",
        "    def __neg__(self):\n",
        "        return Local(np.ndarray.__neg__(self),self.proc)\n",
        "    \n",
        "    def __pos__(self):\n",
        "        return Local(np.ndarray.__pos__(self),self.proc)\n",
        "    \n",
        "    def __abs__(self):\n",
        "        return Local(np.ndarray.__abs__(self),self.proc)\n",
        "    \n",
        "    def __add__(self,other):\n",
        "        other = self.check(other)\n",
        "        return Local(np.ndarray.__add__(self,other),self.proc)\n",
        "    \n",
        "    def __sub__(self,other):\n",
        "        other = self.check(other)\n",
        "        return Local(np.ndarray.__sub__(self,other),self.proc)\n",
        "    \n",
        "    def __mul__(self,other):\n",
        "        other = self.check(other)\n",
        "        return Local(np.ndarray.__mul__(self,other),self.proc)\n",
        "    \n",
        "    def __truediv__(self,other):\n",
        "        other = self.check(other)\n",
        "        return Local(np.ndarray.__truediv__(self,other),self.proc)\n",
        "    \n",
        "    def __floordiv__(self,other):\n",
        "        other = self.check(other)\n",
        "        return Local(np.ndarray.__floordiv__(self,other),self.proc)\n",
        "    \n",
        "    def __mod__(self,other):\n",
        "        other = self.check(other)\n",
        "        return Local(np.ndarray.__mod__(self,other),self.proc)\n",
        "    \n",
        "    def __pow__(self,other):\n",
        "        other = self.check(other)\n",
        "        return Local(np.ndarray.__pow__(self,other),self.proc)\n",
        "    \n",
        "    def __matmul__(self,other):\n",
        "        other = self.check(other)\n",
        "        return Local(np.ndarray.__matmul__(self,other),self.proc)\n",
        "    \n",
        "    def __eq__(self,other):\n",
        "        other = self.check(other)\n",
        "        return Local(np.ndarray.__eq__(self,other),self.proc)\n",
        "    \n",
        "    def __ge__(self,other):\n",
        "        other = self.check(other)\n",
        "        return Local(np.ndarray.__ge__(self,other),self.proc)\n",
        "    \n",
        "    def __le__(self,other):\n",
        "        other = self.check(other)\n",
        "        return Local(np.ndarray.__le__(self,other),self.proc)\n",
        "    \n",
        "    def __gt__(self,other):\n",
        "        other = self.check(other)\n",
        "        return Local(np.ndarray.__gt__(self,other),self.proc)\n",
        "    \n",
        "    def __lt__(self,other):\n",
        "        other = self.check(other)\n",
        "        return Local(np.ndarray.__lt__(self,other),self.proc)\n",
        "    \n",
        "    def __radd__(self,other):\n",
        "        other = self.check(other)\n",
        "        return Local(np.ndarray.__radd__(self,other),self.proc)\n",
        "    \n",
        "    def __rsub__(self,other):\n",
        "        other = self.check(other)\n",
        "        return Local(np.ndarray.__rsub__(self,other),self.proc)\n",
        "    \n",
        "    def __rmul__(self,other):\n",
        "        other = self.check(other)\n",
        "        return Local(np.ndarray.__rmul__(self,other),self.proc)\n",
        "    \n",
        "    def __rtruediv__(self,other):\n",
        "        other = self.check(other)\n",
        "        return Local(np.ndarray.__rtruediv__(self,other),self.proc)\n",
        "    \n",
        "    def __rfloordiv__(self,other):\n",
        "        other = self.check(other)\n",
        "        return Local(np.ndarray.__rfloordiv__(self,other),self.proc)\n",
        "    \n",
        "    def __rmod__(self,other):\n",
        "        other = self.check(other)\n",
        "        return Local(np.ndarray.__rmod__(self,other),self.proc)\n",
        "    \n",
        "    def __rpow__(self,other):\n",
        "        other = self.check(other)\n",
        "        return Local(np.ndarray.__rpow__(self,other),self.proc)\n",
        "    \n",
        "    def __req__(self,other):\n",
        "        other = self.check(other)\n",
        "        return Local(np.ndarray.__req__(self,other),self.proc)\n",
        "    \n",
        "    def __ge__(self,other):\n",
        "        other = self.check(other)\n",
        "        return Local(np.ndarray.__rge__(self,other),self.proc)\n",
        "    \n",
        "    def __rle__(self,other):\n",
        "        other = self.check(other)\n",
        "        return Local(np.ndarray.__rle__(self,other),self.proc)\n",
        "    \n",
        "    def __rgt__(self,other):\n",
        "        other = self.check(other)\n",
        "        return Local(np.ndarray.__rgt__(self,other),self.proc)\n",
        "    \n",
        "    def __rlt__(self,other):\n",
        "        other = self.check(other)\n",
        "        return Local(np.ndarray.__rlt__(self,other),self.proc)\n",
        "    \n",
        "    def check(self,other):\n",
        "        if other is None:\n",
        "            return other\n",
        "        \n",
        "        if isinstance(other,(int, float, complex)):\n",
        "            return Local(other,self.proc)\n",
        "        \n",
        "        if isinstance(other, slice):\n",
        "            for e in [other.start, other.stop, other.step]:\n",
        "                self.check(e)\n",
        "            return other\n",
        "        \n",
        "        if isinstance(other, (list, tuple)):\n",
        "            return type(other)([self.check(e) for e in other])\n",
        "        \n",
        "        if not isinstance(other, Local):\n",
        "            raise NotLocalData('Data is not local to any core.')\n",
        "        \n",
        "        if self.proc != other.proc:\n",
        "            raise NotLocalData('The data is not local.')\n",
        "        \n",
        "        return other\n",
        "\n",
        "\n",
        "class Core():\n",
        "    \n",
        "    def __init__(self,proc):\n",
        "        self.proc = proc \n",
        "        self.memory = {}\n",
        "        self.buffer = {}\n",
        "    \n",
        "    def __str__(self):\n",
        "        return \"Core(\"+str(self.proc)+')'\n",
        "    \n",
        "    def __repr__(self):\n",
        "        return str(self)\n",
        "    \n",
        "    def __getitem__(self,item):\n",
        "        return self.memory[item]\n",
        "    \n",
        "    def __setitem__(self,item,value):\n",
        "        self.memory[item] = Local(value,self.proc)\n",
        "        \n",
        "    def send(self,other,data):\n",
        "        other.buffer[self.proc,data] = Local(self[data],other.proc)\n",
        "        \n",
        "    def receive(self,other,data,out=None):\n",
        "        if out == None: out = data\n",
        "        self[out] = self.buffer[other.proc,data]\n",
        "        del self.buffer[other.proc,data]\n"
      ]
    },
    {
      "cell_type": "markdown",
      "id": "ece81890",
      "metadata": {
        "id": "ece81890"
      },
      "source": [
        "<br>"
      ]
    },
    {
      "attachments": {},
      "cell_type": "markdown",
      "id": "adfa5565",
      "metadata": {
        "id": "adfa5565"
      },
      "source": [
        "**TASK 0.a:**\n",
        "\n",
        "Consider a block matrix with row paritions $[m_{0}, \\ldots, m_{r-1}]$ and column paritions $[n_{0}, \\ldots, n_{c-1}]$. \n",
        "\n",
        "Make a Python function that creates a distributed block matrix across $r \\times c$ faux-`Core` objects (as we saw in lecture).\n",
        "\n",
        "The result should be a `dictionary` of `Core` objects. Each `Core` should have an $m_{i} \\times n_{j}$ array filled with zeros.  "
      ]
    },
    {
      "cell_type": "code",
      "execution_count": 4,
      "id": "ec50b99b",
      "metadata": {},
      "outputs": [],
      "source": [
        "# total_rows = 3\n",
        "# total_cols = 4\n",
        "rPart = [2,2,2]\n",
        "cPart = [1,2,3,4]\n",
        "machine = {(i, j): Core(i * len(cPart) + j) for i in range(len(rPart)) for j in range(len(cPart))}"
      ]
    },
    {
      "cell_type": "code",
      "execution_count": 5,
      "id": "6c38d201",
      "metadata": {
        "id": "6c38d201"
      },
      "outputs": [],
      "source": [
        "def distributed_block_matrix(name, row_partitions, column_partitions):\n",
        "    # machine = {(i, j): Core(i * total_cols + j) for i in range(len(row_partitions)) for j in range(len(column_partitions))}\n",
        "    for i, row in enumerate(row_partitions):\n",
        "        for j, col in enumerate(column_partitions):\n",
        "            # for `k in range(row_partitions[i]):\n",
        "                machine[(i,j)][name] = np.zeros((row, col))"
      ]
    },
    {
      "cell_type": "code",
      "execution_count": 6,
      "id": "3ff8b370",
      "metadata": {},
      "outputs": [
        {
          "name": "stdout",
          "output_type": "stream",
          "text": [
            "{'A': Local([[0.],\n",
            "       [0.]], proc=0)}\n",
            "{'A': Local([[0., 0.],\n",
            "       [0., 0.]], proc=1)}\n",
            "{'A': Local([[0., 0., 0.],\n",
            "       [0., 0., 0.]], proc=2)}\n",
            "{'A': Local([[0., 0., 0., 0.],\n",
            "       [0., 0., 0., 0.]], proc=3)}\n",
            "{'A': Local([[0.],\n",
            "       [0.]], proc=4)}\n",
            "{'A': Local([[0., 0.],\n",
            "       [0., 0.]], proc=5)}\n",
            "{'A': Local([[0., 0., 0.],\n",
            "       [0., 0., 0.]], proc=6)}\n",
            "{'A': Local([[0., 0., 0., 0.],\n",
            "       [0., 0., 0., 0.]], proc=7)}\n",
            "{'A': Local([[0.],\n",
            "       [0.]], proc=8)}\n",
            "{'A': Local([[0., 0.],\n",
            "       [0., 0.]], proc=9)}\n",
            "{'A': Local([[0., 0., 0.],\n",
            "       [0., 0., 0.]], proc=10)}\n",
            "{'A': Local([[0., 0., 0., 0.],\n",
            "       [0., 0., 0., 0.]], proc=11)}\n"
          ]
        }
      ],
      "source": [
        "# Test with Toy Example\n",
        "\n",
        "# machine = {(i, j): Core(i * total_cols + j) for i in range(len(rPart)) for j in range(len(cPart))}\n",
        "\n",
        "distributed_block_matrix('A', rPart, cPart)\n",
        "for key in machine:\n",
        "    print(machine[key].memory)\n",
        "# machine"
      ]
    },
    {
      "cell_type": "markdown",
      "id": "508cceea",
      "metadata": {
        "id": "508cceea"
      },
      "source": [
        "<br>"
      ]
    },
    {
      "cell_type": "markdown",
      "id": "03dc6462",
      "metadata": {
        "id": "03dc6462"
      },
      "source": [
        "**TASK 0.b:**\n",
        "\n",
        "Write a Python function that fills your `distributed_block_matrix` with some number. You can do this any way you like. You can put random numbers in, or some interesting structure you might like."
      ]
    },
    {
      "cell_type": "code",
      "execution_count": 7,
      "id": "e51ac49d",
      "metadata": {
        "id": "e51ac49d"
      },
      "outputs": [],
      "source": [
        "def fill_block_matrix(A):\n",
        "    j = 0\n",
        "    for key in machine:\n",
        "        for i in range(len(machine[key][A])):\n",
        "            machine[key][A][i] = Local(np.random.randint(0,9,len(machine[key][A][i])), proc=j)\n",
        "        j += 1"
      ]
    },
    {
      "attachments": {},
      "cell_type": "markdown",
      "id": "3a973844",
      "metadata": {},
      "source": [
        "I wrote a function that replace zeros from a randomly generated value between $0$ and $9$"
      ]
    },
    {
      "cell_type": "code",
      "execution_count": 8,
      "id": "451596aa",
      "metadata": {},
      "outputs": [
        {
          "name": "stdout",
          "output_type": "stream",
          "text": [
            "{'A': Local([[0.],\n",
            "       [5.]], proc=0)}\n",
            "{'A': Local([[0., 5.],\n",
            "       [0., 3.]], proc=1)}\n",
            "{'A': Local([[3., 5., 5.],\n",
            "       [7., 7., 4.]], proc=2)}\n",
            "{'A': Local([[2., 5., 3., 0.],\n",
            "       [5., 4., 4., 1.]], proc=3)}\n",
            "{'A': Local([[0.],\n",
            "       [1.]], proc=4)}\n",
            "{'A': Local([[2., 8.],\n",
            "       [1., 0.]], proc=5)}\n",
            "{'A': Local([[7., 7., 7.],\n",
            "       [6., 6., 8.]], proc=6)}\n",
            "{'A': Local([[7., 3., 7., 4.],\n",
            "       [8., 3., 5., 0.]], proc=7)}\n",
            "{'A': Local([[3.],\n",
            "       [3.]], proc=8)}\n",
            "{'A': Local([[3., 2.],\n",
            "       [7., 6.]], proc=9)}\n",
            "{'A': Local([[8., 1., 5.],\n",
            "       [5., 6., 5.]], proc=10)}\n",
            "{'A': Local([[8., 8., 2., 3.],\n",
            "       [4., 4., 5., 2.]], proc=11)}\n"
          ]
        }
      ],
      "source": [
        "# Test with Toy Example\n",
        "fill_block_matrix('A')\n",
        "machine\n",
        "for key in machine:\n",
        "    print(machine[key].memory)"
      ]
    },
    {
      "cell_type": "markdown",
      "id": "a2909e2a",
      "metadata": {
        "id": "a2909e2a"
      },
      "source": [
        "<br>"
      ]
    },
    {
      "cell_type": "markdown",
      "id": "e7c4b214",
      "metadata": {
        "id": "e7c4b214"
      },
      "source": [
        "**TASK 1:**\n",
        "\n",
        "Create a function that element-wise adds two `distributed_block_matrix` objects.\n",
        "\n",
        "In TASK 1, make your function assume the blocks of the two matrices are the same shape. "
      ]
    },
    {
      "cell_type": "code",
      "execution_count": 9,
      "id": "d632b0a0",
      "metadata": {
        "id": "d632b0a0"
      },
      "outputs": [],
      "source": [
        "def add_block_matrix(A,B):\n",
        "    # C = {(i, j): Core(i * total_cols + j) for i in range(len(rPart)) for j in range(len(cPart))}\n",
        "    for key in machine:\n",
        "        machine[key]['A+B'] = machine[key][A] + machine[key][B]"
      ]
    },
    {
      "cell_type": "code",
      "execution_count": 10,
      "id": "457525bc",
      "metadata": {},
      "outputs": [
        {
          "name": "stdout",
          "output_type": "stream",
          "text": [
            "{'A': Local([[0.],\n",
            "       [5.]], proc=0), 'B': Local([[1.],\n",
            "       [2.]], proc=0), 'A+B': Local([[1.],\n",
            "       [7.]], proc=0)}\n",
            "{'A': Local([[0., 5.],\n",
            "       [0., 3.]], proc=1), 'B': Local([[5., 0.],\n",
            "       [4., 5.]], proc=1), 'A+B': Local([[5., 5.],\n",
            "       [4., 8.]], proc=1)}\n",
            "{'A': Local([[3., 5., 5.],\n",
            "       [7., 7., 4.]], proc=2), 'B': Local([[7., 7., 6.],\n",
            "       [2., 4., 5.]], proc=2), 'A+B': Local([[10., 12., 11.],\n",
            "       [ 9., 11.,  9.]], proc=2)}\n",
            "{'A': Local([[2., 5., 3., 0.],\n",
            "       [5., 4., 4., 1.]], proc=3), 'B': Local([[2., 1., 8., 6.],\n",
            "       [1., 3., 2., 5.]], proc=3), 'A+B': Local([[ 4.,  6., 11.,  6.],\n",
            "       [ 6.,  7.,  6.,  6.]], proc=3)}\n",
            "{'A': Local([[0.],\n",
            "       [1.]], proc=4), 'B': Local([[0.],\n",
            "       [7.]], proc=4), 'A+B': Local([[0.],\n",
            "       [8.]], proc=4)}\n",
            "{'A': Local([[2., 8.],\n",
            "       [1., 0.]], proc=5), 'B': Local([[0., 0.],\n",
            "       [7., 5.]], proc=5), 'A+B': Local([[2., 8.],\n",
            "       [8., 5.]], proc=5)}\n",
            "{'A': Local([[7., 7., 7.],\n",
            "       [6., 6., 8.]], proc=6), 'B': Local([[4., 8., 7.],\n",
            "       [5., 1., 8.]], proc=6), 'A+B': Local([[11., 15., 14.],\n",
            "       [11.,  7., 16.]], proc=6)}\n",
            "{'A': Local([[7., 3., 7., 4.],\n",
            "       [8., 3., 5., 0.]], proc=7), 'B': Local([[8., 7., 5., 8.],\n",
            "       [7., 6., 6., 3.]], proc=7), 'A+B': Local([[15., 10., 12., 12.],\n",
            "       [15.,  9., 11.,  3.]], proc=7)}\n",
            "{'A': Local([[3.],\n",
            "       [3.]], proc=8), 'B': Local([[3.],\n",
            "       [0.]], proc=8), 'A+B': Local([[6.],\n",
            "       [3.]], proc=8)}\n",
            "{'A': Local([[3., 2.],\n",
            "       [7., 6.]], proc=9), 'B': Local([[5., 5.],\n",
            "       [3., 6.]], proc=9), 'A+B': Local([[ 8.,  7.],\n",
            "       [10., 12.]], proc=9)}\n",
            "{'A': Local([[8., 1., 5.],\n",
            "       [5., 6., 5.]], proc=10), 'B': Local([[2., 0., 2.],\n",
            "       [7., 0., 6.]], proc=10), 'A+B': Local([[10.,  1.,  7.],\n",
            "       [12.,  6., 11.]], proc=10)}\n",
            "{'A': Local([[8., 8., 2., 3.],\n",
            "       [4., 4., 5., 2.]], proc=11), 'B': Local([[4., 8., 2., 7.],\n",
            "       [6., 6., 6., 7.]], proc=11), 'A+B': Local([[12., 16.,  4., 10.],\n",
            "       [10., 10., 11.,  9.]], proc=11)}\n"
          ]
        }
      ],
      "source": [
        "distributed_block_matrix('B', rPart, cPart)\n",
        "fill_block_matrix('B')\n",
        "distributed_block_matrix('A+B', rPart, cPart)\n",
        "add_block_matrix('A','B')\n",
        "for key in machine:\n",
        "    print(machine[key].memory)"
      ]
    },
    {
      "cell_type": "markdown",
      "id": "764e45c4",
      "metadata": {
        "id": "764e45c4"
      },
      "source": [
        "<br>"
      ]
    },
    {
      "cell_type": "markdown",
      "id": "54067583",
      "metadata": {
        "id": "54067583"
      },
      "source": [
        "**TASK 2:**\n",
        "\n",
        "Make a Python `class` that contains `distributed_block_matrix` objects and computes `__add__` using your implementation from TASK 1. "
      ]
    },
    {
      "cell_type": "code",
      "execution_count": 11,
      "id": "9a87f9e4",
      "metadata": {
        "id": "9a87f9e4"
      },
      "outputs": [],
      "source": [
        "class BlockMatrix():\n",
        "    def __init__(self, x):\n",
        "        self.x = x\n",
        "    \n",
        "    def __add__(self, other):\n",
        "        new_key = self.x + '+' + other.x\n",
        "        for key in machine:\n",
        "            machine[key][new_key] = machine[key][self.x] + machine[key][other.x]\n",
        "        return BlockMatrix(new_key)\n",
        "    \n",
        "    def __neg__(self):\n",
        "        new_key = '-(' + self.x + ')'\n",
        "        for key in machine:\n",
        "            machine[key][new_key] = machine[key][self.x] * -1\n",
        "        return BlockMatrix(new_key)\n",
        "\n",
        "    def __sub__(self, other):\n",
        "        new_key = self.x + '-' + other.x\n",
        "        for key in machine:\n",
        "            machine[key][new_key] = machine[key][self.x] - machine[key][other.x]\n",
        "        return BlockMatrix(new_key)\n",
        "\n",
        "    def __mul__(self, other):\n",
        "        new_key = self.x + other.x\n",
        "        for key in machine:\n",
        "            machine[key][new_key] = machine[key][self.x] * machine[key][other.x]\n",
        "        return BlockMatrix(new_key)\n"
      ]
    },
    {
      "cell_type": "code",
      "execution_count": 12,
      "id": "39d519d0",
      "metadata": {},
      "outputs": [
        {
          "name": "stdout",
          "output_type": "stream",
          "text": [
            "[[7. 7. 7.]\n",
            " [6. 6. 8.]]\n",
            "[[4. 8. 7.]\n",
            " [5. 1. 8.]]\n"
          ]
        },
        {
          "data": {
            "text/plain": [
              "Local([[28., 56., 49.],\n",
              "       [30.,  6., 64.]], proc=6)"
            ]
          },
          "execution_count": 12,
          "metadata": {},
          "output_type": "execute_result"
        }
      ],
      "source": [
        "print(machine[(1,2)]['A'])\n",
        "print(machine[(1,2)]['B'])\n",
        "\n",
        "machine[(1,2)]['A'] * machine[(1,2)]['B']"
      ]
    },
    {
      "cell_type": "code",
      "execution_count": 13,
      "id": "a3554190",
      "metadata": {},
      "outputs": [
        {
          "data": {
            "text/plain": [
              "[{'A': Local([[0.],\n",
              "         [5.]], proc=0),\n",
              "  'B': Local([[1.],\n",
              "         [2.]], proc=0),\n",
              "  'A+B': Local([[1.],\n",
              "         [7.]], proc=0),\n",
              "  'A+B+B': Local([[2.],\n",
              "         [9.]], proc=0)},\n",
              " {'A': Local([[0., 5.],\n",
              "         [0., 3.]], proc=1),\n",
              "  'B': Local([[5., 0.],\n",
              "         [4., 5.]], proc=1),\n",
              "  'A+B': Local([[5., 5.],\n",
              "         [4., 8.]], proc=1),\n",
              "  'A+B+B': Local([[10.,  5.],\n",
              "         [ 8., 13.]], proc=1)},\n",
              " {'A': Local([[3., 5., 5.],\n",
              "         [7., 7., 4.]], proc=2),\n",
              "  'B': Local([[7., 7., 6.],\n",
              "         [2., 4., 5.]], proc=2),\n",
              "  'A+B': Local([[10., 12., 11.],\n",
              "         [ 9., 11.,  9.]], proc=2),\n",
              "  'A+B+B': Local([[17., 19., 17.],\n",
              "         [11., 15., 14.]], proc=2)},\n",
              " {'A': Local([[2., 5., 3., 0.],\n",
              "         [5., 4., 4., 1.]], proc=3),\n",
              "  'B': Local([[2., 1., 8., 6.],\n",
              "         [1., 3., 2., 5.]], proc=3),\n",
              "  'A+B': Local([[ 4.,  6., 11.,  6.],\n",
              "         [ 6.,  7.,  6.,  6.]], proc=3),\n",
              "  'A+B+B': Local([[ 6.,  7., 19., 12.],\n",
              "         [ 7., 10.,  8., 11.]], proc=3)},\n",
              " {'A': Local([[0.],\n",
              "         [1.]], proc=4),\n",
              "  'B': Local([[0.],\n",
              "         [7.]], proc=4),\n",
              "  'A+B': Local([[0.],\n",
              "         [8.]], proc=4),\n",
              "  'A+B+B': Local([[ 0.],\n",
              "         [15.]], proc=4)},\n",
              " {'A': Local([[2., 8.],\n",
              "         [1., 0.]], proc=5),\n",
              "  'B': Local([[0., 0.],\n",
              "         [7., 5.]], proc=5),\n",
              "  'A+B': Local([[2., 8.],\n",
              "         [8., 5.]], proc=5),\n",
              "  'A+B+B': Local([[ 2.,  8.],\n",
              "         [15., 10.]], proc=5)},\n",
              " {'A': Local([[7., 7., 7.],\n",
              "         [6., 6., 8.]], proc=6),\n",
              "  'B': Local([[4., 8., 7.],\n",
              "         [5., 1., 8.]], proc=6),\n",
              "  'A+B': Local([[11., 15., 14.],\n",
              "         [11.,  7., 16.]], proc=6),\n",
              "  'A+B+B': Local([[15., 23., 21.],\n",
              "         [16.,  8., 24.]], proc=6)},\n",
              " {'A': Local([[7., 3., 7., 4.],\n",
              "         [8., 3., 5., 0.]], proc=7),\n",
              "  'B': Local([[8., 7., 5., 8.],\n",
              "         [7., 6., 6., 3.]], proc=7),\n",
              "  'A+B': Local([[15., 10., 12., 12.],\n",
              "         [15.,  9., 11.,  3.]], proc=7),\n",
              "  'A+B+B': Local([[23., 17., 17., 20.],\n",
              "         [22., 15., 17.,  6.]], proc=7)},\n",
              " {'A': Local([[3.],\n",
              "         [3.]], proc=8),\n",
              "  'B': Local([[3.],\n",
              "         [0.]], proc=8),\n",
              "  'A+B': Local([[6.],\n",
              "         [3.]], proc=8),\n",
              "  'A+B+B': Local([[9.],\n",
              "         [3.]], proc=8)},\n",
              " {'A': Local([[3., 2.],\n",
              "         [7., 6.]], proc=9),\n",
              "  'B': Local([[5., 5.],\n",
              "         [3., 6.]], proc=9),\n",
              "  'A+B': Local([[ 8.,  7.],\n",
              "         [10., 12.]], proc=9),\n",
              "  'A+B+B': Local([[13., 12.],\n",
              "         [13., 18.]], proc=9)},\n",
              " {'A': Local([[8., 1., 5.],\n",
              "         [5., 6., 5.]], proc=10),\n",
              "  'B': Local([[2., 0., 2.],\n",
              "         [7., 0., 6.]], proc=10),\n",
              "  'A+B': Local([[10.,  1.,  7.],\n",
              "         [12.,  6., 11.]], proc=10),\n",
              "  'A+B+B': Local([[12.,  1.,  9.],\n",
              "         [19.,  6., 17.]], proc=10)},\n",
              " {'A': Local([[8., 8., 2., 3.],\n",
              "         [4., 4., 5., 2.]], proc=11),\n",
              "  'B': Local([[4., 8., 2., 7.],\n",
              "         [6., 6., 6., 7.]], proc=11),\n",
              "  'A+B': Local([[12., 16.,  4., 10.],\n",
              "         [10., 10., 11.,  9.]], proc=11),\n",
              "  'A+B+B': Local([[16., 24.,  6., 17.],\n",
              "         [16., 16., 17., 16.]], proc=11)}]"
            ]
          },
          "execution_count": 13,
          "metadata": {},
          "output_type": "execute_result"
        }
      ],
      "source": [
        "A = BlockMatrix('A')  # In MACHINE \n",
        "B = BlockMatrix('B')\n",
        "\n",
        "C = A + B\n",
        "D = C + B\n",
        "[core.memory for core in machine.values()]"
      ]
    },
    {
      "cell_type": "markdown",
      "id": "f26411ac",
      "metadata": {
        "id": "f26411ac"
      },
      "source": [
        "<br>"
      ]
    },
    {
      "cell_type": "markdown",
      "id": "b1072336",
      "metadata": {
        "id": "b1072336"
      },
      "source": [
        "**TASK 3:**\n",
        "\n",
        "Include all other element-wise matrix operations you can think of, e.g., \n",
        "\n",
        "* `__neg__`, i.e., `-A`\n",
        "\n",
        "\n",
        "* `__sub__` i.e., `A - B`\n",
        "\n",
        "\n",
        "* `__mul__` i.e., `A * B`\n",
        "\n",
        "\n",
        "* etc\n",
        "\n",
        "Note, `__mul__` is *not* matrix multiplication. It is element-wise multiplication. "
      ]
    },
    {
      "cell_type": "code",
      "execution_count": 14,
      "id": "648f00cd",
      "metadata": {},
      "outputs": [
        {
          "data": {
            "text/plain": [
              "[{'A': Local([[0.],\n",
              "         [5.]], proc=0),\n",
              "  'B': Local([[1.],\n",
              "         [2.]], proc=0),\n",
              "  'A+B': Local([[1.],\n",
              "         [7.]], proc=0),\n",
              "  'A+B+B': Local([[2.],\n",
              "         [9.]], proc=0),\n",
              "  '-(A)': Local([[-0.],\n",
              "         [-5.]], proc=0),\n",
              "  'A-B': Local([[-1.],\n",
              "         [ 3.]], proc=0),\n",
              "  'AB': Local([[ 0.],\n",
              "         [10.]], proc=0)},\n",
              " {'A': Local([[0., 5.],\n",
              "         [0., 3.]], proc=1),\n",
              "  'B': Local([[5., 0.],\n",
              "         [4., 5.]], proc=1),\n",
              "  'A+B': Local([[5., 5.],\n",
              "         [4., 8.]], proc=1),\n",
              "  'A+B+B': Local([[10.,  5.],\n",
              "         [ 8., 13.]], proc=1),\n",
              "  '-(A)': Local([[-0., -5.],\n",
              "         [-0., -3.]], proc=1),\n",
              "  'A-B': Local([[-5.,  5.],\n",
              "         [-4., -2.]], proc=1),\n",
              "  'AB': Local([[ 0.,  0.],\n",
              "         [ 0., 15.]], proc=1)},\n",
              " {'A': Local([[3., 5., 5.],\n",
              "         [7., 7., 4.]], proc=2),\n",
              "  'B': Local([[7., 7., 6.],\n",
              "         [2., 4., 5.]], proc=2),\n",
              "  'A+B': Local([[10., 12., 11.],\n",
              "         [ 9., 11.,  9.]], proc=2),\n",
              "  'A+B+B': Local([[17., 19., 17.],\n",
              "         [11., 15., 14.]], proc=2),\n",
              "  '-(A)': Local([[-3., -5., -5.],\n",
              "         [-7., -7., -4.]], proc=2),\n",
              "  'A-B': Local([[-4., -2., -1.],\n",
              "         [ 5.,  3., -1.]], proc=2),\n",
              "  'AB': Local([[21., 35., 30.],\n",
              "         [14., 28., 20.]], proc=2)},\n",
              " {'A': Local([[2., 5., 3., 0.],\n",
              "         [5., 4., 4., 1.]], proc=3),\n",
              "  'B': Local([[2., 1., 8., 6.],\n",
              "         [1., 3., 2., 5.]], proc=3),\n",
              "  'A+B': Local([[ 4.,  6., 11.,  6.],\n",
              "         [ 6.,  7.,  6.,  6.]], proc=3),\n",
              "  'A+B+B': Local([[ 6.,  7., 19., 12.],\n",
              "         [ 7., 10.,  8., 11.]], proc=3),\n",
              "  '-(A)': Local([[-2., -5., -3., -0.],\n",
              "         [-5., -4., -4., -1.]], proc=3),\n",
              "  'A-B': Local([[ 0.,  4., -5., -6.],\n",
              "         [ 4.,  1.,  2., -4.]], proc=3),\n",
              "  'AB': Local([[ 4.,  5., 24.,  0.],\n",
              "         [ 5., 12.,  8.,  5.]], proc=3)},\n",
              " {'A': Local([[0.],\n",
              "         [1.]], proc=4),\n",
              "  'B': Local([[0.],\n",
              "         [7.]], proc=4),\n",
              "  'A+B': Local([[0.],\n",
              "         [8.]], proc=4),\n",
              "  'A+B+B': Local([[ 0.],\n",
              "         [15.]], proc=4),\n",
              "  '-(A)': Local([[-0.],\n",
              "         [-1.]], proc=4),\n",
              "  'A-B': Local([[ 0.],\n",
              "         [-6.]], proc=4),\n",
              "  'AB': Local([[0.],\n",
              "         [7.]], proc=4)},\n",
              " {'A': Local([[2., 8.],\n",
              "         [1., 0.]], proc=5),\n",
              "  'B': Local([[0., 0.],\n",
              "         [7., 5.]], proc=5),\n",
              "  'A+B': Local([[2., 8.],\n",
              "         [8., 5.]], proc=5),\n",
              "  'A+B+B': Local([[ 2.,  8.],\n",
              "         [15., 10.]], proc=5),\n",
              "  '-(A)': Local([[-2., -8.],\n",
              "         [-1., -0.]], proc=5),\n",
              "  'A-B': Local([[ 2.,  8.],\n",
              "         [-6., -5.]], proc=5),\n",
              "  'AB': Local([[0., 0.],\n",
              "         [7., 0.]], proc=5)},\n",
              " {'A': Local([[7., 7., 7.],\n",
              "         [6., 6., 8.]], proc=6),\n",
              "  'B': Local([[4., 8., 7.],\n",
              "         [5., 1., 8.]], proc=6),\n",
              "  'A+B': Local([[11., 15., 14.],\n",
              "         [11.,  7., 16.]], proc=6),\n",
              "  'A+B+B': Local([[15., 23., 21.],\n",
              "         [16.,  8., 24.]], proc=6),\n",
              "  '-(A)': Local([[-7., -7., -7.],\n",
              "         [-6., -6., -8.]], proc=6),\n",
              "  'A-B': Local([[ 3., -1.,  0.],\n",
              "         [ 1.,  5.,  0.]], proc=6),\n",
              "  'AB': Local([[28., 56., 49.],\n",
              "         [30.,  6., 64.]], proc=6)},\n",
              " {'A': Local([[7., 3., 7., 4.],\n",
              "         [8., 3., 5., 0.]], proc=7),\n",
              "  'B': Local([[8., 7., 5., 8.],\n",
              "         [7., 6., 6., 3.]], proc=7),\n",
              "  'A+B': Local([[15., 10., 12., 12.],\n",
              "         [15.,  9., 11.,  3.]], proc=7),\n",
              "  'A+B+B': Local([[23., 17., 17., 20.],\n",
              "         [22., 15., 17.,  6.]], proc=7),\n",
              "  '-(A)': Local([[-7., -3., -7., -4.],\n",
              "         [-8., -3., -5., -0.]], proc=7),\n",
              "  'A-B': Local([[-1., -4.,  2., -4.],\n",
              "         [ 1., -3., -1., -3.]], proc=7),\n",
              "  'AB': Local([[56., 21., 35., 32.],\n",
              "         [56., 18., 30.,  0.]], proc=7)},\n",
              " {'A': Local([[3.],\n",
              "         [3.]], proc=8),\n",
              "  'B': Local([[3.],\n",
              "         [0.]], proc=8),\n",
              "  'A+B': Local([[6.],\n",
              "         [3.]], proc=8),\n",
              "  'A+B+B': Local([[9.],\n",
              "         [3.]], proc=8),\n",
              "  '-(A)': Local([[-3.],\n",
              "         [-3.]], proc=8),\n",
              "  'A-B': Local([[0.],\n",
              "         [3.]], proc=8),\n",
              "  'AB': Local([[9.],\n",
              "         [0.]], proc=8)},\n",
              " {'A': Local([[3., 2.],\n",
              "         [7., 6.]], proc=9),\n",
              "  'B': Local([[5., 5.],\n",
              "         [3., 6.]], proc=9),\n",
              "  'A+B': Local([[ 8.,  7.],\n",
              "         [10., 12.]], proc=9),\n",
              "  'A+B+B': Local([[13., 12.],\n",
              "         [13., 18.]], proc=9),\n",
              "  '-(A)': Local([[-3., -2.],\n",
              "         [-7., -6.]], proc=9),\n",
              "  'A-B': Local([[-2., -3.],\n",
              "         [ 4.,  0.]], proc=9),\n",
              "  'AB': Local([[15., 10.],\n",
              "         [21., 36.]], proc=9)},\n",
              " {'A': Local([[8., 1., 5.],\n",
              "         [5., 6., 5.]], proc=10),\n",
              "  'B': Local([[2., 0., 2.],\n",
              "         [7., 0., 6.]], proc=10),\n",
              "  'A+B': Local([[10.,  1.,  7.],\n",
              "         [12.,  6., 11.]], proc=10),\n",
              "  'A+B+B': Local([[12.,  1.,  9.],\n",
              "         [19.,  6., 17.]], proc=10),\n",
              "  '-(A)': Local([[-8., -1., -5.],\n",
              "         [-5., -6., -5.]], proc=10),\n",
              "  'A-B': Local([[ 6.,  1.,  3.],\n",
              "         [-2.,  6., -1.]], proc=10),\n",
              "  'AB': Local([[16.,  0., 10.],\n",
              "         [35.,  0., 30.]], proc=10)},\n",
              " {'A': Local([[8., 8., 2., 3.],\n",
              "         [4., 4., 5., 2.]], proc=11),\n",
              "  'B': Local([[4., 8., 2., 7.],\n",
              "         [6., 6., 6., 7.]], proc=11),\n",
              "  'A+B': Local([[12., 16.,  4., 10.],\n",
              "         [10., 10., 11.,  9.]], proc=11),\n",
              "  'A+B+B': Local([[16., 24.,  6., 17.],\n",
              "         [16., 16., 17., 16.]], proc=11),\n",
              "  '-(A)': Local([[-8., -8., -2., -3.],\n",
              "         [-4., -4., -5., -2.]], proc=11),\n",
              "  'A-B': Local([[ 4.,  0.,  0., -4.],\n",
              "         [-2., -2., -1., -5.]], proc=11),\n",
              "  'AB': Local([[32., 64.,  4., 21.],\n",
              "         [24., 24., 30., 14.]], proc=11)}]"
            ]
          },
          "execution_count": 14,
          "metadata": {},
          "output_type": "execute_result"
        }
      ],
      "source": [
        "E = -A\n",
        "# F = A.__sub__(B)\n",
        "F = A - B\n",
        "G = A * B\n",
        "[core.memory for core in machine.values()]"
      ]
    },
    {
      "cell_type": "markdown",
      "id": "ea804043",
      "metadata": {
        "id": "ea804043"
      },
      "source": [
        "<br>"
      ]
    },
    {
      "cell_type": "markdown",
      "id": "b9ed5d3e",
      "metadata": {
        "id": "b9ed5d3e"
      },
      "source": [
        "**TASK 4:**\n",
        "\n",
        "Write a Python function that implements block *matrix multiplication* on a `distributed_block_matrix` object.\n",
        "\n",
        "\n",
        "This will require `send` and `receive`."
      ]
    },
    {
      "cell_type": "code",
      "execution_count": 17,
      "id": "0907800d",
      "metadata": {
        "id": "0907800d"
      },
      "outputs": [],
      "source": [
        "def matrix_multiply_block_matrix(A,B):\n",
        "    \n",
        "    pass"
      ]
    },
    {
      "cell_type": "code",
      "execution_count": null,
      "id": "0fe028f7",
      "metadata": {},
      "outputs": [],
      "source": [
        "    # def __matmul__(self, multiplier):\n",
        "    #     if self.order[1] != multiplier.order[0]:\n",
        "    #         raise ValueError(\"The multiplier was non-conformable under multiplication.\")\n",
        "    #     return [[sum(a*b for a,b in zip(srow,mcol)) for mcol in zip(*multiplier.mat)] for srow in self.mat]\n",
        "\n",
        "    # def __imatmul__(self, multiplier):\n",
        "    #     self.mat = self @ multiplier\n",
        "    #     return self.mat\n",
        "\n",
        "    # def __rmatmul__(self, multiplicand):\n",
        "    #     if multiplicand.order[1] != self.order[0]:\n",
        "    #         raise ValueError(\"The multiplier was non-conformable under multiplication.\")\n",
        "    #     return [[sum(a*b for a,b in zip(mrow,scol)) for scol in zip(*self.mat)] for mrow in multiplicand.mat]"
      ]
    },
    {
      "cell_type": "code",
      "execution_count": 19,
      "id": "ee5c5148",
      "metadata": {},
      "outputs": [
        {
          "data": {
            "text/plain": [
              "[[Local(133., proc=6), Local(98., proc=6)],\n",
              " [Local(128., proc=6), Local(100., proc=6)]]"
            ]
          },
          "execution_count": 19,
          "metadata": {},
          "output_type": "execute_result"
        }
      ],
      "source": [
        "# machine[(1,2)]['A']\n",
        "# machine[(1,2)]['B'].T\n",
        "matmul(machine[(1,2)]['A'], machine[(1,2)]['B'].T)"
      ]
    },
    {
      "cell_type": "code",
      "execution_count": 74,
      "id": "2f557b01",
      "metadata": {},
      "outputs": [
        {
          "data": {
            "text/plain": [
              "[Local(5, proc=6), Local(6, proc=6)]"
            ]
          },
          "execution_count": 74,
          "metadata": {},
          "output_type": "execute_result"
        }
      ],
      "source": [
        "# list(zip(*zip(*machine[1,2]['B'])))\n",
        "# list(zip(*machine[1,2]['B'].T))\n",
        "[Local(5,proc=6),Local(6, proc=6)]"
      ]
    },
    {
      "cell_type": "code",
      "execution_count": 17,
      "id": "39327972",
      "metadata": {},
      "outputs": [
        {
          "name": "stdout",
          "output_type": "stream",
          "text": [
            "[Local(133., proc=6), Local(98., proc=6)]\n",
            "[Local(128., proc=6), Local(100., proc=6)]\n"
          ]
        }
      ],
      "source": [
        "for row_a in machine[(1,2)]['A']:\n",
        "    # print(row_a)\n",
        "    rowprod = []\n",
        "    for col_b in list(zip(*machine[1,2]['B'].T)):\n",
        "        # print(col_b)\n",
        "        crossprod = 0\n",
        "        for ele_a, ele_b in zip(row_a, col_b):\n",
        "            # print(ele_a, ele_b)\n",
        "            crossprod += ele_a * ele_b\n",
        "        rowprod.append(crossprod)\n",
        "    print(rowprod)\n",
        "# rowprod"
      ]
    },
    {
      "cell_type": "code",
      "execution_count": 18,
      "id": "d3aa083e",
      "metadata": {},
      "outputs": [],
      "source": [
        "def matmul(a,b):\n",
        "    zip_b = zip(*b)\n",
        "    # uncomment next line if python 3 : \n",
        "    zip_b = list(zip_b)\n",
        "    return [[sum(ele_a*ele_b for ele_a, ele_b in zip(row_a, col_b)) \n",
        "            for col_b in zip_b] for row_a in a]"
      ]
    },
    {
      "cell_type": "code",
      "execution_count": 30,
      "id": "d6fe1078",
      "metadata": {},
      "outputs": [
        {
          "name": "stdout",
          "output_type": "stream",
          "text": [
            "[(1, 1, 3), (2, 2, 4)]\n"
          ]
        },
        {
          "data": {
            "text/plain": [
              "[[12, 18], [27, 42], [42, 66], [57, 90]]"
            ]
          },
          "execution_count": 30,
          "metadata": {},
          "output_type": "execute_result"
        }
      ],
      "source": [
        "x = [[1,2,3],[4,5,6],[7,8,9],[10,11,12]]\n",
        "y = [[1,2],[1,2],[3,4]]\n",
        "print(list(zip(*y)))\n",
        "mx = np.matrix(x)\n",
        "my = np.matrix(y)\n",
        "matmult(x,y)"
      ]
    },
    {
      "cell_type": "markdown",
      "id": "d1aa6dfc",
      "metadata": {
        "id": "d1aa6dfc"
      },
      "source": [
        "<br>"
      ]
    },
    {
      "cell_type": "markdown",
      "id": "48dee9b8",
      "metadata": {
        "id": "48dee9b8"
      },
      "source": [
        "**TASK 5:**\n",
        "\n",
        "Write a Python function that implements global block matrix *transpose* on a `distributed_block_matrix` object.\n",
        "\n",
        "\n",
        "This will require `send` and `receive`. "
      ]
    },
    {
      "cell_type": "code",
      "execution_count": null,
      "id": "31c7d670",
      "metadata": {
        "id": "31c7d670"
      },
      "outputs": [],
      "source": [
        "def transpose_block_matrix(A,B):\n",
        "    \n",
        "    pass"
      ]
    },
    {
      "cell_type": "markdown",
      "id": "71d8107c",
      "metadata": {
        "id": "71d8107c"
      },
      "source": [
        "<br>"
      ]
    },
    {
      "cell_type": "markdown",
      "id": "e1b5cd41",
      "metadata": {
        "id": "e1b5cd41"
      },
      "source": [
        "**TASK 6:**\n",
        "\n",
        "Write a Python function that implements global block matrix *trace* on a `distributed_block_matrix` object.\n",
        "\n",
        "\n",
        "This will require `send` and `receive`."
      ]
    },
    {
      "cell_type": "code",
      "execution_count": null,
      "id": "9d8a6cd2",
      "metadata": {},
      "outputs": [],
      "source": [
        "def trace_block_matrix(A,B):\n",
        "\n",
        "    pass"
      ]
    },
    {
      "cell_type": "markdown",
      "id": "5729a37d",
      "metadata": {
        "id": "5729a37d"
      },
      "source": [
        "<br>"
      ]
    },
    {
      "cell_type": "markdown",
      "id": "878013f6",
      "metadata": {
        "id": "878013f6"
      },
      "source": [
        "**TASK 7:**\n",
        "\n",
        "Include transpose and trace in your `BlockMatrix` class using the same syntax as `numpy`. I.e., `A.T` for transpose and `A.trace()` for trace."
      ]
    },
    {
      "cell_type": "code",
      "execution_count": null,
      "id": "c4a6ad8f",
      "metadata": {},
      "outputs": [],
      "source": []
    },
    {
      "cell_type": "markdown",
      "id": "c1d99e04",
      "metadata": {
        "id": "c1d99e04"
      },
      "source": [
        "<br>"
      ]
    },
    {
      "cell_type": "markdown",
      "id": "12948752",
      "metadata": {
        "id": "12948752"
      },
      "source": [
        "**TASK 8++:**\n",
        "\n",
        "Include anything else useful you might think of regarding matrices in your `BlockMatrix` class. Create some tests and have some fun seeing what you can do. "
      ]
    },
    {
      "cell_type": "code",
      "execution_count": null,
      "id": "411313e0",
      "metadata": {
        "id": "411313e0"
      },
      "outputs": [],
      "source": []
    },
    {
      "cell_type": "markdown",
      "id": "1a63c1c3",
      "metadata": {
        "id": "1a63c1c3"
      },
      "source": [
        "# End Notebook"
      ]
    }
  ],
  "metadata": {
    "colab": {
      "provenance": []
    },
    "kernelspec": {
      "display_name": "hpcpy39",
      "language": "python",
      "name": "python3"
    },
    "language_info": {
      "codemirror_mode": {
        "name": "ipython",
        "version": 3
      },
      "file_extension": ".py",
      "mimetype": "text/x-python",
      "name": "python",
      "nbconvert_exporter": "python",
      "pygments_lexer": "ipython3",
      "version": "3.9.16"
    },
    "vscode": {
      "interpreter": {
        "hash": "ef67bc5c28494f52e18def38d1a12dda353be597dd24bb476cc25516f5de0e84"
      }
    }
  },
  "nbformat": 4,
  "nbformat_minor": 5
}
