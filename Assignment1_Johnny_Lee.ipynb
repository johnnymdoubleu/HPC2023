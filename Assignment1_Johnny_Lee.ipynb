{
  "cells": [
    {
      "attachments": {},
      "cell_type": "markdown",
      "id": "50f1feda",
      "metadata": {
        "id": "50f1feda"
      },
      "source": [
        "# Block matrices and emulated parallelism\n",
        "\n",
        "</br>\n",
        "</br>\n",
        "\n",
        "\n",
        "\n",
        "You all should know how to multiply matrices. In terms of indices, \n",
        "\n",
        "$$\n",
        "\\large\n",
        "\\left[ \\, \\mathbf{A}\\, \\mathbf{B}\\, \\right]_{\\,i,\\,k} \\ = \\ \\sum_{j} [\\, \\mathbf{A} \\, ]_{\\,i,\\,j}\\, [\\,\\mathbf{B} \\,]_{\\,j,\\,k}.\n",
        "$$\n",
        "\n",
        "The notation here is that $[\\,\\mathbf{A} \\,]_{i,j}$ is the $(i,j)$ the element of the matrix $\\mathbf{A}$. Of course, the number of columns of $\\mathbf{A}$ must match the number of rows of $\\mathbf{B}$.\n",
        "\n",
        "\n",
        "</br>\n",
        "</br>\n",
        "\n",
        "A powerful fact about matrices is that matrix multiplication also works in *block* form. For example, \n",
        "\n",
        "$$\n",
        "\\large\n",
        "\\left(\n",
        "\\begin{array}{cc}\n",
        " \\mathbf{A} & \\mathbf{B} \\\\\n",
        " \\mathbf{C} & \\mathbf{D} \\\\\n",
        "\\end{array}\n",
        "\\right)\\left(\n",
        "\\begin{array}{cc}\n",
        " \\mathbf{E} & \\mathbf{F} \\\\\n",
        " \\mathbf{G} & \\mathbf{H} \\\\\n",
        "\\end{array}\n",
        "\\right) \\ = \\ \\left(\n",
        "\\begin{array}{cc}\n",
        " \\mathbf{A\\, E + B\\, G} & \\mathbf{A\\, F + B\\, H} \\\\\n",
        " \\mathbf{C\\, E + D\\, G} & \\mathbf{C\\, F + D\\, H} \\\\\n",
        "\\end{array}\n",
        "\\right)\n",
        "$$\n",
        "\n",
        "Each entry in each matrix can represent an entire matrix, and each multiplication is a matrix multiplication (where we take care to respect commutativity). \n",
        "\n",
        "The block matrix multiplication works straight away if each block is a square matrix of the same size. However, there are many more possibilities."
      ]
    },
    {
      "cell_type": "markdown",
      "id": "05db58e6",
      "metadata": {
        "id": "05db58e6"
      },
      "source": [
        "**Question 0:** What are the *most general* possible size conditions that each matrix, $\\mathbf{A}, \\ldots , \\mathbf{H}$ can take? What are the respective sizes of each output block? What is the total size of each composite matrix on the left- and right-hand sides?"
      ]
    },
    {
      "attachments": {},
      "cell_type": "markdown",
      "id": "cf6b29f3",
      "metadata": {
        "id": "cf6b29f3"
      },
      "source": [
        "**Answer 0: (click on cell to put your answer in Markdown here)**\n",
        "<br>\n",
        "\n",
        "Since we are performing block matrix multiplication,  we need it to be same as the input block and a square matrix. \n"
      ]
    },
    {
      "cell_type": "markdown",
      "id": "9afe2c4e",
      "metadata": {
        "id": "9afe2c4e"
      },
      "source": [
        "**Question 1:** The above block matrices are based on $2\\times 2$ row/column partitions in each case. Now suppose \n",
        "\n",
        "$$\\large\n",
        "\\mathbf{A}\\, \\mathbf{B} \\ = \\ \\mathbf{C},\n",
        "$$\n",
        "\n",
        "where $\\mathbf{A},\\, \\mathbf{B}, \\, \\mathbf{C}$ are three compatible matrices. What is the *most general* partitioning of all three matrices into block structures?"
      ]
    },
    {
      "attachments": {},
      "cell_type": "markdown",
      "id": "0b527301",
      "metadata": {
        "id": "0b527301"
      },
      "source": [
        "**Answer 1: (click on cell to put your answer in Markdown here)**\n",
        "\n",
        "The most general way of partitioning of all three matrices is to divide the matrices equally so that each core can handle it at the same time.\n",
        "Given, an $(m\\times p)$ matrix $\\mathbf{A}$ with $r$ row partitions and $s$ column partitions and a $(p\\times n)$ matrix $\\mathbf{B}$ with a $s$ row partitions and $c$ column partitions that are compatible with the partitions of $\\mathbf{A}$, the matrix product can be formed blcokwise, yielding $\\mathbf{C}$ as an $(m\\times n)$ matrix with $r$ row partitions and $c$ column partitions.\n",
        "\n",
        "<br>"
      ]
    },
    {
      "cell_type": "markdown",
      "id": "8d487450",
      "metadata": {
        "id": "8d487450"
      },
      "source": [
        "<br>"
      ]
    },
    {
      "cell_type": "markdown",
      "id": "e845e823",
      "metadata": {
        "id": "e845e823"
      },
      "source": [
        "## Block matrix data structures\n",
        "\n",
        "\n",
        "Python, in general, and `numpy` in particular, have built-in data structures for handling matrix multiplication, in particular `np.bmat`. \n",
        "\n",
        "If you were interested in working with block matrices in serial, then you would definitely want to use one of the optimised built-in Python tools. However, we are interested in learning how to work *in parallel*. \n",
        "\n",
        "It is a good idea to put different matrix blocks on different processor cores.  \n",
        "\n",
        "### Faux-`Cores` and faux-`Local` arrays \n",
        "\n",
        "In this set of exercises, you'll construct block matrices on fake local processor cores. "
      ]
    },
    {
      "cell_type": "code",
      "execution_count": 1,
      "id": "c08e2de9",
      "metadata": {
        "id": "c08e2de9"
      },
      "outputs": [],
      "source": [
        "import numpy as np\n",
        "#from eMPI import Local, Core"
      ]
    },
    {
      "cell_type": "code",
      "execution_count": 2,
      "id": "9fOt1Lpvn5Fa",
      "metadata": {
        "id": "9fOt1Lpvn5Fa"
      },
      "outputs": [],
      "source": [
        "class NotLocalData(Exception):\n",
        "    pass\n",
        "\n",
        "class Local(np.ndarray):\n",
        "\n",
        "    def __new__(cls, input_array, proc):\n",
        "        obj = np.asarray(input_array).view(cls)\n",
        "        obj.proc = proc\n",
        "        return obj\n",
        "        \n",
        "    def __array_finalize__(self, obj):\n",
        "        if obj is None: return\n",
        "        self.your_new_attr = getattr(obj, 'your_new_attr', None)\n",
        "    \n",
        "    def __str__(self):\n",
        "        return (np.ndarray.__str__(self))\n",
        "        if s[0] not in ('[','(','{'):\n",
        "            return f'Local({s}, proc={self.proc})'\n",
        "        return f\"{s}, proc={self.proc}]\"\n",
        "        \n",
        "    def __repr__(self):\n",
        "        s = (np.ndarray.__repr__(self))[:-1]\n",
        "        return f\"{s}, proc={self.proc})\"\n",
        "    \n",
        "    def __getitem__(self,args):\n",
        "        args = self.check(args)\n",
        "        return Local(np.ndarray.__getitem__(self, args), self.proc)\n",
        "    \n",
        "    def __setitem__(self,args,value):\n",
        "        args  = self.check(args)\n",
        "        value = self.check(value)\n",
        "        return Local(np.ndarray.__setitem__(self, args,value), self.proc)\n",
        "    \n",
        "    @property\n",
        "    def T(self):\n",
        "        return Local(np.ndarray.transpose(self),self.proc)\n",
        "    \n",
        "    def transpose(self):\n",
        "        return self.T\n",
        "    \n",
        "    def trace(self):\n",
        "        return Local(np.ndarray.trace(self),self.proc)\n",
        "    \n",
        "    def __neg__(self):\n",
        "        return Local(np.ndarray.__neg__(self),self.proc)\n",
        "    \n",
        "    def __pos__(self):\n",
        "        return Local(np.ndarray.__pos__(self),self.proc)\n",
        "    \n",
        "    def __abs__(self):\n",
        "        return Local(np.ndarray.__abs__(self),self.proc)\n",
        "    \n",
        "    def __add__(self,other):\n",
        "        other = self.check(other)\n",
        "        return Local(np.ndarray.__add__(self,other),self.proc)\n",
        "    \n",
        "    def __sub__(self,other):\n",
        "        other = self.check(other)\n",
        "        return Local(np.ndarray.__sub__(self,other),self.proc)\n",
        "    \n",
        "    def __mul__(self,other):\n",
        "        other = self.check(other)\n",
        "        return Local(np.ndarray.__mul__(self,other),self.proc)\n",
        "    \n",
        "    def __truediv__(self,other):\n",
        "        other = self.check(other)\n",
        "        return Local(np.ndarray.__truediv__(self,other),self.proc)\n",
        "    \n",
        "    def __floordiv__(self,other):\n",
        "        other = self.check(other)\n",
        "        return Local(np.ndarray.__floordiv__(self,other),self.proc)\n",
        "    \n",
        "    def __mod__(self,other):\n",
        "        other = self.check(other)\n",
        "        return Local(np.ndarray.__mod__(self,other),self.proc)\n",
        "    \n",
        "    def __pow__(self,other):\n",
        "        other = self.check(other)\n",
        "        return Local(np.ndarray.__pow__(self,other),self.proc)\n",
        "    \n",
        "    def __matmul__(self,other):\n",
        "        other = self.check(other)\n",
        "        return Local(np.ndarray.__matmul__(self,other),self.proc)\n",
        "    \n",
        "    def __eq__(self,other):\n",
        "        other = self.check(other)\n",
        "        return Local(np.ndarray.__eq__(self,other),self.proc)\n",
        "    \n",
        "    def __ge__(self,other):\n",
        "        other = self.check(other)\n",
        "        return Local(np.ndarray.__ge__(self,other),self.proc)\n",
        "    \n",
        "    def __le__(self,other):\n",
        "        other = self.check(other)\n",
        "        return Local(np.ndarray.__le__(self,other),self.proc)\n",
        "    \n",
        "    def __gt__(self,other):\n",
        "        other = self.check(other)\n",
        "        return Local(np.ndarray.__gt__(self,other),self.proc)\n",
        "    \n",
        "    def __lt__(self,other):\n",
        "        other = self.check(other)\n",
        "        return Local(np.ndarray.__lt__(self,other),self.proc)\n",
        "    \n",
        "    def __radd__(self,other):\n",
        "        other = self.check(other)\n",
        "        return Local(np.ndarray.__radd__(self,other),self.proc)\n",
        "    \n",
        "    def __rsub__(self,other):\n",
        "        other = self.check(other)\n",
        "        return Local(np.ndarray.__rsub__(self,other),self.proc)\n",
        "    \n",
        "    def __rmul__(self,other):\n",
        "        other = self.check(other)\n",
        "        return Local(np.ndarray.__rmul__(self,other),self.proc)\n",
        "    \n",
        "    def __rtruediv__(self,other):\n",
        "        other = self.check(other)\n",
        "        return Local(np.ndarray.__rtruediv__(self,other),self.proc)\n",
        "    \n",
        "    def __rfloordiv__(self,other):\n",
        "        other = self.check(other)\n",
        "        return Local(np.ndarray.__rfloordiv__(self,other),self.proc)\n",
        "    \n",
        "    def __rmod__(self,other):\n",
        "        other = self.check(other)\n",
        "        return Local(np.ndarray.__rmod__(self,other),self.proc)\n",
        "    \n",
        "    def __rpow__(self,other):\n",
        "        other = self.check(other)\n",
        "        return Local(np.ndarray.__rpow__(self,other),self.proc)\n",
        "    \n",
        "    def __req__(self,other):\n",
        "        other = self.check(other)\n",
        "        return Local(np.ndarray.__req__(self,other),self.proc)\n",
        "    \n",
        "    def __ge__(self,other):\n",
        "        other = self.check(other)\n",
        "        return Local(np.ndarray.__rge__(self,other),self.proc)\n",
        "    \n",
        "    def __rle__(self,other):\n",
        "        other = self.check(other)\n",
        "        return Local(np.ndarray.__rle__(self,other),self.proc)\n",
        "    \n",
        "    def __rgt__(self,other):\n",
        "        other = self.check(other)\n",
        "        return Local(np.ndarray.__rgt__(self,other),self.proc)\n",
        "    \n",
        "    def __rlt__(self,other):\n",
        "        other = self.check(other)\n",
        "        return Local(np.ndarray.__rlt__(self,other),self.proc)\n",
        "    \n",
        "    def check(self,other):\n",
        "        if other is None:\n",
        "            return other\n",
        "        \n",
        "        if isinstance(other,(int, float, complex)):\n",
        "            return Local(other,self.proc)\n",
        "        \n",
        "        if isinstance(other, slice):\n",
        "            for e in [other.start, other.stop, other.step]:\n",
        "                self.check(e)\n",
        "            return other\n",
        "        \n",
        "        if isinstance(other, (list, tuple)):\n",
        "            return type(other)([self.check(e) for e in other])\n",
        "        \n",
        "        if not isinstance(other, Local):\n",
        "            raise NotLocalData('Data is not local to any core.')\n",
        "        \n",
        "        if self.proc != other.proc:\n",
        "            raise NotLocalData('The data is not local.')\n",
        "        \n",
        "        return other\n",
        "\n",
        "\n",
        "class Core():\n",
        "    \n",
        "    def __init__(self,proc):\n",
        "        self.proc = proc \n",
        "        self.memory = {}\n",
        "        self.buffer = {}\n",
        "    \n",
        "    def __str__(self):\n",
        "        return \"Core(\"+str(self.proc)+')'\n",
        "    \n",
        "    def __repr__(self):\n",
        "        return str(self)\n",
        "    \n",
        "    def __getitem__(self,item):\n",
        "        return self.memory[item]\n",
        "    \n",
        "    def __setitem__(self,item,value):\n",
        "        self.memory[item] = Local(value,self.proc)\n",
        "        \n",
        "    def send(self,other,data):\n",
        "        other.buffer[self.proc,data] = Local(self[data],other.proc)\n",
        "        \n",
        "    def receive(self,other,data,out=None):\n",
        "        if out == None: out = data\n",
        "        self[out] = self.buffer[other.proc,data]\n",
        "        del self.buffer[other.proc,data]\n"
      ]
    },
    {
      "cell_type": "markdown",
      "id": "ece81890",
      "metadata": {
        "id": "ece81890"
      },
      "source": [
        "<br>"
      ]
    },
    {
      "attachments": {},
      "cell_type": "markdown",
      "id": "adfa5565",
      "metadata": {
        "id": "adfa5565"
      },
      "source": [
        "**TASK 0.a:**\n",
        "\n",
        "Consider a block matrix with row paritions $[m_{0}, \\ldots, m_{r-1}]$ and column paritions $[n_{0}, \\ldots, n_{c-1}]$. \n",
        "\n",
        "Make a Python function that creates a distributed block matrix across $r \\times c$ faux-`Core` objects (as we saw in lecture).\n",
        "\n",
        "The result should be a `dictionary` of `Core` objects. Each `Core` should have an $m_{i} \\times n_{j}$ array filled with zeros.  "
      ]
    },
    {
      "cell_type": "code",
      "execution_count": 3,
      "id": "ec50b99b",
      "metadata": {},
      "outputs": [],
      "source": [
        "# total_rows = 3\n",
        "# total_cols = 4\n",
        "rPart = [2,2]\n",
        "cPart = [2,2]\n",
        "machine = {(i, j): Core(i * len(cPart) + j) for i in range(len(rPart)) for j in range(len(cPart))}"
      ]
    },
    {
      "cell_type": "code",
      "execution_count": 4,
      "id": "6c38d201",
      "metadata": {
        "id": "6c38d201"
      },
      "outputs": [],
      "source": [
        "def distributed_block_matrix(name, row_partitions, column_partitions):\n",
        "    # machine = {(i, j): Core(i * total_cols + j) for i in range(len(row_partitions)) for j in range(len(column_partitions))}\n",
        "    for i, row in enumerate(row_partitions):\n",
        "        for j, col in enumerate(column_partitions):\n",
        "            # for `k in range(row_partitions[i]):\n",
        "                machine[(i,j)][name] = np.zeros((row, col))"
      ]
    },
    {
      "cell_type": "code",
      "execution_count": 5,
      "id": "3ff8b370",
      "metadata": {},
      "outputs": [
        {
          "name": "stdout",
          "output_type": "stream",
          "text": [
            "{'A': Local([[0., 0.],\n",
            "       [0., 0.]], proc=0)}\n",
            "{'A': Local([[0., 0.],\n",
            "       [0., 0.]], proc=1)}\n",
            "{'A': Local([[0., 0.],\n",
            "       [0., 0.]], proc=2)}\n",
            "{'A': Local([[0., 0.],\n",
            "       [0., 0.]], proc=3)}\n"
          ]
        }
      ],
      "source": [
        "# Test with Toy Example\n",
        "\n",
        "# machine = {(i, j): Core(i * total_cols + j) for i in range(len(rPart)) for j in range(len(cPart))}\n",
        "\n",
        "distributed_block_matrix('A', rPart, cPart)\n",
        "for key in machine:\n",
        "    print(machine[key].memory)\n",
        "# machine"
      ]
    },
    {
      "cell_type": "markdown",
      "id": "508cceea",
      "metadata": {
        "id": "508cceea"
      },
      "source": [
        "<br>"
      ]
    },
    {
      "cell_type": "markdown",
      "id": "03dc6462",
      "metadata": {
        "id": "03dc6462"
      },
      "source": [
        "**TASK 0.b:**\n",
        "\n",
        "Write a Python function that fills your `distributed_block_matrix` with some number. You can do this any way you like. You can put random numbers in, or some interesting structure you might like."
      ]
    },
    {
      "cell_type": "code",
      "execution_count": 6,
      "id": "e51ac49d",
      "metadata": {
        "id": "e51ac49d"
      },
      "outputs": [],
      "source": [
        "def fill_block_matrix(A):\n",
        "    # j = 0\n",
        "    for key in machine:\n",
        "        for i in range(len(machine[key][A])):\n",
        "            machine[key][A][i] = Local(np.random.randint(0,9,len(machine[key][A][i])), proc=machine[key][A].proc)\n",
        "        # j += 1"
      ]
    },
    {
      "attachments": {},
      "cell_type": "markdown",
      "id": "3a973844",
      "metadata": {},
      "source": [
        "I wrote a function that replace zeros from a randomly generated value between $0$ and $9$"
      ]
    },
    {
      "cell_type": "code",
      "execution_count": 7,
      "id": "451596aa",
      "metadata": {},
      "outputs": [
        {
          "name": "stdout",
          "output_type": "stream",
          "text": [
            "{'A': Local([[0., 3.],\n",
            "       [5., 5.]], proc=0)}\n",
            "{'A': Local([[7., 8.],\n",
            "       [2., 7.]], proc=1)}\n",
            "{'A': Local([[6., 7.],\n",
            "       [8., 7.]], proc=2)}\n",
            "{'A': Local([[6., 4.],\n",
            "       [0., 2.]], proc=3)}\n"
          ]
        }
      ],
      "source": [
        "# Test with Toy Example\n",
        "fill_block_matrix('A')\n",
        "machine\n",
        "for key in machine:\n",
        "    print(machine[key].memory)"
      ]
    },
    {
      "cell_type": "markdown",
      "id": "a2909e2a",
      "metadata": {
        "id": "a2909e2a"
      },
      "source": [
        "<br>"
      ]
    },
    {
      "cell_type": "markdown",
      "id": "e7c4b214",
      "metadata": {
        "id": "e7c4b214"
      },
      "source": [
        "**TASK 1:**\n",
        "\n",
        "Create a function that element-wise adds two `distributed_block_matrix` objects.\n",
        "\n",
        "In TASK 1, make your function assume the blocks of the two matrices are the same shape. "
      ]
    },
    {
      "cell_type": "code",
      "execution_count": 8,
      "id": "d632b0a0",
      "metadata": {
        "id": "d632b0a0"
      },
      "outputs": [],
      "source": [
        "def add_block_matrix(A,B):\n",
        "    # C = {(i, j): Core(i * total_cols + j) for i in range(len(rPart)) for j in range(len(cPart))}\n",
        "    for key in machine:\n",
        "        machine[key]['A+B'] = machine[key][A] + machine[key][B]"
      ]
    },
    {
      "cell_type": "code",
      "execution_count": 9,
      "id": "457525bc",
      "metadata": {},
      "outputs": [
        {
          "name": "stdout",
          "output_type": "stream",
          "text": [
            "{'A': Local([[0., 3.],\n",
            "       [5., 5.]], proc=0), 'B': Local([[6., 0.],\n",
            "       [7., 3.]], proc=0), 'A+B': Local([[ 6.,  3.],\n",
            "       [12.,  8.]], proc=0)}\n",
            "{'A': Local([[7., 8.],\n",
            "       [2., 7.]], proc=1), 'B': Local([[7., 7.],\n",
            "       [6., 4.]], proc=1), 'A+B': Local([[14., 15.],\n",
            "       [ 8., 11.]], proc=1)}\n",
            "{'A': Local([[6., 7.],\n",
            "       [8., 7.]], proc=2), 'B': Local([[0., 1.],\n",
            "       [2., 5.]], proc=2), 'A+B': Local([[ 6.,  8.],\n",
            "       [10., 12.]], proc=2)}\n",
            "{'A': Local([[6., 4.],\n",
            "       [0., 2.]], proc=3), 'B': Local([[4., 4.],\n",
            "       [6., 5.]], proc=3), 'A+B': Local([[10.,  8.],\n",
            "       [ 6.,  7.]], proc=3)}\n"
          ]
        }
      ],
      "source": [
        "distributed_block_matrix('B', rPart, cPart)\n",
        "fill_block_matrix('B')\n",
        "distributed_block_matrix('A+B', rPart, cPart)\n",
        "add_block_matrix('A','B')\n",
        "for key in machine:\n",
        "    print(machine[key].memory)"
      ]
    },
    {
      "cell_type": "markdown",
      "id": "764e45c4",
      "metadata": {
        "id": "764e45c4"
      },
      "source": [
        "<br>"
      ]
    },
    {
      "cell_type": "markdown",
      "id": "54067583",
      "metadata": {
        "id": "54067583"
      },
      "source": [
        "**TASK 2:**\n",
        "\n",
        "Make a Python `class` that contains `distributed_block_matrix` objects and computes `__add__` using your implementation from TASK 1. "
      ]
    },
    {
      "cell_type": "code",
      "execution_count": 115,
      "id": "9a87f9e4",
      "metadata": {
        "id": "9a87f9e4"
      },
      "outputs": [],
      "source": [
        "class BlockMatrix():\n",
        "    def __init__(self, x):\n",
        "        self.x = x\n",
        "        self._machine = {key: core[x] for key, core in machine.items()}\n",
        "        # self._machine = {key: core[x] for key, core in machine.items()}\n",
        "    \n",
        "    @property\n",
        "    def T(self):\n",
        "        new_key = self.x + \"Trans\"\n",
        "        for i in range(len(rPart)):\n",
        "            for j in range(len(cPart)):\n",
        "                machine[(i,j)][new_key] = machine[(j,i)][self.x]\n",
        "                machine[(i,j)][new_key] = np.ndarray.transpose(machine[(i,j)][new_key])\n",
        "        return BlockMatrix(new_key)\n",
        "\n",
        "    def __add__(self, other):\n",
        "        new_key = self.x + '+' + other.x\n",
        "        for key in machine:\n",
        "            machine[key][new_key] = machine[key][self.x] + machine[key][other.x]\n",
        "        return BlockMatrix(new_key)\n",
        "    \n",
        "    def __neg__(self):\n",
        "        new_key = '-(' + self.x + ')'\n",
        "        for key in machine:\n",
        "            machine[key][new_key] = machine[key][self.x] * -1\n",
        "        return BlockMatrix(new_key)\n",
        "\n",
        "    def __sub__(self, other):\n",
        "        new_key = self.x + '-' + other.x\n",
        "        for key in machine:\n",
        "            machine[key][new_key] = machine[key][self.x] - machine[key][other.x]\n",
        "        return BlockMatrix(new_key)\n",
        "\n",
        "    def __mul__(self, other):\n",
        "        new_key = self.x + other.x\n",
        "        for key in machine:\n",
        "            machine[key][new_key] = machine[key][self.x] * machine[key][other.x]\n",
        "        return BlockMatrix(new_key)"
      ]
    },
    {
      "cell_type": "code",
      "execution_count": 118,
      "id": "492e5b5a",
      "metadata": {},
      "outputs": [
        {
          "data": {
            "text/plain": [
              "{(0,\n",
              "  0): Local([[0., 5.],\n",
              "        [3., 5.]], proc=0),\n",
              " (0,\n",
              "  1): Local([[6., 8.],\n",
              "        [7., 7.]], proc=1),\n",
              " (1,\n",
              "  0): Local([[7., 2.],\n",
              "        [8., 7.]], proc=2),\n",
              " (1,\n",
              "  1): Local([[6., 0.],\n",
              "        [4., 2.]], proc=3)}"
            ]
          },
          "execution_count": 118,
          "metadata": {},
          "output_type": "execute_result"
        }
      ],
      "source": [
        "A.T._machine"
      ]
    },
    {
      "cell_type": "code",
      "execution_count": 116,
      "id": "a3554190",
      "metadata": {},
      "outputs": [
        {
          "data": {
            "text/plain": [
              "[{'A': Local([[0., 3.],\n",
              "         [5., 5.]], proc=0),\n",
              "  'B': Local([[6., 0.],\n",
              "         [7., 3.]], proc=0),\n",
              "  'A+B': Local([[ 6.,  3.],\n",
              "         [12.,  8.]], proc=0),\n",
              "  'A+B+B': Local([[12.,  3.],\n",
              "         [19., 11.]], proc=0),\n",
              "  '-(A)': Local([[-0., -3.],\n",
              "         [-5., -5.]], proc=0),\n",
              "  'A-B': Local([[-6.,  3.],\n",
              "         [-2.,  2.]], proc=0),\n",
              "  'AB': Local([[ 0.,  0.],\n",
              "         [35., 15.]], proc=0),\n",
              "  'H': Local([[37., 56.],\n",
              "         [79., 52.]], proc=0),\n",
              "  'e_temp': Local([[18., 12.],\n",
              "         [65., 55.]], proc=0),\n",
              "  'temp': Local([[16., 47.],\n",
              "         [14., 37.]], proc=0),\n",
              "  'ATrans': Local([[0., 5.],\n",
              "         [3., 5.]], proc=0)},\n",
              " {'A': Local([[7., 8.],\n",
              "         [2., 7.]], proc=1),\n",
              "  'B': Local([[7., 7.],\n",
              "         [6., 4.]], proc=1),\n",
              "  'A+B': Local([[14., 15.],\n",
              "         [ 8., 11.]], proc=1),\n",
              "  'A+B+B': Local([[21., 22.],\n",
              "         [14., 15.]], proc=1),\n",
              "  '-(A)': Local([[-7., -8.],\n",
              "         [-2., -7.]], proc=1),\n",
              "  'A-B': Local([[ 0.,  1.],\n",
              "         [-4.,  3.]], proc=1),\n",
              "  'AB': Local([[49., 56.],\n",
              "         [12., 28.]], proc=1),\n",
              "  'H': Local([[ 94.,  80.],\n",
              "         [115.,  98.]], proc=1),\n",
              "  'e_temp': Local([[76., 68.],\n",
              "         [50., 43.]], proc=1),\n",
              "  'temp': Local([[18., 12.],\n",
              "         [65., 55.]], proc=1),\n",
              "  'ATrans': Local([[6., 8.],\n",
              "         [7., 7.]], proc=1)},\n",
              " {'A': Local([[6., 7.],\n",
              "         [8., 7.]], proc=2),\n",
              "  'B': Local([[0., 1.],\n",
              "         [2., 5.]], proc=2),\n",
              "  'A+B': Local([[ 6.,  8.],\n",
              "         [10., 12.]], proc=2),\n",
              "  'A+B+B': Local([[ 6.,  9.],\n",
              "         [12., 17.]], proc=2),\n",
              "  '-(A)': Local([[-6., -7.],\n",
              "         [-8., -7.]], proc=2),\n",
              "  'A-B': Local([[6., 6.],\n",
              "         [6., 2.]], proc=2),\n",
              "  'AB': Local([[ 0.,  7.],\n",
              "         [16., 35.]], proc=2),\n",
              "  'H': Local([[ 93.,  47.],\n",
              "         [101.,  31.]], proc=2),\n",
              "  'e_temp': Local([[84., 70.],\n",
              "         [98., 84.]], proc=2),\n",
              "  'temp': Local([[ 8., 26.],\n",
              "         [ 4., 10.]], proc=2),\n",
              "  'ATrans': Local([[7., 2.],\n",
              "         [8., 7.]], proc=2)},\n",
              " {'A': Local([[6., 4.],\n",
              "         [0., 2.]], proc=3),\n",
              "  'B': Local([[4., 4.],\n",
              "         [6., 5.]], proc=3),\n",
              "  'A+B': Local([[10.,  8.],\n",
              "         [ 6.,  7.]], proc=3),\n",
              "  'A+B+B': Local([[14., 12.],\n",
              "         [12., 12.]], proc=3),\n",
              "  '-(A)': Local([[-6., -4.],\n",
              "         [-0., -2.]], proc=3),\n",
              "  'A-B': Local([[ 2.,  0.],\n",
              "         [-6., -3.]], proc=3),\n",
              "  'AB': Local([[24., 16.],\n",
              "         [ 0., 10.]], proc=3),\n",
              "  'H': Local([[132., 114.],\n",
              "         [110.,  94.]], proc=3),\n",
              "  'e_temp': Local([[48., 44.],\n",
              "         [12., 10.]], proc=3),\n",
              "  'temp': Local([[84., 70.],\n",
              "         [98., 84.]], proc=3),\n",
              "  'ATrans': Local([[6., 0.],\n",
              "         [4., 2.]], proc=3)}]"
            ]
          },
          "execution_count": 116,
          "metadata": {},
          "output_type": "execute_result"
        }
      ],
      "source": [
        "A = BlockMatrix('A')  # In MACHINE \n",
        "B = BlockMatrix('B')\n",
        "\n",
        "C = A + B\n",
        "D = C + B\n",
        "[core.memory for core in machine.values()]"
      ]
    },
    {
      "cell_type": "markdown",
      "id": "f26411ac",
      "metadata": {
        "id": "f26411ac"
      },
      "source": [
        "<br>"
      ]
    },
    {
      "cell_type": "markdown",
      "id": "b1072336",
      "metadata": {
        "id": "b1072336"
      },
      "source": [
        "**TASK 3:**\n",
        "\n",
        "Include all other element-wise matrix operations you can think of, e.g., \n",
        "\n",
        "* `__neg__`, i.e., `-A`\n",
        "\n",
        "\n",
        "* `__sub__` i.e., `A - B`\n",
        "\n",
        "\n",
        "* `__mul__` i.e., `A * B`\n",
        "\n",
        "\n",
        "* etc\n",
        "\n",
        "Note, `__mul__` is *not* matrix multiplication. It is element-wise multiplication. "
      ]
    },
    {
      "cell_type": "code",
      "execution_count": 12,
      "id": "648f00cd",
      "metadata": {},
      "outputs": [
        {
          "data": {
            "text/plain": [
              "[{'A': Local([[0., 3.],\n",
              "         [5., 5.]], proc=0),\n",
              "  'B': Local([[6., 0.],\n",
              "         [7., 3.]], proc=0),\n",
              "  'A+B': Local([[ 6.,  3.],\n",
              "         [12.,  8.]], proc=0),\n",
              "  'A+B+B': Local([[12.,  3.],\n",
              "         [19., 11.]], proc=0),\n",
              "  '-(A)': Local([[-0., -3.],\n",
              "         [-5., -5.]], proc=0),\n",
              "  'A-B': Local([[-6.,  3.],\n",
              "         [-2.,  2.]], proc=0),\n",
              "  'AB': Local([[ 0.,  0.],\n",
              "         [35., 15.]], proc=0)},\n",
              " {'A': Local([[7., 8.],\n",
              "         [2., 7.]], proc=1),\n",
              "  'B': Local([[7., 7.],\n",
              "         [6., 4.]], proc=1),\n",
              "  'A+B': Local([[14., 15.],\n",
              "         [ 8., 11.]], proc=1),\n",
              "  'A+B+B': Local([[21., 22.],\n",
              "         [14., 15.]], proc=1),\n",
              "  '-(A)': Local([[-7., -8.],\n",
              "         [-2., -7.]], proc=1),\n",
              "  'A-B': Local([[ 0.,  1.],\n",
              "         [-4.,  3.]], proc=1),\n",
              "  'AB': Local([[49., 56.],\n",
              "         [12., 28.]], proc=1)},\n",
              " {'A': Local([[6., 7.],\n",
              "         [8., 7.]], proc=2),\n",
              "  'B': Local([[0., 1.],\n",
              "         [2., 5.]], proc=2),\n",
              "  'A+B': Local([[ 6.,  8.],\n",
              "         [10., 12.]], proc=2),\n",
              "  'A+B+B': Local([[ 6.,  9.],\n",
              "         [12., 17.]], proc=2),\n",
              "  '-(A)': Local([[-6., -7.],\n",
              "         [-8., -7.]], proc=2),\n",
              "  'A-B': Local([[6., 6.],\n",
              "         [6., 2.]], proc=2),\n",
              "  'AB': Local([[ 0.,  7.],\n",
              "         [16., 35.]], proc=2)},\n",
              " {'A': Local([[6., 4.],\n",
              "         [0., 2.]], proc=3),\n",
              "  'B': Local([[4., 4.],\n",
              "         [6., 5.]], proc=3),\n",
              "  'A+B': Local([[10.,  8.],\n",
              "         [ 6.,  7.]], proc=3),\n",
              "  'A+B+B': Local([[14., 12.],\n",
              "         [12., 12.]], proc=3),\n",
              "  '-(A)': Local([[-6., -4.],\n",
              "         [-0., -2.]], proc=3),\n",
              "  'A-B': Local([[ 2.,  0.],\n",
              "         [-6., -3.]], proc=3),\n",
              "  'AB': Local([[24., 16.],\n",
              "         [ 0., 10.]], proc=3)}]"
            ]
          },
          "execution_count": 12,
          "metadata": {},
          "output_type": "execute_result"
        }
      ],
      "source": [
        "E = -A\n",
        "# F = A.__sub__(B)\n",
        "F = A - B\n",
        "G = A * B\n",
        "[core.memory for core in machine.values()]"
      ]
    },
    {
      "cell_type": "markdown",
      "id": "ea804043",
      "metadata": {
        "id": "ea804043"
      },
      "source": [
        "<br>"
      ]
    },
    {
      "cell_type": "markdown",
      "id": "b9ed5d3e",
      "metadata": {
        "id": "b9ed5d3e"
      },
      "source": [
        "**TASK 4:**\n",
        "\n",
        "Write a Python function that implements block *matrix multiplication* on a `distributed_block_matrix` object.\n",
        "\n",
        "\n",
        "This will require `send` and `receive`."
      ]
    },
    {
      "cell_type": "code",
      "execution_count": 13,
      "id": "cb3857e8",
      "metadata": {},
      "outputs": [],
      "source": [
        "distributed_block_matrix('H', rPart, cPart)\n",
        "H = BlockMatrix('H')"
      ]
    },
    {
      "cell_type": "code",
      "execution_count": 14,
      "id": "a76bf1b1",
      "metadata": {},
      "outputs": [
        {
          "data": {
            "text/plain": [
              "{(0,\n",
              "  0): Local([[0., 0.],\n",
              "        [0., 0.]], proc=0),\n",
              " (0,\n",
              "  1): Local([[0., 0.],\n",
              "        [0., 0.]], proc=1),\n",
              " (1,\n",
              "  0): Local([[0., 0.],\n",
              "        [0., 0.]], proc=2),\n",
              " (1,\n",
              "  1): Local([[0., 0.],\n",
              "        [0., 0.]], proc=3)}"
            ]
          },
          "execution_count": 14,
          "metadata": {},
          "output_type": "execute_result"
        }
      ],
      "source": [
        "H = BlockMatrix('H')\n",
        "H._machine"
      ]
    },
    {
      "cell_type": "code",
      "execution_count": 15,
      "id": "0907800d",
      "metadata": {
        "id": "0907800d"
      },
      "outputs": [],
      "source": [
        "def matrix_multiply_block_matrix(A,B):\n",
        "    cores = [k for k, v in machine.items()]\n",
        "    for i in range(len(rPart)):\n",
        "        for j in range(len(cPart)):\n",
        "            for k in range(len(rPart)):\n",
        "                sradd(cores[srmult((k,j), B, (i,k), A).proc], (i,j))\n",
        "    # machine[(0,0)]['H'] = (machine[(0,0)]['A'] @ machine[(0,0)]['B']) + (machine[(0,1)]['A'] @ machine[(1,0)]['B'])\n",
        "    # machine[(0,1)]['H'] = (machine[(0,0)]['A'] @ machine[(0,1)]['B']) + (machine[(0,1)]['A'] @ machine[(1,1)]['B'])\n",
        "    # machine[(1,0)]['H'] = (machine[(1,0)]['A'] @ machine[(0,0)]['B']) + (machine[(1,1)]['A'] @ machine[(1,0)]['B'])\n",
        "    # machine[(1,1)]['H'] = (machine[(1,0)]['A'] @ machine[(0,1)]['B']) + (machine[(1,1)]['A'] @ machine[(1,1)]['B'])\n",
        "\n",
        "# srmult() performs matrix multiplication and if the two matrices belong in different cores, it will perform send and receive prior to matrix multiplication    \n",
        "def srmult(ocore, B, core, A): #old core, name of data, new core, name of data\n",
        "    if ocore != core:\n",
        "        machine[ocore].send(machine[core], B.x)\n",
        "        machine[core].receive(machine[ocore], B.x, out='e_temp')\n",
        "        machine[core]['e_temp'] = machine[core][A.x] @ machine[core]['e_temp']\n",
        "    else :\n",
        "        machine[core]['e_temp'] = machine[core][A.x] @ machine[core][B.x]\n",
        "    return machine[core]['e_temp']\n",
        "\n",
        "# sradd() performs matrix addition by sending and receivng to the designated data name.\n",
        "def sradd(ocore, core):\n",
        "    if ocore != core:\n",
        "        machine[ocore].send(machine[core], 'e_temp')\n",
        "        machine[core].receive(machine[ocore], 'e_temp', out='temp')\n",
        "        machine[core]['H'] = machine[core]['H'] + machine[core]['temp']\n",
        "        # del machine[core].memory['temp']\n",
        "    else :\n",
        "        machine[core]['H'] = machine[core]['H'] + machine[core]['e_temp']\n",
        "    return machine[core]['H']"
      ]
    },
    {
      "cell_type": "code",
      "execution_count": 16,
      "id": "4fea2826",
      "metadata": {},
      "outputs": [
        {
          "data": {
            "text/plain": [
              "{(0,\n",
              "  0): Local([[37., 56.],\n",
              "        [79., 52.]], proc=0),\n",
              " (0,\n",
              "  1): Local([[ 94.,  80.],\n",
              "        [115.,  98.]], proc=1),\n",
              " (1,\n",
              "  0): Local([[ 93.,  47.],\n",
              "        [101.,  31.]], proc=2),\n",
              " (1,\n",
              "  1): Local([[132., 114.],\n",
              "        [110.,  94.]], proc=3)}"
            ]
          },
          "execution_count": 16,
          "metadata": {},
          "output_type": "execute_result"
        }
      ],
      "source": [
        "# Toy example performing 2 X 2 block matrices\n",
        "\n",
        "A = BlockMatrix('A')  # In MACHINE \n",
        "B = BlockMatrix('B')\n",
        "matrix_multiply_block_matrix(A, B)\n",
        "\n",
        "H = BlockMatrix('H')\n",
        "H._machine"
      ]
    },
    {
      "cell_type": "code",
      "execution_count": 438,
      "id": "e222e33f",
      "metadata": {},
      "outputs": [],
      "source": [
        "# def srassign(core, mach):\n",
        "#     cores = [k for k, v in machine.items()]\n",
        "#     if cores[mach.proc] != core:\n",
        "#         machine[cores[mach.proc]].send(machine[core], 'temp')\n",
        "#         machine[core].receive(machine[cores[mach.proc]], 'temp', out='H')\n",
        "#     else:\n",
        "#         machine[core]['H'] = mach\n",
        "#     return machine[core]['H']"
      ]
    },
    {
      "cell_type": "markdown",
      "id": "d1aa6dfc",
      "metadata": {
        "id": "d1aa6dfc"
      },
      "source": [
        "<br>"
      ]
    },
    {
      "cell_type": "markdown",
      "id": "48dee9b8",
      "metadata": {
        "id": "48dee9b8"
      },
      "source": [
        "**TASK 5:**\n",
        "\n",
        "Write a Python function that implements global block matrix *transpose* on a `distributed_block_matrix` object.\n",
        "\n",
        "\n",
        "This will require `send` and `receive`. "
      ]
    },
    {
      "cell_type": "code",
      "execution_count": 98,
      "id": "31c7d670",
      "metadata": {
        "id": "31c7d670"
      },
      "outputs": [],
      "source": [
        "def transpose_block_matrix(A):\n",
        "    for i in range(len(rPart)):\n",
        "        for j in range(len(cPart)):\n",
        "            machine[(i,j)][(A.x+\"Trans\")] = machine[(j,i)][A.x]\n",
        "            machine[(i,j)][(A.x+\"Trans\")] = np.ndarray.transpose(machine[(i,j)][(A.x+\"Trans\")])\n",
        "        # return( BlockMatrix((A.x+\"Trans\")))"
      ]
    },
    {
      "cell_type": "code",
      "execution_count": 99,
      "id": "b1a5df9d",
      "metadata": {},
      "outputs": [
        {
          "name": "stdout",
          "output_type": "stream",
          "text": [
            "{(0, 0): Local([[0., 3.],\n",
            "       [5., 5.]], proc=0), (0, 1): Local([[7., 8.],\n",
            "       [2., 7.]], proc=1), (1, 0): Local([[6., 7.],\n",
            "       [8., 7.]], proc=2), (1, 1): Local([[6., 4.],\n",
            "       [0., 2.]], proc=3)}\n",
            "{(0, 0): Local([[0., 5.],\n",
            "       [3., 5.]], proc=0), (0, 1): Local([[6., 8.],\n",
            "       [7., 7.]], proc=1), (1, 0): Local([[7., 2.],\n",
            "       [8., 7.]], proc=2), (1, 1): Local([[6., 0.],\n",
            "       [4., 2.]], proc=3)}\n"
          ]
        }
      ],
      "source": [
        "#There is no need to send and receive as we are exchanging the positions of the core rather exchanging the data between the cores\n",
        "print(A._machine)\n",
        "transpose_block_matrix(A)\n",
        "ATrans = BlockMatrix('ATrans')\n",
        "print(ATrans._machine)"
      ]
    },
    {
      "cell_type": "markdown",
      "id": "71d8107c",
      "metadata": {
        "id": "71d8107c"
      },
      "source": [
        "<br>"
      ]
    },
    {
      "cell_type": "markdown",
      "id": "e1b5cd41",
      "metadata": {
        "id": "e1b5cd41"
      },
      "source": [
        "**TASK 6:**\n",
        "\n",
        "Write a Python function that implements global block matrix *trace* on a `distributed_block_matrix` object.\n",
        "\n",
        "\n",
        "This will require `send` and `receive`."
      ]
    },
    {
      "cell_type": "code",
      "execution_count": null,
      "id": "9d8a6cd2",
      "metadata": {},
      "outputs": [],
      "source": [
        "def trace_block_matrix(A):\n",
        "    for i in range(len(rPart):\n",
        "        for j in range(len(cPart)):\n",
        "            if i == j:\n",
        "                machinemachine[(i,j)][A.x].trace()\n",
        "    pass"
      ]
    },
    {
      "cell_type": "markdown",
      "id": "5729a37d",
      "metadata": {
        "id": "5729a37d"
      },
      "source": [
        "<br>"
      ]
    },
    {
      "cell_type": "markdown",
      "id": "878013f6",
      "metadata": {
        "id": "878013f6"
      },
      "source": [
        "**TASK 7:**\n",
        "\n",
        "Include transpose and trace in your `BlockMatrix` class using the same syntax as `numpy`. I.e., `A.T` for transpose and `A.trace()` for trace."
      ]
    },
    {
      "cell_type": "code",
      "execution_count": 76,
      "id": "c4a6ad8f",
      "metadata": {},
      "outputs": [
        {
          "data": {
            "text/plain": [
              "<bound method BlockMatrix.T of <__main__.BlockMatrix object at 0x0000022692868EB0>>"
            ]
          },
          "execution_count": 76,
          "metadata": {},
          "output_type": "execute_result"
        }
      ],
      "source": [
        "A = BlockMatrix('A')\n",
        "A.T\n",
        "# A.T._machine"
      ]
    },
    {
      "cell_type": "markdown",
      "id": "c1d99e04",
      "metadata": {
        "id": "c1d99e04"
      },
      "source": [
        "<br>"
      ]
    },
    {
      "cell_type": "markdown",
      "id": "12948752",
      "metadata": {
        "id": "12948752"
      },
      "source": [
        "**TASK 8++:**\n",
        "\n",
        "Include anything else useful you might think of regarding matrices in your `BlockMatrix` class. Create some tests and have some fun seeing what you can do. "
      ]
    },
    {
      "cell_type": "code",
      "execution_count": null,
      "id": "411313e0",
      "metadata": {
        "id": "411313e0"
      },
      "outputs": [],
      "source": []
    },
    {
      "cell_type": "markdown",
      "id": "1a63c1c3",
      "metadata": {
        "id": "1a63c1c3"
      },
      "source": [
        "# End Notebook"
      ]
    }
  ],
  "metadata": {
    "colab": {
      "provenance": []
    },
    "kernelspec": {
      "display_name": "hpcpy39",
      "language": "python",
      "name": "python3"
    },
    "language_info": {
      "codemirror_mode": {
        "name": "ipython",
        "version": 3
      },
      "file_extension": ".py",
      "mimetype": "text/x-python",
      "name": "python",
      "nbconvert_exporter": "python",
      "pygments_lexer": "ipython3",
      "version": "3.9.16"
    },
    "vscode": {
      "interpreter": {
        "hash": "ef67bc5c28494f52e18def38d1a12dda353be597dd24bb476cc25516f5de0e84"
      }
    }
  },
  "nbformat": 4,
  "nbformat_minor": 5
}
